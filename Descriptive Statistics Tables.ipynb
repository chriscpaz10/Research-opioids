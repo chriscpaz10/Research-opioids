{
 "cells": [
  {
   "cell_type": "code",
   "execution_count": 1,
   "metadata": {},
   "outputs": [
    {
     "name": "stdout",
     "output_type": "stream",
     "text": [
      "(National Survey on Drug Use and Health, 2014)\n"
     ]
    }
   ],
   "source": [
    "use \"C:\\Users\\Patricia P\\NSDUH_CLEAN.dta\", clear"
   ]
  },
  {
   "cell_type": "code",
   "execution_count": 11,
   "metadata": {},
   "outputs": [],
   "source": [
    "// The next tables show descriptive statistics for the outcome variables for both control and treated gropus before and after the ACA young adult provision"
   ]
  },
  {
   "cell_type": "code",
   "execution_count": 2,
   "metadata": {},
   "outputs": [],
   "source": [
    "preserve "
   ]
  },
  {
   "cell_type": "code",
   "execution_count": 3,
   "metadata": {},
   "outputs": [
    {
     "name": "stdout",
     "output_type": "stream",
     "text": [
      "(46,093 observations deleted)\n"
     ]
    }
   ],
   "source": [
    "drop if post_expansion == 1 "
   ]
  },
  {
   "cell_type": "code",
   "execution_count": 4,
   "metadata": {},
   "outputs": [],
   "source": [
    "eststo clear"
   ]
  },
  {
   "cell_type": "code",
   "execution_count": 5,
   "metadata": {},
   "outputs": [
    {
     "name": "stdout",
     "output_type": "stream",
     "text": [
      "\n",
      "---------------------------------------------------------------------------------------------------------------------------------------------------------------------------------------------------------------------------------------------------------------\n",
      "-> control\n",
      "\n",
      "             |  e(count)   e(sum_w)    e(mean)     e(Var)      e(sd)     e(min)     e(max)     e(sum) \n",
      "-------------+----------------------------------------------------------------------------------------\n",
      "any_insura~e |      8169       8169   .7301995   .1970323   .4438832          0          1       5965 \n",
      "private_in~e |      8169       8169   .5613906   .2462613   .4962473          0          1       4586 \n",
      "medicaid_i~e |      8169       8169   .1352675   .1169845     .34203          0          1       1105 \n",
      "   uninsured |      8169       8169   .2698005   .1970323   .4438832          0          1       2204 \n",
      "(est1 stored)\n",
      "\n",
      "---------------------------------------------------------------------------------------------------------------------------------------------------------------------------------------------------------------------------------------------------------------\n",
      "-> Treated\n",
      "\n",
      "             |  e(count)   e(sum_w)    e(mean)     e(Var)      e(sd)     e(min)     e(max)     e(sum) \n",
      "-------------+----------------------------------------------------------------------------------------\n",
      "any_insura~e |     27020      27020   .6967061   .2113145   .4596896          0          1      18825 \n",
      "private_in~e |     27020      27020   .5134715   .2498278   .4998277          0          1      13874 \n",
      "medicaid_i~e |     27020      27020   .1388601   .1195824   .3458069          0          1       3752 \n",
      "   uninsured |     27020      27020   .3032939   .2113145   .4596896          0          1       8195 \n",
      "(est2 stored)\n"
     ]
    }
   ],
   "source": [
    "bysort treat22_25yr: eststo: estpost sum any_insurance private_insurance medicaid_insurance uninsured, listwise"
   ]
  },
  {
   "cell_type": "code",
   "execution_count": 6,
   "metadata": {},
   "outputs": [],
   "source": [
    "restore"
   ]
  },
  {
   "cell_type": "code",
   "execution_count": 7,
   "metadata": {},
   "outputs": [
    {
     "name": "stdout",
     "output_type": "stream",
     "text": [
      "\n",
      "---------------------------------------------------------------------------------------------------------------------------------------------------------------------------------------------------------------------------------------------------------------\n",
      "-> control\n",
      "\n",
      "             |  e(count)   e(sum_w)    e(mean)     e(Var)      e(sd)     e(min)     e(max)     e(sum) \n",
      "-------------+----------------------------------------------------------------------------------------\n",
      "any_insura~e |     19743      19743    .734944   .1948112   .4413742          0          1      14510 \n",
      "private_in~e |     19743      19743   .5521451   .2472934   .4972861          0          1      10901 \n",
      "medicaid_i~e |     19743      19743   .1465329   .1250674   .3536487          0          1       2893 \n",
      "   uninsured |     19743      19743    .265056   .1948112   .4413742          0          1       5233 \n",
      "(est3 stored)\n",
      "\n",
      "---------------------------------------------------------------------------------------------------------------------------------------------------------------------------------------------------------------------------------------------------------------\n",
      "-> Treated\n",
      "\n",
      "             |  e(count)   e(sum_w)    e(mean)     e(Var)      e(sd)     e(min)     e(max)     e(sum) \n",
      "-------------+----------------------------------------------------------------------------------------\n",
      "any_insura~e |     61177      61177   .7308466   .1967131   .4435235          0          1      44711 \n",
      "private_in~e |     61177      61177   .5361002   .2487008   .4986992          0          1      32797 \n",
      "medicaid_i~e |     61177      61177    .147441   .1257042   .3545479          0          1       9020 \n",
      "   uninsured |     61177      61177   .2691534   .1967131   .4435235          0          1      16466 \n",
      "(est4 stored)\n"
     ]
    }
   ],
   "source": [
    "bysort treat22_25yr: eststo: estpost sum any_insurance private_insurance medicaid_insurance uninsured, listwise"
   ]
  },
  {
   "cell_type": "code",
   "execution_count": 12,
   "metadata": {},
   "outputs": [
    {
     "name": "stdout",
     "output_type": "stream",
     "text": [
      "\n",
      "Table 1: Descriptive Statistics - Insurance Status\n",
      "------------------------------------------------------------------------\n",
      "                              (1)          (2)          (3)          (4)\n",
      "                      Control Pre  Treated Pre Control Post Treated Post\n",
      "                             mean         mean         mean         mean\n",
      "------------------------------------------------------------------------\n",
      "any_insurance            .7301995     .6967061      .734944     .7308466\n",
      "private_insurance        .5613906     .5134715     .5521451     .5361002\n",
      "medicaid_insurance       .1352675     .1388601     .1465329      .147441\n",
      "uninsured                .2698005     .3032939      .265056     .2691534\n",
      "------------------------------------------------------------------------\n",
      "Observations                 8169        27020        19743        61177\n",
      "------------------------------------------------------------------------\n"
     ]
    }
   ],
   "source": [
    "esttab , cells(\"mean\") label nodepvar title(Table 1: Descriptive Statistics - Insurance Status ) mtitle(\"Control Pre\" \"Treated Pre\" \"Control Post\" \"Treated Post\" )"
   ]
  },
  {
   "cell_type": "code",
   "execution_count": 13,
   "metadata": {},
   "outputs": [],
   "source": [
    "preserve "
   ]
  },
  {
   "cell_type": "code",
   "execution_count": 14,
   "metadata": {},
   "outputs": [
    {
     "name": "stdout",
     "output_type": "stream",
     "text": [
      "(46,093 observations deleted)\n"
     ]
    }
   ],
   "source": [
    "drop if post_expansion == 1"
   ]
  },
  {
   "cell_type": "code",
   "execution_count": 15,
   "metadata": {},
   "outputs": [],
   "source": [
    "eststo clear "
   ]
  },
  {
   "cell_type": "code",
   "execution_count": 16,
   "metadata": {},
   "outputs": [
    {
     "name": "stdout",
     "output_type": "stream",
     "text": [
      "\n",
      "---------------------------------------------------------------------------------------------------------------------------------------------------------------------------------------------------------------------------------------------------------------\n",
      "-> control\n",
      "\n",
      "             |  e(count)   e(sum_w)    e(mean)     e(Var)      e(sd)     e(min)     e(max)     e(sum) \n",
      "-------------+----------------------------------------------------------------------------------------\n",
      "painreli~12m |      8199       8199    .082571   .0757623   .2752495          0          1        677 \n",
      "painreli~30d |      8199       8199   .0319551   .0309378   .1758913          0          1        262 \n",
      "painrelie~ce |      8199       8199   .0102452   .0101414   .1007046          0          1         84 \n",
      "painrelie~se |      8199       8199   .0024393   .0024337   .0493322          0          1         20 \n",
      "anl_abuse_~e |      8199       8199   .0126845   .0125251   .1119156          0          1        104 \n",
      "(est1 stored)\n",
      "\n",
      "---------------------------------------------------------------------------------------------------------------------------------------------------------------------------------------------------------------------------------------------------------------\n",
      "-> Treated\n",
      "\n",
      "             |  e(count)   e(sum_w)    e(mean)     e(Var)      e(sd)     e(min)     e(max)     e(sum) \n",
      "-------------+----------------------------------------------------------------------------------------\n",
      "painreli~12m |     27124      27124   .1066583   .0952858    .308684          0          1       2893 \n",
      "painreli~30d |     27124      27124   .0446468    .042655    .206531          0          1       1211 \n",
      "painrelie~ce |     27124      27124   .0140835   .0138856   .1178373          0          1        382 \n",
      "painrelie~se |     27124      27124   .0035762   .0035635   .0596952          0          1         97 \n",
      "anl_abuse_~e |     27124      27124   .0176596   .0173484   .1317134          0          1        479 \n",
      "(est2 stored)\n"
     ]
    }
   ],
   "source": [
    "bysort treat22_25yr: eststo: estpost sum painreliever_misuse_12m painreliever_30d painreliever_dependence painreliever_abuse anl_abuse_dependence, listwise"
   ]
  },
  {
   "cell_type": "code",
   "execution_count": 17,
   "metadata": {},
   "outputs": [],
   "source": [
    "restore"
   ]
  },
  {
   "cell_type": "code",
   "execution_count": 18,
   "metadata": {},
   "outputs": [
    {
     "name": "stdout",
     "output_type": "stream",
     "text": [
      "\n",
      "---------------------------------------------------------------------------------------------------------------------------------------------------------------------------------------------------------------------------------------------------------------\n",
      "-> control\n",
      "\n",
      "             |  e(count)   e(sum_w)    e(mean)     e(Var)      e(sd)     e(min)     e(max)     e(sum) \n",
      "-------------+----------------------------------------------------------------------------------------\n",
      "painreli~12m |     19827      19827   .0785293   .0723661   .2690094          0          1       1557 \n",
      "painreli~30d |     19827      19827   .0320775   .0310501   .1762103          0          1        636 \n",
      "painrelie~ce |     19827      19827   .0121047   .0119588   .1093562          0          1        240 \n",
      "painrelie~se |     19827      19827   .0022696   .0022646   .0475878          0          1         45 \n",
      "anl_abuse_~e |     19827      19827   .0143743   .0141684   .1190312          0          1        285 \n",
      "(est3 stored)\n",
      "\n",
      "---------------------------------------------------------------------------------------------------------------------------------------------------------------------------------------------------------------------------------------------------------------\n",
      "-> Treated\n",
      "\n",
      "             |  e(count)   e(sum_w)    e(mean)     e(Var)      e(sd)     e(min)     e(max)     e(sum) \n",
      "-------------+----------------------------------------------------------------------------------------\n",
      "painreli~12m |     61531      61531   .0961792   .0869301   .2948392          0          1       5918 \n",
      "painreli~30d |     61531      61531   .0388422   .0373341   .1932203          0          1       2390 \n",
      "painrelie~ce |     61531      61531   .0148218   .0146023   .1208402          0          1        912 \n",
      "painrelie~se |     61531      61531   .0029091   .0029007    .053858          0          1        179 \n",
      "anl_abuse_~e |     61531      61531   .0177309   .0174168   .1319727          0          1       1091 \n",
      "(est4 stored)\n"
     ]
    }
   ],
   "source": [
    "bysort treat22_25yr: eststo: estpost sum painreliever_misuse_12m painreliever_30d painreliever_dependence painreliever_abuse anl_abuse_dependence, listwise"
   ]
  },
  {
   "cell_type": "code",
   "execution_count": 23,
   "metadata": {
    "scrolled": true
   },
   "outputs": [
    {
     "name": "stdout",
     "output_type": "stream",
     "text": [
      "\n",
      "Table 2: Descriptive Statistics - Opioid Misuse, Abuse and Dependence\n",
      "------------------------------------------------------------------------\n",
      "                              (1)          (2)          (3)          (4)\n",
      "                      Control Pre  Treated Pre Control Post Treated Post\n",
      "                             mean         mean         mean         mean\n",
      "------------------------------------------------------------------------\n",
      "painreliever_mis~12m      .082571     .1066583     .0785293     .0961792\n",
      "painreliever_30d         .0319551     .0446468     .0320775     .0388422\n",
      "painreliever_depen~e     .0102452     .0140835     .0121047     .0148218\n",
      "painreliever_abuse       .0024393     .0035762     .0022696     .0029091\n",
      "anl_abuse_dependence     .0126845     .0176596     .0143743     .0177309\n",
      "------------------------------------------------------------------------\n",
      "Observations                 8199        27124        19827        61531\n",
      "------------------------------------------------------------------------\n"
     ]
    }
   ],
   "source": [
    "esttab , cells(\"mean\") label nodepvar title(Table 2: Descriptive Statistics - Opioid Misuse, Abuse and Dependence ) mtitle(\"Control Pre\" \"Treated Pre\" \"Control Post\" \"Treated Post\" )"
   ]
  },
  {
   "cell_type": "code",
   "execution_count": 24,
   "metadata": {},
   "outputs": [],
   "source": [
    "// Note: Table 2 presents descriptive statistics for opioid misuse in the past 12 months, opioid misuse in the past 30 days, opioid abuse and dependence in the past year"
   ]
  },
  {
   "cell_type": "code",
   "execution_count": 25,
   "metadata": {},
   "outputs": [],
   "source": [
    " // TREATMENT FOR SUBSTANCE USE DISORDERS"
   ]
  },
  {
   "cell_type": "code",
   "execution_count": 26,
   "metadata": {},
   "outputs": [],
   "source": [
    "preserve"
   ]
  },
  {
   "cell_type": "code",
   "execution_count": 27,
   "metadata": {},
   "outputs": [
    {
     "name": "stdout",
     "output_type": "stream",
     "text": [
      "(46,093 observations deleted)\n"
     ]
    }
   ],
   "source": [
    "drop if post_expansion == 1 "
   ]
  },
  {
   "cell_type": "code",
   "execution_count": 28,
   "metadata": {},
   "outputs": [],
   "source": [
    "eststo clear"
   ]
  },
  {
   "cell_type": "code",
   "execution_count": 29,
   "metadata": {},
   "outputs": [
    {
     "name": "stdout",
     "output_type": "stream",
     "text": [
      "\n",
      "---------------------------------------------------------------------------------------------------------------------------------------------------------------------------------------------------------------------------------------------------------------\n",
      "-> control\n",
      "\n",
      "             |  e(count)   e(sum_w)    e(mean)     e(Var)      e(sd)     e(min)     e(max)     e(sum) \n",
      "-------------+----------------------------------------------------------------------------------------\n",
      "inpatient_~t |       204        204   .1813725    .149208   .3862745          0          1         37 \n",
      "outpatient~t |       204        204   .4901961   .2511349   .5011337          0          1        100 \n",
      "emergency_~m |       204        204   .0490196   .0468463   .2164401          0          1         10 \n",
      "opioid_tre~t |       204        204    .254902   .1908626   .4368782          0          1         52 \n",
      "(est1 stored)\n",
      "\n",
      "---------------------------------------------------------------------------------------------------------------------------------------------------------------------------------------------------------------------------------------------------------------\n",
      "-> Treated\n",
      "\n",
      "             |  e(count)   e(sum_w)    e(mean)     e(Var)      e(sd)     e(min)     e(max)     e(sum) \n",
      "-------------+----------------------------------------------------------------------------------------\n",
      "inpatient_~t |       788        788   .1992386   .1597453   .3996815          0          1        157 \n",
      "outpatient~t |       788        788   .3984772   .2399977   .4898956          0          1        314 \n",
      "emergency_~m |       788        788   .0583756   .0550378   .2346013          0          1         46 \n",
      "opioid_tre~t |       788        788   .2474619   .1864611   .4318115          0          1        195 \n",
      "(est2 stored)\n"
     ]
    }
   ],
   "source": [
    "bysort treat22_25yr: eststo: estpost sum inpatient_drug_treat outpatient_drug_treat emergency_room opioid_treatment, listwise"
   ]
  },
  {
   "cell_type": "code",
   "execution_count": 30,
   "metadata": {},
   "outputs": [],
   "source": [
    "restore"
   ]
  },
  {
   "cell_type": "code",
   "execution_count": 31,
   "metadata": {},
   "outputs": [
    {
     "name": "stdout",
     "output_type": "stream",
     "text": [
      "\n",
      "---------------------------------------------------------------------------------------------------------------------------------------------------------------------------------------------------------------------------------------------------------------\n",
      "-> control\n",
      "\n",
      "             |  e(count)   e(sum_w)    e(mean)     e(Var)      e(sd)     e(min)     e(max)     e(sum) \n",
      "-------------+----------------------------------------------------------------------------------------\n",
      "inpatient_~t |       493        493   .2413793   .1834875   .4283544          0          1        119 \n",
      "outpatient~t |       493        493    .494929   .2504824   .5004821          0          1        244 \n",
      "emergency_~m |       493        493   .0750507   .0695592   .2637408          0          1         37 \n",
      "opioid_tre~t |       493        493   .3204868   .2182176   .4671377          0          1        158 \n",
      "(est3 stored)\n",
      "\n",
      "---------------------------------------------------------------------------------------------------------------------------------------------------------------------------------------------------------------------------------------------------------------\n",
      "-> Treated\n",
      "\n",
      "             |  e(count)   e(sum_w)    e(mean)     e(Var)      e(sd)     e(min)     e(max)     e(sum) \n",
      "-------------+----------------------------------------------------------------------------------------\n",
      "inpatient_~t |      1669       1669   .2264829   .1752934   .4186806          0          1        378 \n",
      "outpatient~t |      1669       1669   .4391851   .2464492   .4964365          0          1        733 \n",
      "emergency_~m |      1669       1669   .0689035   .0641943   .2533659          0          1        115 \n",
      "opioid_tre~t |      1669       1669   .3043739   .2118574   .4602797          0          1        508 \n",
      "(est4 stored)\n"
     ]
    }
   ],
   "source": [
    "bysort treat22_25yr: eststo: estpost sum inpatient_drug_treat outpatient_drug_treat emergency_room opioid_treatment, listwise"
   ]
  },
  {
   "cell_type": "code",
   "execution_count": 32,
   "metadata": {},
   "outputs": [
    {
     "name": "stdout",
     "output_type": "stream",
     "text": [
      "\n",
      "Table 3: Descriptive Statistics - Treatment for Substance Use Disorders\n",
      "------------------------------------------------------------------------\n",
      "                              (1)          (2)          (3)          (4)\n",
      "                      Control Pre  Treated Pre Control Post Treated Post\n",
      "                             mean         mean         mean         mean\n",
      "------------------------------------------------------------------------\n",
      "inpatient_drug_treat     .1813725     .1992386     .2413793     .2264829\n",
      "outpatient_drug_tr~t     .4901961     .3984772      .494929     .4391851\n",
      "emergency_room           .0490196     .0583756     .0750507     .0689035\n",
      "opioid_treatment          .254902     .2474619     .3204868     .3043739\n",
      "------------------------------------------------------------------------\n",
      "Observations                  204          788          493         1669\n",
      "------------------------------------------------------------------------\n"
     ]
    }
   ],
   "source": [
    "esttab , cells(\"mean\") label nodepvar title(Table 3: Descriptive Statistics - Treatment for Substance Use Disorders ) mtitle(\"Control Pre\" \"Treated Pre\" \"Control Post\" \"Treated Post\" )"
   ]
  },
  {
   "cell_type": "code",
   "execution_count": 33,
   "metadata": {},
   "outputs": [],
   "source": [
    "// Note: The table above shows means for the location in where treatment for substance use disorders was received"
   ]
  },
  {
   "cell_type": "code",
   "execution_count": null,
   "metadata": {},
   "outputs": [],
   "source": []
  }
 ],
 "metadata": {
  "kernelspec": {
   "display_name": "Stata",
   "language": "stata",
   "name": "stata"
  },
  "language_info": {
   "codemirror_mode": "stata",
   "file_extension": ".do",
   "mimetype": "text/x-stata",
   "name": "stata",
   "version": "15.1"
  }
 },
 "nbformat": 4,
 "nbformat_minor": 2
}
