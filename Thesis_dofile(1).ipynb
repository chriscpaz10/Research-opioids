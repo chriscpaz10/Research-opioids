{
 "cells": [
  {
   "cell_type": "code",
   "execution_count": 1,
   "metadata": {},
   "outputs": [],
   "source": [
    "clear "
   ]
  },
  {
   "cell_type": "code",
   "execution_count": 2,
   "metadata": {},
   "outputs": [
    {
     "name": "stdout",
     "output_type": "stream",
     "text": [
      "(National Survey on Drug Use and Health, 2014)\n"
     ]
    }
   ],
   "source": [
    "use \"C:\\Users\\Patricia P\\Documents\\Thesis_opioids\\NSDUH_complete.dta\", clear"
   ]
  },
  {
   "cell_type": "code",
   "execution_count": 3,
   "metadata": {},
   "outputs": [
    {
     "name": "stdout",
     "output_type": "stream",
     "text": [
      "\n",
      "Contains data from C:\\Users\\Patricia P\\Documents\\Thesis_opioids\\NSDUH_complete.dta\n",
      "  obs:       391,753                          National Survey on Drug Use and Health, 2014\n",
      " vars:         1,366                          26 Nov 2018 12:17\n",
      " size: 1,093,774,376                          \n",
      "---------------------------------------------------------------------------------------------------------------------------------------------------------------------------------------------------------------------------------------------------------------\n",
      "              storage   display    value\n",
      "variable name   type    format     label      variable label\n",
      "---------------------------------------------------------------------------------------------------------------------------------------------------------------------------------------------------------------------------------------------------------------\n",
      "QUESTID2        long    %8.0f                 RESPONDENT IDENTIFICATION\n",
      "COCEVER         int     %10.0f     COCEVER    EVER USED COCAINE\n",
      "COCAGE          int     %27.0f     COCAGE     AGE WHEN FIRST USED COCAINE\n",
      "COCYFU          int     %34.0f     COCYFU     YEAR OF FIRST COCAINE USE - RECODE\n",
      "COCMFU          int     %34.0f     COCMFU     MONTH OF FIRST COCAINE USE - RECODE\n",
      "COCREC          int     %48.0f     COCREC     TIME SINCE LAST USED COCAINE\n",
      "COCYRTOT        int     %38.0f     COCYRTOT   TOTAL # OF DAYS USED COCAINE IN PAST 12 MONTHS\n",
      "CCTOTFG         int     %35.0f     CCTOTFG    TRIMMING INDICATOR FOR COCYRTOT\n",
      "CCFQFLG         int     %46.0f     CCFQFLG    TRIMMED COCYRTOT IF R USED < 12 MOS\n",
      "CCBSTWAY        int     %44.0f     CCBSTWAY   EASIEST WAY TO TELL US # DAYS USED COCAINE\n",
      "CCDAYPYR        int     %38.0f     CCDAYPYR   # DAYS USED COCAINE PAST 12 MONTHS\n",
      "CCDAYPMO        int     %38.0f     CCDAYPMO   # DAYS PER MONTH USED COCAINE PAST 12 MONTHS\n",
      "CCDAYPWK        int     %38.0f     CCDAYPWK   # DAYS PER WEEK USE COCAINE PAST 12 MONTHS\n",
      "COCUS30A        int     %39.0f     COCUS30A   # DAYS USED COCAINE PAST 30 DAYS\n",
      "CC30EST         int     %39.0f     CC30EST    BEST ESTIMATE # DAYS USED COCAINE PAST 30 DAYS\n",
      "CRKEVER         int     %30.0f     CRKEVER    EVER USED CRACK\n",
      "CRKAGE          int     %27.0f     CRKAGE     AGE WHEN FIRST USED CRACK\n",
      "CRKYFU          int     %34.0f     CRKYFU     YEAR OF FIRST CRACK USE - RECODE\n",
      "CRKMFU          int     %34.0f     CRKMFU     MONTH OF FIRST CRACK USE - RECODE\n",
      "CRAKREC         int     %48.0f     CRAKREC    TIME SINCE LAST USED CRACK\n",
      "CRKYRTOT        int     %36.0f     CRKYRTOT   TOTAL # DAYS USED CRACK IN PAST 12 MONTHS\n",
      "CRTOTFG         int     %35.0f     CRTOTFG    TRIMMING INDICATOR FOR CRKYRTOT\n",
      "CRFQFLG         int     %46.0f     CRFQFLG    TRIMMED CRKYRTOT IF R USED < 12 MOS\n",
      "CRBSTWAY        int     %37.0f     CRBSTWAY   EASIEST WAY TO TELL US # DAYS USED CRACK\n",
      "CRDAYPYR        int     %36.0f     CRDAYPYR   # DAYS USED CRACK PAST 12 MONTHS\n",
      "CRDAYPMO        int     %36.0f     CRDAYPMO   # DAYS PER MONTH USED CRACK PAST 12 MONTHS\n",
      "CRDAYPWK        int     %36.0f     CRDAYPWK   # DAYS PER WEEK USED CRACK PAST 12 MONTHS\n",
      "CRKUS30A        int     %37.0f     CRKUS30A   # DAYS USED CRACK PAST 30 DAYS\n",
      "CR30EST         int     %37.0f     CR30EST    BEST ESTIMATE # DAYS USED CRACK PAST 30 DAYS\n",
      "HEREVER         int     %27.0f     HEREVER    EVER USED HEROIN\n",
      "HERAGE          int     %27.0f     HERAGE     AGE WHEN FIRST USED HEROIN\n",
      "HERYFU          int     %34.0f     HERYFU     YEAR OF FIRST HEROIN USE - RECODE\n",
      "HERMFU          int     %34.0f     HERMFU     MONTH OF FIRST HEROIN USE - RECODE\n",
      "HERREC          int     %48.0f     HERREC     TIME SINCE LAST USED HEROIN\n",
      "HERYRTOT        int     %37.0f     HERYRTOT   TOTAL # OF DAYS USED HEROIN IN PAST 12 MONTHS\n",
      "HRTOTFG         int     %35.0f     HRTOTFG    TRIMMING INDICATOR FOR HERYRTOT\n",
      "HRFQFLG         int     %46.0f     HRFQFLG    TRIMMED HERYRTOT IF R USED < 12 MOS\n",
      "HRBSTWAY        int     %37.0f     HRBSTWAY   EASIEST WAY TO TELL US # DAYS USED HEROIN\n",
      "HRDAYPYR        int     %37.0f     HRDAYPYR   # DAYS USED HEROIN PAST 12 MONTHS\n",
      "HRDAYPMO        int     %37.0f     HRDAYPMO   # DAYS PER MONTH USED HEROIN PAST 12 MONTHS\n",
      "HRDAYPWK        int     %37.0f     HRDAYPWK   # DAYS PER WEEK USED HEROIN PAST 12 MONTHS\n",
      "HER30USE        int     %38.0f     HER30USE   # DAYS USED HEROIN PAST 30 DAYS\n",
      "HR30EST         int     %38.0f     HR30EST    BEST EST. # DAYS USED HEROIN PAST 30 DAYS\n",
      "LSD             int     %27.0f     LSD        EVER USED LSD ('ACID')\n",
      "PCP             int     %27.0f     PCP        EVER USED PCP ('ANGEL DUST,' PHENCYCLIDINE)\n",
      "PEYOTE          int     %27.0f     PEYOTE     EVER USED PEYOTE\n",
      "MESC            int     %27.0f     MESC       EVER USED MESCALINE\n",
      "PSILCY          int     %27.0f     PSILCY     EVER USED PSILOCYBIN (MUSHROOMS)\n",
      "ECSTASY         int     %27.0f     ECSTASY    EVER USED 'ECSTASY' (MDMA)\n",
      "HALNOLST        int     %27.0f     HALNOLST   EVER USED OTHER HALLUCINOGEN\n",
      "HALNEWA         int     %50.0f     HALNEWA    OTHER HALLUCINOGEN - SPECIFY 1\n",
      "HALNEWB         int     %50.0f     HALNEWB    OTHER HALLUCINOGEN - SPECIFY 2\n",
      "HALNEWC         int     %48.0f     HALNEWC    OTHER HALLUCINOGEN - SPECIFY 3\n",
      "HALNEWD         int     %47.0f     HALNEWD    OTHER HALLUCINOGEN - SPECIFY 4\n",
      "HALNEWE         int     %49.0f     HALNEWE    OTHER HALLUCINOGEN - SPECIFY 5\n",
      "HALLAGE         int     %27.0f     HALLAGE    AGE WHEN FIRST USED HALLUCINOGENS\n",
      "HALYFU          int     %34.0f     HALYFU     YEAR OF FIRST HALLUCINOGEN USE - RECODE\n",
      "HALMFU          int     %34.0f     HALMFU     MONTH OF FIRST HALLUCINOGEN USE - RECODE\n",
      "HALLREC         int     %48.0f     HALLREC    TIME SINCE LAST USED HALLUCINOGENS\n",
      "HALYRTOT        int     %44.0f     HALYRTOT   TOTAL # OF DAYS USED HALLUCINOGENS IN PAST 12 MOS\n",
      "HLTOTFG         int     %35.0f     HLTOTFG    TRIMMING INDICATOR FOR HALYRTOT\n",
      "HLFQFLG         int     %46.0f     HLFQFLG    TRIMMED HALYRTOT IF R USED < 12 MOS\n",
      "HLBSTWAY        int     %44.0f     HLBSTWAY   EASIEST WAY TO TELL US # DAYS USED HALLUCINOGEN\n",
      "HLDAYPYR        int     %44.0f     HLDAYPYR   # DAYS USED HALLUCINOGEN PAST 12 MONTHS\n",
      "HLDAYPMO        int     %44.0f     HLDAYPMO   # DAYS PER MONTH USED HALLUCINOGEN PAST 12 MONTHS\n",
      "HLDAYPWK        int     %44.0f     HLDAYPWK   # DAYS PER WEEK USED HALLUCINOGEN PAST 12 MONTHS\n",
      "HAL30USE        int     %45.0f     HAL30USE   # DAYS USED HALLUCINOGEN PAST 30 DAYS\n",
      "HL30EST         int     %45.0f     HL30EST    BEST EST. # DAYS USED HALLUCINOGENS PAST 30 DAYS\n",
      "LSDAGE          int     %27.0f     LSDAGE     AGE WHEN FIRST USED LSD\n",
      "LSDYFU          int     %34.0f     LSDYFU     YEAR OF FIRST LSD USE - RECODE\n",
      "LSDMFU          int     %34.0f     LSDMFU     MONTH OF FIRST LSD USE - RECODE\n",
      "LSDREC          int     %48.0f     LSDREC     TIME SINCE LAST USED LSD\n",
      "PCPAGE          int     %27.0f     PCPAGE     AGE WHEN FIRST USED PCP\n",
      "PCPYFU          int     %34.0f     PCPYFU     YEAR OF FIRST PCP USE - RECODE\n",
      "PCPMFU          int     %34.0f     PCPMFU     MONTH OF FIRST PCP USE - RECODE\n",
      "PCPREC          int     %48.0f     PCPREC     TIME SINCE LAST USED PCP\n",
      "ECSAGE          int     %27.0f     ECSAGE     AGE WHEN FIRST USED ECSTASY\n",
      "ECSYFU          int     %34.0f     ECSYFU     YEAR OF FIRST ECSTASY USE - RECODE\n",
      "ECSMFU          int     %34.0f     ECSMFU     MONTH OF FIRST ECSTASY USE - RECODE\n",
      "ECSREC          int     %48.0f     ECSREC     TIME SINCE LAST USED ECSTASY\n",
      "DARVTYLC        int     %44.0f     DARVTYLC   EVER USED DARVOCET, DARVON, OR TYLENOL W/ CODEINE\n",
      "PERCTYLX        int     %44.0f     PERCTYLX   EVER USED PERCOCET, PERCODAN, OR TYLOX\n",
      "VICOLOR         int     %44.0f     VICOLOR    EVER USED VICODIN, LORTAB, OR LORCET\n",
      "ANLCARD         int     %44.0f     ANLCARD    EVER USED PAIN RELIEVER BELOW RED LINE ON CARD A\n",
      "CODEINE         int     %44.0f     CODEINE    EVER USED CODEINE NONMEDICALLY\n",
      "DEMEROL         int     %44.0f     DEMEROL    EVER USED DEMEROL NONMEDICALLY\n",
      "DILAUD          int     %44.0f     DILAUD     EVER USED DILAUDID NONMEDICALLY\n",
      "FIORICET        int     %44.0f     FIORICET   EVER USED FIORICET NONMEDICALLY\n",
      "FIORINAL        int     %44.0f     FIORINAL   EVER USED FIORINAL NONMEDICALLY\n",
      "HYDROCOD        int     %44.0f     HYDROCOD   EVER USED HYDROCODONE NONMEDICALLY\n",
      "METHDON         int     %44.0f     METHDON    EVER USED METHADONE NONMEDICALLY\n"
     ]
    },
    {
     "name": "stdout",
     "output_type": "stream",
     "text": [
      "MORPHINE        int     %44.0f     MORPHINE   EVER USED MORPHINE NONMEDICALLY\n",
      "OXYCONTN        int     %44.0f     OXYCONTN   EVER USED OXYCONTIN NONMEDICALLY\n",
      "PHENCOD         int     %44.0f     PHENCOD    EVER USED PHENAPHEN WITH CODEINE NONMEDICALLY\n",
      "PROPOXY         int     %44.0f     PROPOXY    EVER USED PROPOXYPHENE NONMEDICALLY\n",
      "SK65A           int     %44.0f     SK65A      EVER USED SK65 NONMEDICALLY\n",
      "STADOL          int     %44.0f     STADOL     EVER USED STADOL NONMEDICALLY\n",
      "TALACEN         int     %44.0f     TALACEN    EVER USED TALACEN NONMEDICALLY\n",
      "TALWIN          int     %44.0f     TALWIN     EVER USED TALWIN NONMEDICALLY\n",
      "TALWINNX        int     %44.0f     TALWINNX   EVER USED TALWINNX NONMEDICALLY\n",
      "TRAMADOL        int     %44.0f     TRAMADOL   EVER USED TRAMADOL NONMEDICALLY\n",
      "ULTRAM          int     %44.0f     ULTRAM     EVER USED ULTRAM NONMEDICALLY\n",
      "ANLNOLST        int     %44.0f     ANLNOLST   EVER USED ANY OTHER PAIN RELIEVER NONMEDICALLY\n",
      "ANALNEWA        int     %49.0f     ANALNEWA   OTHER PAIN RELIEVER - SPECIFY 1\n",
      "ANALNEWB        int     %50.0f     ANALNEWB   OTHER PAIN RELIEVER - SPECIFY 2\n",
      "ANALNEWC        int     %50.0f     ANALNEWC   OTHER PAIN RELIEVER - SPECIFY 3\n",
      "ANALNEWD        int     %50.0f     ANALNEWD   OTHER PAIN RELIEVER - SPECIFY 4\n",
      "ANALNEWE        int     %44.0f     ANALNEWE   OTHER PAIN RELIEVER - SPECIFY 5\n",
      "ANLEVER         int     %44.0f     ANLEVER    EVER USED PAIN RELIEVERS NONMEDICALLY\n",
      "ANALAGE         int     %44.0f     ANALAGE    AGE WHEN FIRST USED PAIN RELIEVERS NONMEDICALLY\n",
      "ANALYFU         int     %44.0f     ANALYFU    YEAR OF FIRST PAIN RELIEVER USE - RECODE\n",
      "ANALMFU         int     %44.0f     ANALMFU    MONTH OF FIRST PAIN RELIEVER USE - RECODE\n",
      "ANALREC         int     %48.0f     ANALREC    TIME SINCE LAST USED PAIN RELIEVER NONMEDICALLY\n",
      "ANLYRTOT        int     %45.0f     ANLYRTOT   TOTAL # DAYS USED PAIN RELIEVER PAST 12 MONTHS\n",
      "PRTOTFG         int     %40.0f     PRTOTFG    TRIMMING INDICATOR FOR ANLYRTOT\n",
      "PRFQFLG         int     %46.0f     PRFQFLG    TRIMMED ANLYRTOT IF R USED < 12 MOS\n",
      "PRBSTWAY        int     %45.0f     PRBSTWAY   EASIEST WAY TO TELL US # DAYS USED PAIN RELIEVER\n",
      "PRDAYPYR        int     %45.0f     PRDAYPYR   # DAYS USED PAIN RELIEVER 'NM' PAST 12 MONTHS\n",
      "PRDAYPMO        int     %45.0f     PRDAYPMO   # DAYS PER MO USED PAIN RELIEVER 'NM' PAST 12 MOS\n",
      "PRDAYPWK        int     %45.0f     PRDAYPWK   # DAYS PER WK USED PAIN RELIEVER 'NM' PAST 12 MOS\n",
      "OXYCAGE         int     %39.0f     OXYCAGE    AGE WHEN FIRST USED OXYCONTIN NONMEDICALLY\n",
      "OXYCYFU         int     %39.0f     OXYCYFU    YEAR OF FIRST OXYCONTIN USE - RECODE\n",
      "OXYCMFU         int     %39.0f     OXYCMFU    MONTH OF FIRST OXYCONTIN USE - RECODE\n",
      "OXYCREC         int     %48.0f     OXYCREC    TIME SINCE LAST USED OXYCONTIN NONMEDICALLY\n",
      "OXYYRTOT        int     %40.0f     OXYYRTOT   TOTAL # DAYS USED OXYCONTIN PAST 12 MONTHS\n",
      "OXTOTFG         int     %17.0f     OXTOTFG    TRIMMING INDICATOR FOR OXYYRTOT\n",
      "OXFQFLG         int     %46.0f     OXFQFLG    TRIMMED OXYYRTOT IF R USED < 12 MOS\n",
      "OXBSTWAY        int     %40.0f     OXBSTWAY   EASIEST WAY TO TELL US # DAYS USED OXYCONTIN\n",
      "OXDAYPYR        int     %40.0f     OXDAYPYR   # DAYS USED OXYCONTIN 'NM' PAST 12 MONTHS\n",
      "OXDAYPMO        int     %40.0f     OXDAYPMO   # DAYS PER MO USED OXYCONTIN 'NM' PAST 12 MOS\n",
      "OXDAYPWK        int     %40.0f     OXDAYPWK   # DAYS PER WK USED OXYCONTIN 'NM' PAST 12 MOS\n",
      "IRCIGRC         int     %49.0f     IRCIGRC    CIGARETTE RECENCY - IMPUTATION REVISED\n",
      "IICIGRC         int     %26.0f     IICIGRC    CIGARETTE RECENCY - IMPUTATION INDICATOR\n",
      "II2CIGRC        int     %48.0f     II2CIGRC   CIGARETTE RECENCY - DETAILED IMPUTATION INDICATOR\n",
      "IRCGRRC         int     %49.0f     IRCGRRC    CIGAR RECENCY - IMPUTATION REVISED\n",
      "IICGRRC         int     %26.0f     IICGRRC    CIGAR RECENCY - IMPUTATION INDICATOR\n",
      "II2CGRRC        int     %49.0f     II2CGRRC   CIGAR RECENCY - DETAILED IMPUTATION INDICATOR\n",
      "IRPIPLF         int     %18.0f     IRPIPLF    LIFETIME PIPE USE - IMPUTATION REVISED\n",
      "IIPIPLF         int     %26.0f     IIPIPLF    LIFETIME PIPE USE - IMPUTATION INDICATOR\n",
      "IRPIPMN         int     %41.0f     IRPIPMN    PAST MONTH PIPE USE - IMPUTATION REVISED\n",
      "IIPIPMN         int     %37.0f     IIPIPMN    PAST MONTH PIPE USE - IMPUTATION INDICATOR\n",
      "IRSLTRC         int     %49.0f     IRSLTRC    SMOKELESS TOBACCO RECENCY - IMPUTATION REVISED\n",
      "IISLTRC         int     %26.0f     IISLTRC    SMOKELESS TOBACCO RECENCY - IMPUTATION INDICATOR\n",
      "II2SLTRC        int     %49.0f     II2SLTRC   SMOKELESS TOBACCO RECENCY - DETAILED IMP INDICATOR\n",
      "IRCHWRC         int     %49.0f     IRCHWRC    CHEWING TOBACCO RECENCY - IMPUTATION REVISED\n",
      "IICHWRC         int     %26.0f     IICHWRC    CHEWING TOBACCO RECENCY - IMPUTATION INDICATOR\n",
      "II2CHWRC        int     %49.0f     II2CHWRC   CHEWING TOBACCO RECENCY - DETAILED IMP INDICATOR\n",
      "IRSNFRC         int     %49.0f     IRSNFRC    SNUFF RECENCY - IMPUTATION REVISED\n",
      "IISNFRC         int     %26.0f     IISNFRC    SNUFF RECENCY - IMPUTATION INDICATOR\n",
      "II2SNFRC        int     %49.0f     II2SNFRC   SNUFF RECENCY - DETAILED IMPUTATION INDICATOR\n",
      "IRALCRC         int     %48.0f     IRALCRC    ALCOHOL RECENCY - IMPUTATION REVISED\n",
      "IIALCRC         int     %26.0f     IIALCRC    ALCOHOL RECENCY - IMPUTATION INDICATOR\n",
      "II2ALCRC        int     %49.0f     II2ALCRC   ALCOHOL RECENCY - DETAILED IMPUTATION INDICATOR\n",
      "IRMJRC          int     %48.0f     IRMJRC     MARIJUANA RECENCY - IMPUTATION REVISED\n",
      "IIMJRC          int     %26.0f     IIMJRC     MARIJUANA RECENCY - IMPUTATION INDICATOR\n",
      "II2MJRC         int     %49.0f     II2MJRC    MARIJUANA RECENCY - DETAILED IMPUTATION INDICATOR\n",
      "IRCOCRC         int     %48.0f     IRCOCRC    COCAINE RECENCY - IMPUTATION REVISED\n",
      "IICOCRC         int     %26.0f     IICOCRC    COCAINE RECENCY - IMPUTATION INDICATOR\n",
      "II2COCRC        int     %49.0f     II2COCRC   COCAINE RECENCY - DETAILED IMPUTATION INDICATOR\n",
      "IRCRKRC         int     %48.0f     IRCRKRC    CRACK RECENCY - IMPUTATION REVISED\n",
      "IICRKRC         int     %26.0f     IICRKRC    CRACK RECENCY - IMPUTATION INDICATOR\n",
      "II2CRKRC        int     %49.0f     II2CRKRC   CRACK RECENCY - DETAILED IMPUTATION INDICATOR\n",
      "IRHERRC         int     %48.0f     IRHERRC    HEROIN RECENCY - IMPUTATION REVISED\n",
      "IIHERRC         int     %26.0f     IIHERRC    HEROIN RECENCY - IMPUTATION INDICATOR\n",
      "II2HERRC        int     %49.0f     II2HERRC   HEROIN RECENCY - DETAILED IMPUTATION INDICATOR\n",
      "IRHALRC         int     %48.0f     IRHALRC    HALLUCINOGEN RECENCY - IMPUTATION REVISED\n",
      "IIHALRC         int     %26.0f     IIHALRC    HALLUCINOGEN RECENCY - IMPUTATION INDICATOR\n",
      "II2HALRC        int     %49.0f     II2HALRC   HALLUCINOGEN RECENCY - DETAILED IMPUTATION INDICATOR\n",
      "IRLSDRC         int     %48.0f     IRLSDRC    LSD RECENCY - IMPUTATION REVISED\n",
      "IILSDRC         int     %26.0f     IILSDRC    LSD RECENCY - IMPUTATION INDICATOR\n",
      "II2LSDRC        int     %49.0f     II2LSDRC   LSD RECENCY - DETAILED IMPUTATION INDICATOR\n",
      "IRPCPRC         int     %48.0f     IRPCPRC    PCP RECENCY - IMPUTATION REVISED\n",
      "IIPCPRC         int     %26.0f     IIPCPRC    PCP RECENCY - IMPUTATION INDICATOR\n",
      "II2PCPRC        int     %49.0f     II2PCPRC   PCP RECENCY - DETAILED IMPUTATION INDICATOR\n",
      "IRECSRC         int     %48.0f     IRECSRC    ECSTASY RECENCY - IMPUTATION REVISED\n",
      "IIECSRC         int     %26.0f     IIECSRC    ECSTASY RECENCY - IMPUTATION INDICATOR\n",
      "II2ECSRC        int     %49.0f     II2ECSRC   ECSTASY RECENCY - DETAILED IMPUTATION INDICATOR\n",
      "IRINHRC         int     %48.0f     IRINHRC    INHALANT RECENCY - IMPUTATION REVISED\n",
      "IIINHRC         int     %26.0f     IIINHRC    INHALANT RECENCY - IMPUTATION INDICATOR\n",
      "II2INHRC        int     %49.0f     II2INHRC   INHALANT RECENCY - DETAILED IMPUTATION INDICATOR\n",
      "IRANLRC         int     %48.0f     IRANLRC    PAIN RELIEVER RECENCY - IMPUTATION REVISED\n",
      "IIANLRC         int     %26.0f     IIANLRC    PAIN RELIEVER RECENCY - IMPUTATION INDICATOR\n",
      "II2ANLRC        int     %49.0f     II2ANLRC   PAIN RELIEVER RECENCY - DETAILED IMP INDICATOR\n",
      "IROXYRC         int     %48.0f     IROXYRC    OXYCONTIN RECENCY - IMPUTATION REVISED\n",
      "IIOXYRC         int     %26.0f     IIOXYRC    OXYCONTIN RECENCY - IMPUTATION INDICATOR\n",
      "II2OXYRC        int     %49.0f     II2OXYRC   OXYCONTIN RECENCY - DETAILED IMP INDICATOR\n"
     ]
    },
    {
     "name": "stdout",
     "output_type": "stream",
     "text": [
      "IRTRNRC         int     %48.0f     IRTRNRC    TRANQUILIZER RECENCY - IMPUTATION REVISED\n",
      "IITRNRC         int     %26.0f     IITRNRC    TRANQUILIZER RECENCY - IMPUTATION INDICATOR\n",
      "II2TRNRC        int     %49.0f     II2TRNRC   TRANQUILIZER RECENCY - DETAILED IMPUTATION INDICATOR\n",
      "IRSTMRC         int     %48.0f     IRSTMRC    STIMULANT RECENCY - IMPUTATION REVISED\n",
      "IISTMRC         int     %26.0f     IISTMRC    STIMULANT RECENCY - IMPUTATION INDICATOR\n",
      "II2STMRC        int     %49.0f     II2STMRC   STIMULANT RECENCY - DETAILED IMPUTATION INDICATOR\n",
      "IRMTHRC         int     %48.0f     IRMTHRC    METHAMPHETAMINE RECENCY - IMPUTATION REVISED\n",
      "IIMTHRC         int     %26.0f     IIMTHRC    METHAMPHETAMINE RECENCY - IMPUTATION INDICATOR\n",
      "II2MTHRC        int     %49.0f     II2MTHRC   METHAMPHETAMINE RECENCY - DETAILED IMP INDICATOR\n",
      "IRSEDRC         int     %48.0f     IRSEDRC    SEDATIVE RECENCY - IMPUTATION REVISED\n",
      "IISEDRC         int     %26.0f     IISEDRC    SEDATIVE RECENCY - IMPUTATION INDICATOR\n",
      "II2SEDRC        int     %49.0f     II2SEDRC   SEDATIVE RECENCY - DETAILED IMPUTATION INDICATOR\n",
      "IRALCFY         int     %29.0f     IRALCFY    ALCOHOL FREQUENCY PAST YEAR - IMPUTATION REVISED\n",
      "IIALCFY         int     %47.0f     IIALCFY    ALCOHOL FREQUENCY PAST YEAR - IMPUTATION INDICATOR\n",
      "II2ALCFY        int     %49.0f     II2ALCFY   ALCOHOL FREQ PAST YEAR - DETAILED IMP INDICATOR\n",
      "IRMJFY          int     %31.0f     IRMJFY     MARIJUANA FREQUENCY PAST YEAR - IMPUTATION REVISED\n",
      "IIMJFY          int     %47.0f     IIMJFY     MARIJUANA FREQUENCY PAST YEAR - IMP INDICATOR\n",
      "II2MJFY         int     %49.0f     II2MJFY    MARIJUANA FREQ PAST YEAR - DETAILED IMP INDICATOR\n",
      "IRCOCFY         int     %29.0f     IRCOCFY    COCAINE FREQUENCY PAST YEAR - IMPUTATION REVISED\n",
      "IICOCFY         int     %47.0f     IICOCFY    COCAINE FREQUENCY PAST YEAR - IMPUTATION INDICATOR\n",
      "II2COCFY        int     %49.0f     II2COCFY   COCAINE FREQ PAST YEAR - DETAILED IMP INDICATOR\n",
      "IRCRKFY         int     %27.0f     IRCRKFY    CRACK FREQUENCY PAST YEAR - IMPUTATION REVISED\n",
      "IICRKFY         int     %47.0f     IICRKFY    CRACK FREQUENCY PAST YEAR - IMPUTATION INDICATOR\n",
      "II2CRKFY        int     %49.0f     II2CRKFY   CRACK FREQ PAST YEAR - DETAILED IMP INDICATOR\n",
      "IRHERFY         int     %28.0f     IRHERFY    HEROIN FREQUENCY PAST YEAR - IMPUTATION REVISED\n",
      "IIHERFY         int     %47.0f     IIHERFY    HEROIN FREQUENCY PAST YEAR - IMPUTATION INDICATOR\n",
      "II2HERFY        int     %49.0f     II2HERFY   HEROIN FREQ PAST YEAR - DETAILED IMP INDICATOR\n",
      "IRHALFY         int     %35.0f     IRHALFY    HALL FREQUENCY PAST YEAR - IMPUTATION REVISED\n",
      "IIHALFY         int     %47.0f     IIHALFY    HALL FREQUENCY PAST YEAR - IMPUTATION INDICATOR\n",
      "II2HALFY        int     %49.0f     II2HALFY   HALL FREQ PAST YEAR - DETAILED IMP INDICATOR\n",
      "IRINHFY         int     %31.0f     IRINHFY    INHALANT FREQUENCY PAST YEAR - IMPUTATION REVISED\n",
      "IIINHFY         int     %47.0f     IIINHFY    INHALANT FREQUENCY PAST YEAR - IMP INDICATOR\n",
      "II2INHFY        int     %49.0f     II2INHFY   INHALANT FREQ PAST YEAR - DETAILED IMP INDICATOR\n",
      "IRANLFY         int     %36.0f     IRANLFY    PAIN RELIEVER FREQ PAST YEAR - IMPUTATION REVISED\n",
      "IIANLFY         int     %47.0f     IIANLFY    PAIN RELIEVER FREQ PAST YEAR - IMP INDICATOR\n",
      "II2ANLFY        int     %49.0f     II2ANLFY   PAIN RELIEVER FREQ PAST YR-DETAILED IMP INDICATOR\n",
      "IROXYFY         int     %31.0f     IROXYFY    OXYCONTIN FREQUENCY PAST YEAR - IMPUTATION REVISED\n",
      "IIOXYFY         int     %47.0f     IIOXYFY    OXYCONTIN FREQ PAST YEAR - IMPUTATION INDICATOR\n",
      "II2OXYFY        int     %49.0f     II2OXYFY   OXYCONTIN FREQ PAST YEAR - DETAILED IMP INDICATOR\n",
      "IRTRNFY         int     %35.0f     IRTRNFY    TRANQUILIZER FREQ PAST YEAR - IMPUTATION REVISED\n",
      "IITRNFY         int     %47.0f     IITRNFY    TRANQUILIZER FREQ PAST YEAR - IMPUTATION INDICATOR\n",
      "II2TRNFY        int     %49.0f     II2TRNFY   TRAN FREQ PAST YEAR - DETAILED IMP INDICATOR\n",
      "IRSTMFY         int     %32.0f     IRSTMFY    STIMULANT FREQUENCY PAST YEAR - IMPUTATION REVISED\n",
      "IISTMFY         int     %47.0f     IISTMFY    STIM FREQUENCY PAST YEAR - IMPUTATION INDICATOR\n",
      "II2STMFY        int     %49.0f     II2STMFY   STIM FREQ PAST YEAR - DETAILED IMP INDICATOR\n",
      "IRMTHFY         int     %37.0f     IRMTHFY    METH FREQUENCY PAST YEAR - IMPUTATION REVISED\n",
      "IIMTHFY         int     %47.0f     IIMTHFY    METH FREQUENCY PAST YEAR - IMPUTATION INDICATOR\n",
      "II2MTHFY        int     %49.0f     II2MTHFY   METH FREQ PAST YEAR - DETAILED IMP INDICATOR\n",
      "IRSEDFY         int     %31.0f     IRSEDFY    SEDATIVE FREQUENCY PAST YEAR - IMPUTATION REVISED\n",
      "IISEDFY         int     %47.0f     IISEDFY    SEDATIVE FREQUENCY PAST YEAR - IMP INDICATOR\n",
      "IRCIGFM         float   %33.1f     IRCIGFM    CIG FREQUENCY PAST MONTH - IMPUTATION REVISED\n",
      "IICIGFM         int     %48.0f     IICIGFM    CIG FREQUENCY PAST MONTH - IMPUTATION INDICATOR\n",
      "II2CIGFM        int     %48.0f     II2CIGFM   CIG FREQUENCY PAST MONTH - DETAILED IMP INDICATOR\n",
      "IRCGRFM         float   %29.1f     IRCGRFM    CIGAR FREQUENCY PAST MONTH - IMPUTATION REVISED\n",
      "IICGRFM         int     %48.0f     IICGRFM    CIGAR FREQUENCY PAST MONTH - IMPUTATION INDICATOR\n",
      "II2CGRFM        int     %49.0f     II2CGRFM   CIGAR FREQUENCY PST MONTH - DETAILED IMP INDICATOR\n",
      "IRCHWFM         float   %38.1f     IRCHWFM    CHEWING TOB FREQUENCY PST MON - IMPUTATION REVISED\n",
      "IICHWFM         int     %48.0f     IICHWFM    CHEWING TOB FREQ PAST MONTH - IMPUTATION INDICATOR\n",
      "II2CHWFM        int     %49.0f     II2CHWFM   CHEWING TOB FREQ PST MONTH-DETAILED IMP INDICATOR\n",
      "IRSNFFM         float   %28.1f     IRSNFFM    SNUFF FREQUENCY PAST MONTH - IMPUTATION REVISED\n",
      "IISNFFM         int     %48.0f     IISNFFM    SNUFF FREQUENCY PAST MONTH - IMPUTATION INDICATOR\n",
      "II2SNFFM        int     %49.0f     II2SNFFM   SNUFF FREQUENCY PST MONTH - DETAILED IMP INDICATOR\n",
      "IRALCFM         float   %30.1f     IRALCFM    ALCOHOL FREQUENCY PAST MONTH - IMPUTATION REVISED\n",
      "IIALCFM         int     %48.0f     IIALCFM    ALCOHOL FREQ PAST MONTH - IMPUTATION INDICATOR\n",
      "II2ALCFM        int     %49.0f     II2ALCFM   ALCOHOL FREQ PST MONTH - DETAILED IMP INDICATOR\n",
      "IRALCD5         int     %30.0f     IRALCD5    5+ ALC DRNKS PAST MONTH - IMP REVISED (DR5DAY)\n",
      "IIALCD5         int     %48.0f     IIALCD5    5+ ALC DRNKS PAST MONTH - IMPUTATION INDICATOR\n",
      "II2ALCD5        int     %49.0f     II2ALCD5   5+ ALC DRINKS PAST MONTH - DETAILED IMP INDICATOR\n",
      "IRMJFM          float   %32.1f     IRMJFM     MARIJUANA FREQUENCY PAST MONTH - IMP REVISED\n",
      "IIMJFM          int     %48.0f     IIMJFM     MARIJUANA FREQUENCY PAST MONTH - IMP INDICATOR\n",
      "II2MJFM         int     %49.0f     II2MJFM    MARIJUANA FREQ PAST MONTH - DETAILED IMP INDICATOR\n",
      "IRCOCFM         float   %30.0f     IRCOCFM    COCAINE FREQUENCY PAST MONTH - IMPUTATION REVISED\n",
      "IICOCFM         int     %48.0f     IICOCFM    COCAINE FREQ PAST MONTH - IMPUTATION INDICATOR\n",
      "II2COCFM        int     %49.0f     II2COCFM   COCAINE FREQ PAST MONTH - DETAILED IMP INDICATOR\n",
      "IRCRKFM         float   %28.1f     IRCRKFM    CRACK FREQUENCY PAST MONTH - IMPUTATION REVISED\n",
      "IICRKFM         int     %48.0f     IICRKFM    CRACK FREQUENCY PAST MONTH - IMPUTATION INDICATOR\n",
      "II2CRKFM        int     %49.0f     II2CRKFM   CRACK FREQ PAST MONTH - DETAILED IMP INDICATOR\n",
      "IRHERFM         float   %29.0f     IRHERFM    HEROIN FREQUENCY PAST MONTH - IMPUTATION REVISED\n",
      "IIHERFM         int     %48.0f     IIHERFM    HEROIN FREQUENCY PAST MONTH - IMPUTATION INDICATOR\n",
      "II2HERFM        int     %49.0f     II2HERFM   HEROIN FREQ PAST MONTH - DETAILED IMP INDICATOR\n",
      "IRHALFM         float   %36.1f     IRHALFM    HALLUCINOGEN FREQ PAST MONTH - IMPUTATION REVISED\n",
      "IIHALFM         int     %48.0f     IIHALFM    HALL FREQUENCY PAST MONTH - IMPUTATION INDICATOR\n",
      "II2HALFM        int     %49.0f     II2HALFM   HALL FREQ PAST MONTH - DETAILED IMP INDICATOR\n",
      "IRINHFM         float   %32.1f     IRINHFM    INHALANT FREQUENCY PAST MONTH - IMP REVISED\n",
      "IIINHFM         int     %48.0f     IIINHFM    INHALANT FREQUENCY PAST MONTH - IMP INDICATOR\n",
      "II2INHFM        int     %49.0f     II2INHFM   INHALANT FREQ PAST MONTH - DETAILED IMP INDICATOR\n",
      "CIGFLAG         int     %25.0f     CIGFLAG    CIGARETTES - EVER USED\n",
      "CIGYR           int     %46.0f     CIGYR      CIGARETTES - PAST YEAR USE\n"
     ]
    },
    {
     "name": "stdout",
     "output_type": "stream",
     "text": [
      "CIGMON          int     %47.0f     CIGMON     CIGARETTES - PAST MONTH USE\n",
      "CGRFLAG         int     %25.0f     CGRFLAG    CIGARS - EVER USED\n",
      "CGRYR           int     %46.0f     CGRYR      CIGARS - PAST YEAR USE\n",
      "CGRMON          int     %47.0f     CGRMON     CIGARS - PAST MONTH USE\n",
      "PIPFLAG         int     %24.0f     PIPFLAG    PIPES - EVER USED\n",
      "PIPMON          int     %45.0f     PIPMON     PIPES - PAST MONTH USE\n",
      "SMKFLAG         int     %25.0f     SMKFLAG    SMOKELESS TOBACCO - EVER USED\n",
      "SMKYR           int     %46.0f     SMKYR      SMOKELESS TOBACCO - PAST YEAR USE\n",
      "SMKMON          int     %47.0f     SMKMON     SMOKELESS TOBACCO - PAST MONTH USE\n",
      "CHWFLAG         int     %25.0f     CHWFLAG    CHEWING TOBACCO - EVER USED\n",
      "CHWYR           int     %46.0f     CHWYR      CHEWING TOBACCO - PAST YEAR USE\n",
      "CHWMON          int     %47.0f     CHWMON     CHEWING TOBACCO - PAST MONTH USE\n",
      "SNFFLAG         int     %25.0f     SNFFLAG    SNUFF - EVER USED\n",
      "SNFYR           int     %46.0f     SNFYR      SNUFF - PAST YEAR USE\n",
      "SNFMON          int     %47.0f     SNFMON     SNUFF - PAST MONTH USE\n",
      "TOBFLAG         int     %37.0f     TOBFLAG    ANY TOBACCO - EVER USED\n",
      "TOBYR           int     %41.0f     TOBYR      ANY TOBACCO - PAST YEAR USE\n",
      "TOBMON          int     %46.0f     TOBMON     ANY TOBACCO - PAST MONTH USE\n",
      "ALCFLAG         int     %25.0f     ALCFLAG    ALCOHOL - EVER USED\n",
      "ALCYR           int     %44.0f     ALCYR      ALCOHOL - PAST YEAR USE\n",
      "ALCMON          int     %47.0f     ALCMON     ALCOHOL - PAST MONTH USE\n",
      "MRJFLAG         int     %24.0f     MRJFLAG    MARIJUANA - EVER USED\n",
      "MRJYR           int     %43.0f     MRJYR      MARIJUANA - PAST YEAR USE\n",
      "MRJMON          int     %46.0f     MRJMON     MARIJUANA - PAST MONTH USE\n",
      "COCFLAG         int     %25.0f     COCFLAG    COCAINE - EVER USED\n",
      "COCYR           int     %44.0f     COCYR      COCAINE - PAST YEAR USE\n",
      "COCMON          int     %47.0f     COCMON     COCAINE - PAST MONTH USE\n",
      "CRKFLAG         int     %25.0f     CRKFLAG    'CRACK' - EVER USED\n",
      "CRKYR           int     %44.0f     CRKYR      'CRACK' - PAST YEAR USE\n",
      "CRKMON          int     %47.0f     CRKMON     'CRACK' - PAST MONTH USE\n",
      "HERFLAG         int     %25.0f     HERFLAG    HEROIN - EVER USED\n",
      "HERYR           int     %44.0f     HERYR      HEROIN - PAST YEAR USE\n",
      "HERMON          int     %47.0f     HERMON     HEROIN - PAST MONTH USE\n",
      "HALFLAG         int     %25.0f     HALFLAG    HALLUCINOGENS - EVER USED\n",
      "HALYR           int     %44.0f     HALYR      HALLUCINOGENS - PAST YEAR USE\n",
      "HALMON          int     %47.0f     HALMON     HALLUCINOGENS - PAST MONTH USE\n",
      "LSDFLAG         int     %25.0f     LSDFLAG    LSD - EVER USED\n",
      "LSDYR           int     %44.0f     LSDYR      LSD - PAST YEAR USE\n",
      "LSDMON          int     %47.0f     LSDMON     LSD - PAST MONTH USE\n",
      "PCPFLAG         int     %25.0f     PCPFLAG    PCP - EVER USED\n",
      "PCPYR           int     %44.0f     PCPYR      PCP - PAST YEAR USE\n",
      "PCPMON          int     %47.0f     PCPMON     PCP - PAST MONTH USE\n",
      "ECSFLAG         int     %25.0f     ECSFLAG    ECSTASY - EVER USED\n",
      "ECSYR           int     %44.0f     ECSYR      ECSTASY - PAST YEAR USE\n",
      "ECSMON          int     %47.0f     ECSMON     ECSTASY - PAST MONTH USE\n",
      "INHFLAG         int     %25.0f     INHFLAG    INHALANTS - EVER USED\n",
      "INHYR           int     %44.0f     INHYR      INHALANTS - PAST YEAR USE\n",
      "INHMON          int     %47.0f     INHMON     INHALANTS - PAST MONTH USE\n",
      "ANLFLAG         int     %25.0f     ANLFLAG    PAIN RELIEVERS - EVER USED\n",
      "ANLYR           int     %44.0f     ANLYR      PAIN RELIEVERS - PAST YEAR USE\n",
      "ANLMON          int     %47.0f     ANLMON     PAIN RELIEVERS - PAST MONTH USE\n",
      "OXYFLAG         int     %25.0f     OXYFLAG    OXYCONTIN - EVER USED\n",
      "OXYYR           int     %44.0f     OXYYR      OXYCONTIN - PAST YEAR USE\n",
      "OXYMON          int     %47.0f     OXYMON     OXYCONTIN - PAST MONTH USE\n",
      "TRQFLAG         int     %25.0f     TRQFLAG    TRANQUILIZERS - EVER USED\n",
      "TRQYR           int     %44.0f     TRQYR      TRANQUILIZERS - PAST YEAR USE\n",
      "TRQMON          int     %47.0f     TRQMON     TRANQUILIZERS - PAST MONTH USE\n",
      "STMFLAG         int     %25.0f     STMFLAG    STIMULANTS - EVER USED\n",
      "STMYR           int     %44.0f     STMYR      STIMULANTS - PAST YEAR USE\n",
      "STMMON          int     %47.0f     STMMON     STIMULANTS - PAST MONTH USE\n",
      "CPNSTMFG        int     %10.0f     CPNSTMFG   CPN STIMULANTS - EVER USED\n",
      "CPNSTMYR        int     %28.0f     CPNSTMYR   CPN STIMULANTS - PAST YEAR USE\n",
      "CPNSTMMN        int     %29.0f     CPNSTMMN   CPN STIMULANTS - PAST MONTH USE\n",
      "MTHFLAG         int     %25.0f     MTHFLAG    METHAMPHETAMINE - EVER USED\n",
      "MTHYR           int     %44.0f     MTHYR      METHAMPHETAMINE - PAST YEAR USE\n",
      "MTHMON          int     %47.0f     MTHMON     METHAMPHETAMINE - PAST MONTH USE\n",
      "CPNMTHFG        int     %10.0f     CPNMTHFG   CPN METHAMPHETAMINE - EVER USED\n",
      "CPNMTHYR        int     %28.0f     CPNMTHYR   CPN METHAMPHETAMINE - PAST YEAR USE\n",
      "CPNMTHMN        int     %29.0f     CPNMTHMN   CPN METHAMPHETAMINE - PAST MONTH USE\n",
      "SEDFLAG         int     %25.0f     SEDFLAG    SEDATIVES - EVER USED\n",
      "SEDYR           int     %44.0f     SEDYR      SEDATIVES - PAST YEAR USE\n",
      "SEDMON          int     %47.0f     SEDMON     SEDATIVES - PAST MONTH USE\n",
      "PSYFLAG2        int     %37.0f     PSYFLAG2   ANY PSYCHOTHERAPEUTICS - EVER USED\n",
      "PSYYR2          int     %50.0f     PSYYR2     ANY PSYCHOTHERAPEUTICS - PAST YEAR USE\n",
      "PSYMON2         int     %47.0f     PSYMON2    ANY PSYCHOTHERAPEUTICS - PAST MONTH USE\n",
      "PSYAGE2         int     %10.0f     PSYAGE2    ANY PSYCHOTHERAPEUTICS - AGE FIRST USE\n",
      "PSYYFU2         int     %10.0f     PSYYFU2    ANY PSYCHOTHERAPEUTICS - YEAR FIRST USE\n",
      "CPNPSYFG        int     %35.0f     CPNPSYFG   CPN PSYCHOTHERAPEUTIC - EVER USED\n",
      "CPNPSYYR        int     %50.0f     CPNPSYYR   CPN PSYCHOTHERAPEUTIC - PAST YEAR USE\n",
      "CPNPSYMN        int     %49.0f     CPNPSYMN   CPN PSYCHOTHERAPEUTIC - PAST MONTH USE\n",
      "SUMFLAG         int     %37.0f     SUMFLAG    ANY ILLICIT DRUG - EVER USED\n",
      "SUMYR           int     %46.0f     SUMYR      ANY ILLICIT DRUG - PAST YEAR USE\n",
      "SUMMON          int     %47.0f     SUMMON     ANY ILLICIT DRUG - PAST MONTH USE\n",
      "SUMAGE          int     %10.0f     SUMAGE     ANY ILLICIT DRUG - AGE FIRST USE\n",
      "SUMYFU          int     %10.0f     SUMYFU     ANY ILLICIT DRUG - YEAR FIRST USE\n",
      "MJOFLAG         int     %50.0f     MJOFLAG    MARIJUANA ONLY - EVER USED\n",
      "MJOYR2          int     %47.0f     MJOYR2     MARIJUANA ONLY - PAST YEAR USE\n",
      "MJOMON2         int     %49.0f     MJOMON2    MARIJUANA ONLY - PAST MONTH USE\n",
      "IEMFLAG         int     %47.0f     IEMFLAG    ILLICIT DRUG OTHER THAN MARIJUANA - EVER USED\n",
      "IEMYR           int     %48.0f     IEMYR      ILLICIT DRUG OTHER THAN MARIJUANA - PAST YEAR USED\n",
      "IEMMON          int     %49.0f     IEMMON     ILLICIT DRUG OTHER THAN MARIJUANA-PAST MONTH USED\n",
      "IEMAGE          int     %10.0f     IEMAGE     ILLICIT DRUG EXCEPT FOR MARIJUANA - AGE FIRST USE\n",
      "IEMYFU          int     %10.0f     IEMYFU     ILLICIT DRUG OTHER THAN MARIJUANA - YEAR FIRST USE\n",
      "CDUFLAG         int     %39.0f     CDUFLAG    CIGARETTES DAILY - EVER USED\n",
      "DCIGMON         int     %50.0f     DCIGMON    PAST MONTH DAILY CIGARETTE USE\n",
      "CDCGMO          int     %28.0f     CDCGMO     EVER USED CIG DAILY AND PAST MONTH CIG USE\n",
      "CDNOCGMO        int     %28.0f     CDNOCGMO   EVER USED CIG DAILY AND NO PAST MONTH CIG USE\n",
      "CIGALCMO        int     %50.0f     CIGALCMO   PAST MONTH CIGARETTE/ALCOHOL USE\n",
      "BINGEDRK        int     %48.0f     BINGEDRK   BINGE ALCOHOL USE PAST 30 DAYS\n",
      "HVYDRK2         int     %48.0f     HVYDRK2    HEAVY ALCOHOL USE PAST 30 DAYS\n",
      "BINGEHVY        int     %50.0f     BINGEHVY   LEVEL OF ALCOHOL USE IN PAST MONTH\n",
      "ILTOALMN        int     %49.0f     ILTOALMN   ILLICIT DRUG, TOBACCO PRD, OR ALC PAST MONTH USE\n",
      "ILALMON         int     %47.0f     ILALMON    ILLICIT DRUG OR ALCOHOL PAST MONTH USE\n",
      "TOBALCMN        int     %46.0f     TOBALCMN   TOBACCO PRODUCT OR ALCOHOL PAST MONTH USE\n",
      "NILALMON        int     %39.0f     NILALMON   NO ILLICIT DRUG OR ALCOHOL USE IN THE PAST 30 DAYS\n",
      "ILANDALC        int     %31.0f     ILANDALC   ILLICIT DRUG AND ALCOHOL USE - PST YR\n",
      "ILORALC         int     %32.0f     ILORALC    ILLICIT DRUG OR ALCOHOL USE - PST YR\n",
      "PEYOTE2         int     %22.0f     PEYOTE2    EVER USED PEYOTE\n",
      "MESC2           int     %22.0f     MESC2      EVER USED MESCALINE\n"
     ]
    },
    {
     "name": "stdout",
     "output_type": "stream",
     "text": [
      "PSILCY2         int     %22.0f     PSILCY2    EVER USED PSILOCYBIN (MUSHROOMS)\n",
      "AMYLNIT2        int     %22.0f     AMYLNIT2   EVER INHALED AMYL NITRITE, 'POPPERS', RUSH, ETC.\n",
      "CLEFLU2         int     %22.0f     CLEFLU2    EVER INHALED CORRECTION FLUID, DEGREASER, ETC.\n",
      "GAS2            int     %22.0f     GAS2       EVER INHALED GASOLINE OR LIGHTER FLUID\n",
      "GLUE2           int     %22.0f     GLUE2      EVER INHALED GLUE, SHOE POLISH, OR TOLUENE\n",
      "ETHER2          int     %22.0f     ETHER2     EVER INHALED HALOTHANE, ETHER, OR OTHER ANESTHETIC\n",
      "SOLVENT2        int     %22.0f     SOLVENT2   EVER INHALED LACQUER THINNER, OTHER PAINT SOLVENTS\n",
      "LGAS2           int     %22.0f     LGAS2      EVER INHALED LIGHTER GASES (BUTANE, PROPANE)\n",
      "NITOXID2        int     %22.0f     NITOXID2   EVER INHALED NITROUS OXIDE OR 'WHIPPITS'\n",
      "SPPAINT2        int     %22.0f     SPPAINT2   EVER INHALED SPRAY PAINTS\n",
      "AEROS2          int     %22.0f     AEROS2     EVER INHALED OTHER AEROSOL SPRAYS\n",
      "DARVTYL2        int     %22.0f     DARVTYL2   EVER USED DARVOCET, DARVON, TYLENOL W/CODEINE\n",
      "PERCTYL2        int     %22.0f     PERCTYL2   EVER USED PERCOCET, PERCODAN, TYLOX\n",
      "VICOLOR2        int     %22.0f     VICOLOR2   EVER USED VICODIN, LORTAB, LORCET\n",
      "CODEINE2        int     %29.0f     CODEINE2   EVER USED CODEINE\n",
      "DEMEROL2        int     %29.0f     DEMEROL2   EVER USED DEMEROL\n",
      "DILAUD2         int     %28.0f     DILAUD2    EVER USED DILAUDID\n",
      "FIORICT2        int     %30.0f     FIORICT2   EVER USED FIORICET\n",
      "FIORINL2        int     %30.0f     FIORINL2   EVER USED FIORINAL\n",
      "HYDROCD2        int     %30.0f     HYDROCD2   EVER USED HYDROCODONE\n",
      "METHDON2        int     %29.0f     METHDON2   EVER USED METHADONE\n",
      "MORPHIN2        int     %30.0f     MORPHIN2   EVER USED MORPHINE\n",
      "PHENCOD2        int     %29.0f     PHENCOD2   EVER USED PHENAPHEN WITH CODEINE\n",
      "PROPOXY2        int     %29.0f     PROPOXY2   EVER USED PROPOXYPHENE\n",
      "SK65A2          int     %27.0f     SK65A2     EVER USED SK65\n",
      "STADOL2         int     %28.0f     STADOL2    EVER USED STADOL\n",
      "TALACEN2        int     %29.0f     TALACEN2   EVER USED TALACEN\n",
      "TALWIN2         int     %28.0f     TALWIN2    EVER USED TALWIN\n",
      "TALWINX2        int     %30.0f     TALWINX2   EVER USED TALWIN NX\n",
      "TRAMADL2        int     %30.0f     TRAMADL2   EVER USED TRAMADOL\n",
      "ULTRAM2         int     %28.0f     ULTRAM2    EVER USED ULTRAM\n",
      "OTHANL          int     %29.0f     OTHANL     EVER USED OTHER PAIN RELIEVERS\n",
      "PROCODNP        int     %23.0f     PROCODNP   PROPOXYPHENE/CODEINE PRODUCTS\n",
      "OXYCODP2        int     %23.0f     OXYCODP2   OXYCODONE PRODUCTS\n",
      "HYDCODOP        int     %23.0f     HYDCODOP   HYDROCODONE PRODUCTS\n",
      "TRAMADP         int     %23.0f     TRAMADP    TRAMADOL PRODUCTS\n",
      "KLONOPI2        int     %22.0f     KLONOPI2   EVER USED KLONOPIN OR CLONAZEPAM\n",
      "XNAXATV2        int     %22.0f     XNAXATV2   EVER USED XANAX, ALPRAZOLAM, ATIVAN\n",
      "VALMDIA2        int     %22.0f     VALMDIA2   EVER USED VALIUM OR DIAZEPAM\n",
      "ATARAX2         int     %28.0f     ATARAX2    EVER USED ATARAX\n",
      "BUSPAR2         int     %28.0f     BUSPAR2    EVER USED BUSPAR\n",
      "EQUANIL2        int     %29.0f     EQUANIL2   EVER USED EQUANIL\n",
      "FLEXERL2        int     %30.0f     FLEXERL2   EVER USED FLEXERIL\n",
      "LIBRIUM2        int     %29.0f     LIBRIUM2   EVER USED LIBRIUM\n",
      "LIMBTRL2        int     %30.0f     LIMBTRL2   EVER USED LIMBITROL\n",
      "MEPROB2         int     %28.0f     MEPROB2    EVER USED MEPROBAMATE\n",
      "MILTOWN2        int     %29.0f     MILTOWN2   EVER USED MILTOWN\n",
      "ROHYPNL2        int     %30.0f     ROHYPNL2   EVER USED ROHYPNOL\n",
      "SERAX2          int     %27.0f     SERAX2     EVER USED SERAX\n",
      "SOMA2           int     %26.0f     SOMA2      EVER USED SOMA\n",
      "TRANXEN2        int     %30.0f     TRANXEN2   EVER USED TRANXENE\n",
      "VISTAR2         int     %28.0f     VISTAR2    EVER USED VISTARIL\n",
      "OTHTRN          int     %28.0f     OTHTRN     EVER USED OTHER TRANQUILIZERS\n",
      "BENZOS          int     %23.0f     BENZOS     BENZODIAZEPINE PRODUCTS\n",
      "MEPROBPD        int     %23.0f     MEPROBPD   MEPROBAMATE PRODUCTS\n",
      "MUSCRELX        int     %23.0f     MUSCRELX   MUSCLE RELAXANTS\n",
      "METHDES2        int     %22.0f     METHDES2   EVER USED METHAMPHETAMINE, DESOXYN, OR METHEDRINE\n",
      "DIETPIL2        int     %22.0f     DIETPIL2   EVER USED DIET PILLS\n",
      "RITMPHE2        int     %22.0f     RITMPHE2   EVER USED RITALIN/METHYLPHENIDATE\n",
      "CYLERT2         int     %28.0f     CYLERT2    EVER USED CYLERT\n",
      "DEXED2          int     %27.0f     DEXED2     EVER USED DEXEDRINE\n",
      "DETAMP2         int     %28.0f     DETAMP2    EVER USED DEXTROAMPHETAMINE\n",
      "DIDREX2         int     %28.0f     DIDREX2    EVER USED DIDREX\n",
      "ESKAT2          int     %27.0f     ESKAT2     EVER USED ESKATROL\n",
      "IONAMIN2        int     %29.0f     IONAMIN2   EVER USED IONAMIN\n",
      "MAZANOR2        int     %29.0f     MAZANOR2   EVER USED MAZANOR\n",
      "OBLA2           int     %26.0f     OBLA2      EVER USED OBEDRIN-LA\n",
      "PLEGINE2        int     %29.0f     PLEGINE2   EVER USED PLEGINE\n",
      "PRELUDN2        int     %30.0f     PRELUDN2   EVER USED PRELUDIN\n",
      "SANOREX2        int     %29.0f     SANOREX2   EVER USED SANOREX\n",
      "TENUATE2        int     %29.0f     TENUATE2   EVER USED TENUATE\n",
      "OTHSTM          int     %29.0f     OTHSTM     EVER USED OTHER STIMULANTS\n",
      "AMDXPHEN        int     %23.0f     AMDXPHEN   AMPHETAMINE, DEXTROAMPHETAMINE, & PHENTERMINE PROD\n",
      "MAZINDOL        int     %23.0f     MAZINDOL   MAZINDOL PRODUCTS\n",
      "METHDEXM        int     %23.0f     METHDEXM   METHYLPHENIDATE/DEXMETHYLPHENIDATE PRODUCTS\n",
      "METHAQ2         int     %22.0f     METHAQ2    EVER USED METHAQUALONE, SOPOR, QUALLUDE\n",
      "NEMBBAR2        int     %22.0f     NEMBBAR2   EVER USED BARBITURATES\n",
      "RESTTMA2        int     %22.0f     RESTTMA2   EVER USED RESTORIL OR TEMAZEPAM\n",
      "AMYTAL2         int     %28.0f     AMYTAL2    EVER USED AMYTAL\n",
      "BUTISOL2        int     %29.0f     BUTISOL2   EVER USED BUTISOL\n",
      "CHHYD2          int     %27.0f     CHHYD2     EVER USED CHLORAL HYDRATE\n",
      "DALMANE2        int     %29.0f     DALMANE2   EVER USED DALMANE\n",
      "HALCION2        int     %29.0f     HALCION2   EVER USED HALCION\n",
      "PHENOBR2        int     %30.0f     PHENOBR2   EVER USED PHENOBARBITAL\n",
      "PLACIDY2        int     %30.0f     PLACIDY2   EVER USED PLACIDYL\n",
      "TUINAL2         int     %28.0f     TUINAL2    EVER USED TUINAL\n",
      "OTHSED          int     %29.0f     OTHSED     EVER USED OTHER SEDATIVES\n",
      "RTDALHAL        int     %44.0f     RTDALHAL   TEMAZEPAM, FLURAZEPAM, OR TRIAZOLAM\n",
      "ANYBARB         int     %23.0f     ANYBARB    ANY BARBITURATES\n",
      "CIGAFU          int     %35.0f     CIGAFU     CIGARETTE AGE OF FIRST USE - CATEGORIZED RECODE\n",
      "DCIGAFU         int     %47.0f     DCIGAFU    DAILY CIG AGE OF FIRST USE - CATEGORIZED RECODE\n",
      "ALCAFU          int     %35.0f     ALCAFU     ALCOHOL AGE OF FIRST USE - CATEGORIZED RECODE\n",
      "ALCAFU2         int     %35.0f     ALCAFU2    ALCOHOL AGE OF FIRST USE - CATEGORIZED RECODE 2\n",
      "ALCAFU3         int     %35.0f     ALCAFU3    ALCOHOL AGE OF FIRST USE - CATEGORIZED RECODE 3\n",
      "MJAFU           int     %34.0f     MJAFU      MARIJUANA AGE OF FIRST USE - CATEGORIZED RECODE\n",
      "ALCYDAYS        int     %46.0f     ALCYDAYS   # OF DAYS USED ALCOHOL IN PAST YEAR\n",
      "MRJYDAYS        int     %45.0f     MRJYDAYS   # OF DAYS USED MARIJUANA IN PAST YEAR\n",
      "COCYDAYS        int     %46.0f     COCYDAYS   # OF DAYS USED COCAINE IN PAST YEAR\n",
      "HALYDAYS        int     %46.0f     HALYDAYS   # OF DAYS USED HALLUCINOGENS IN PAST YEAR\n",
      "INHYDAYS        int     %46.0f     INHYDAYS   # OF DAYS USED INHALANTS IN PAST YEAR\n",
      "STMYDAYS        int     %46.0f     STMYDAYS   # OF DAYS USED STIMULANTS IN PAST YEAR\n",
      "CIGMDAYS        int     %45.0f     CIGMDAYS   # OF DAYS USED CIGARETTES IN PAST MONTH\n",
      "ALCMDAYS        int     %45.0f     ALCMDAYS   # OF DAYS USED ALCOHOL IN PAST MONTH\n",
      "MRJMDAYS        int     %44.0f     MRJMDAYS   # OF DAYS USED MARIJUANA IN PAST MONTH\n",
      "COCMDAYS        int     %45.0f     COCMDAYS   # OF DAYS USED COCAINE IN PAST MONTH\n",
      "HALMDAYS        int     %45.0f     HALMDAYS   # OF DAYS USED HALLUCINOGENS IN PAST MONTH\n",
      "INHMDAYS        int     %45.0f     INHMDAYS   # OF DAYS USED INHALANTS IN PAST MONTH\n",
      "CIGPDAY         int     %50.0f     CIGPDAY    # OF CIGARETTES SMOKED PER DAY AMONG DAILY SMOKERS\n",
      "CIG1PACK        int     %39.0f     CIG1PACK   SMKED 1+ PCK OF CIGS PER DAY AMNG DLY SMKERS (1/0)\n",
      "CIGAVGD         float   %41.1f     CIGAVGD    AVG NUMBER OF CIGARETTES SMOKED PER DAY\n"
     ]
    },
    {
     "name": "stdout",
     "output_type": "stream",
     "text": [
      "CIGAVGM         float   %45.2f     CIGAVGM    NUMBER OF CIGARETTES SMOKED PER USER IN PAST MONTH\n",
      "ALCAVGM         float   %36.1f     ALCAVGM    NUMBER OF ALC BEVS DRANK PER USER IN PAST MONTH\n",
      "FUCIG18         int     %17.0f     FUCIG18    FIRST USED CIGARETTES PRIOR TO AGE 18\n",
      "FUCIG21         int     %17.0f     FUCIG21    FIRST USED CIGARETTES PRIOR TO AGE 21\n",
      "FUCD218         int     %17.0f     FUCD218    FIRST USED CIGARETTES DAILY PRIOR TO AGE 18\n",
      "FUCD221         int     %17.0f     FUCD221    FIRST USED CIGARETTES DAILY PRIOR TO AGE 21\n",
      "FUCGR18         int     %17.0f     FUCGR18    FIRST USED CIGARS PRIOR TO AGE 18\n",
      "FUCGR21         int     %17.0f     FUCGR21    FIRST USED CIGARS PRIOR TO AGE 21\n",
      "FUSLT18         int     %17.0f     FUSLT18    FIRST USED SMOKELESS TOBACCO PRIOR TO AGE 18\n",
      "FUSLT21         int     %17.0f     FUSLT21    FIRST USED SMOKELESS TOBACCO PRIOR TO AGE 21\n",
      "FUALC18         int     %17.0f     FUALC18    FIRST USED ALCOHOL PRIOR TO AGE 18\n",
      "FUALC21         int     %17.0f     FUALC21    FIRST USED ALCOHOL PRIOR TO AGE 21\n",
      "FUMJ18          int     %16.0f     FUMJ18     FIRST USED MARIJUANA PRIOR TO AGE 18\n",
      "FUMJ21          int     %16.0f     FUMJ21     FIRST USED MARIJUANA PRIOR TO AGE 21\n",
      "FUCOC18         int     %17.0f     FUCOC18    FIRST USED COCAINE PRIOR TO AGE 18\n",
      "FUCOC21         int     %17.0f     FUCOC21    FIRST USED COCAINE PRIOR TO AGE 21\n",
      "FUCRK18         int     %17.0f     FUCRK18    FIRST USED CRACK PRIOR TO AGE 18\n",
      "FUCRK21         int     %17.0f     FUCRK21    FIRST USED CRACK PRIOR TO AGE 21\n",
      "FUHER18         int     %17.0f     FUHER18    FIRST USED HEROIN PRIOR TO AGE 18\n",
      "FUHER21         int     %17.0f     FUHER21    FIRST USED HEROIN PRIOR TO AGE 21\n",
      "FUHAL18         int     %17.0f     FUHAL18    FIRST USED HALLUCINOGENS PRIOR TO AGE 18\n",
      "FUHAL21         int     %17.0f     FUHAL21    FIRST USED HALLUCINOGENS PRIOR TO AGE 21\n",
      "FULSD18         int     %17.0f     FULSD18    FIRST USED LSD PRIOR TO AGE 18\n",
      "FULSD21         int     %17.0f     FULSD21    FIRST USED LSD PRIOR TO AGE 21\n",
      "FUPCP18         int     %17.0f     FUPCP18    FIRST USED PCP PRIOR TO AGE 18\n",
      "FUPCP21         int     %17.0f     FUPCP21    FIRST USED PCP PRIOR TO AGE 21\n",
      "FUECS18         int     %17.0f     FUECS18    FIRST USED ECSTASY PRIOR TO AGE 18\n",
      "FUECS21         int     %17.0f     FUECS21    FIRST USED ECSTASY PRIOR TO AGE 21\n",
      "FUINH18         int     %17.0f     FUINH18    FIRST USED INHALANTS PRIOR TO AGE 18\n",
      "FUINH21         int     %17.0f     FUINH21    FIRST USED INHALANTS PRIOR TO AGE 21\n",
      "FUANL18         int     %17.0f     FUANL18    FIRST USED PAIN RELIEVERS PRIOR TO AGE 18\n",
      "FUANL21         int     %17.0f     FUANL21    FIRST USED PAIN RELIEVERS PRIOR TO AGE 21\n",
      "FUOXY18         int     %17.0f     FUOXY18    FIRST USED OXYCONTIN PRIOR TO AGE 18\n",
      "FUOXY21         int     %17.0f     FUOXY21    FIRST USED OXYCONTIN PRIOR TO AGE 21\n",
      "FUTRN18         int     %17.0f     FUTRN18    FIRST USED TRANQUILIZERS PRIOR TO AGE 18\n",
      "FUTRN21         int     %17.0f     FUTRN21    FIRST USED TRANQUILIZERS PRIOR TO AGE 21\n",
      "FUSTM18         int     %17.0f     FUSTM18    FIRST USED STIMULANTS PRIOR TO AGE 18\n",
      "FUSTM21         int     %17.0f     FUSTM21    FIRST USED STIMULANTS PRIOR TO AGE 21\n",
      "FUMTH18         int     %17.0f     FUMTH18    FIRST USED METHAMPHETAMINE PRIOR TO AGE 18\n",
      "FUMTH21         int     %17.0f     FUMTH21    FIRST USED METHAMPHETAMINE PRIOR TO AGE 21\n",
      "FUSED18         int     %17.0f     FUSED18    FIRST USED SEDATIVES PRIOR TO AGE 18\n",
      "FUSED21         int     %17.0f     FUSED21    FIRST USED SEDATIVES PRIOR TO AGE 21\n",
      "FUPSY18         int     %16.0f     FUPSY18    FIRST USED PSYCHOTHERAPEUTICS PRIOR TO AGE 18\n",
      "FUPSY21         int     %16.0f     FUPSY21    FIRST USED PSYCHOTHERAPEUTICS PRIOR TO AGE 21\n",
      "FUSUM18         int     %15.0f     FUSUM18    FIRST USED ILLICIT DRUGS PRIOR TO AGE 18\n",
      "FUSUM21         int     %15.0f     FUSUM21    FIRST USED ILLICIT DRUGS PRIOR TO AGE 21\n",
      "FUIEM18         int     %15.0f     FUIEM18    FIRST USED ILL DRG OTH THAN MJ PRIOR TO AGE 18\n",
      "FUIEM21         int     %15.0f     FUIEM21    FIRST USED ILL DRG OTH THAN MJ PRIOR TO AGE 21\n",
      "CIGIRTBL        int     %42.0f     CIGIRTBL   NEED TO SMOKE TO FEEL LESS IRRITABLE\n",
      "CIGCRAVE        int     %42.0f     CIGCRAVE   START TO CRAVE CIGS WHEN DON'T SMOKE FOR FEW HRS\n",
      "CIGCRAGP        int     %42.0f     CIGCRAGP   CRAVING OF CIGS LIKE STRONG FORCE CAN'T CONTROL\n",
      "CIGINCTL        int     %42.0f     CIGINCTL   FEEL A SENSE OF CONTROL OVER YOUR SMOKING\n",
      "CIGAVOID        int     %42.0f     CIGAVOID   TEND TO AVOID PLACES THAT DON'T ALLOW SMOKING\n",
      "CIGFNSMK        int     %42.0f     CIGFNSMK   HAVE FRIENDS WHO DO NOT SMOKE CIGARETTES\n",
      "CIGFNLKE        int     %42.0f     CIGFNLKE   CHOOSE NOT TO BE AROUND FRIENDS WHO DON'T SMOKE\n",
      "CIGPLANE        int     %42.0f     CIGPLANE   RATHER NOT TRAVEL BY AIRPLANE B/C NO SMOKING\n",
      "CIGRNOUT        int     %42.0f     CIGRNOUT   SOMETIMES WORRY THAT YOU WILL RUN OUT OF CIGS\n",
      "CIGREGDY        int     %42.0f     CIGREGDY   SMOKE CIGS FAIRLY REGULARLY THROUGHOUT THE DAY\n",
      "CIGREGWK        int     %42.0f     CIGREGWK   SMOKE SAME AMOUNT ON WEEKENDS AS ON WEEKDAYS\n",
      "CIGREGNM        int     %42.0f     CIGREGNM   SMOKE SAME NUMBER OF CIGS FROM DAY TO DAY\n",
      "CIGNMCHG        int     %42.0f     CIGNMCHG   NUMBER OF CIGS SMOKE PER DAY OFTEN CHANGES\n",
      "CIGSVLHR        int     %42.0f     CIGSVLHR   HAVE MANY CIGS IN HR, THEN NO CIGS TIL HRS LATER\n",
      "CIGINFLU        int     %42.0f     CIGINFLU   # OF CIGS SMOKE PER DAY INFLUENCED BY OTHER THINGS\n",
      "CIGNOINF        int     %42.0f     CIGNOINF   SMOKING NOT AFFECTED BY OTHER THINGS\n",
      "CIGINCRS        int     %42.0f     CIGINCRS   AMOUNT OF SMOKING HAS INCR. SINCE STARTED SMOKING\n",
      "CIGSATIS        int     %42.0f     CIGSATIS   NEED TO SMOKE A LOT MORE TO BE SATISFIED\n",
      "CIGLOTMR        int     %42.0f     CIGLOTMR   SMOKE MUCH MORE NOW BEFORE FEEL ANYTHING\n",
      "CIGWAKE         int     %44.0f     CIGWAKE    HOW SOON AFTER WAKING DO YOU HAVE YOUR FIRST CIG\n",
      "ALCLOTTM        int     %49.0f     ALCLOTTM   SPENT MONTH/MORE GETTING/DRNKG ALC PAST 12 MOS\n",
      "ALCGTOVR        int     %49.0f     ALCGTOVR   MONTH+ SPENT GETTING OVER ALC EFFECTS PST 12 MOS\n",
      "ALCLIMIT        int     %49.0f     ALCLIMIT   SET LIMITS ON ALCOHOL USE PAST 12 MONTHS\n",
      "ALCKPLMT        int     %49.0f     ALCKPLMT   ABLE TO KEEP LIMITS OR DRANK MORE PAST 12 MOS\n",
      "ALCNDMOR        int     %49.0f     ALCNDMOR   NEEDED MORE ALC TO GET SAME EFFECT PST 12 MOS\n",
      "ALCLSEFX        int     %49.0f     ALCLSEFX   DRNKG SAME AMT ALC HAD LESS EFFECT PAST 12 MOS\n",
      "ALCCUTDN        int     %49.0f     ALCCUTDN   WANT/TRY TO CUT DOWN/STOP DRNKG PAST 12 MOS\n",
      "ALCCUTEV        int     %49.0f     ALCCUTEV   ABLE TO CUT/STOP DRNKG EVERY TIME PAST 12 MOS\n",
      "ALCCUT1X        int     %49.0f     ALCCUT1X   CUT DOWN OR STOP DRNKG AT LEAST ONCE PAST 12 MOS\n",
      "ALCWD2SX        int     %49.0f     ALCWD2SX   HAD 2+ ALC WITHDRAWAL SYMPTOMS PST 12 MOS\n",
      "ALCWDSMT        int     %49.0f     ALCWDSMT   HAD 2+ ALC WDRAW SYM AT SAME TIME PST 12 MOS\n",
      "ALCEMOPB        int     %49.0f     ALCEMOPB   ALC CAUSE PRBS WITH EMOT/NERVES PAST 12 MOS\n",
      "ALCEMCTD        int     %49.0f     ALCEMCTD   CONTD TO DRINK ALC DESPITE EMOT PRBS\n",
      "ALCPHLPB        int     %49.0f     ALCPHLPB   ANY PHYS PRBS CAUSED/WORSND BY ALC PST 12 MOS\n",
      "ALCPHCTD        int     %49.0f     ALCPHCTD   CONTD TO DRINK ALC DESPITE PHYS PRBS\n",
      "ALCLSACT        int     %49.0f     ALCLSACT   LESS ACTIVITIES B/C OF ALC USE PAST 12 MOS\n",
      "ALCSERPB        int     %49.0f     ALCSERPB   ALC CAUSE SERS PRBS AT HOME/WORK/SCH PST 12 MOS\n",
      "ALCPDANG        int     %49.0f     ALCPDANG   DRNK ALC AND DO DANGEROUS ACTIVITIES PST 12 MOS\n",
      "ALCLAWTR        int     %49.0f     ALCLAWTR   DRNK ALC CAUSE PRBS WITH LAW PAST 12 MOS\n",
      "ALCFMFPB        int     %49.0f     ALCFMFPB   DRNK ALC CAUSE PRBS W/FAMILY/FRIENDS PST 12 MOS\n",
      "ALCFMCTD        int     %49.0f     ALCFMCTD   CONTD TO DRINK ALC DESPITE PRBS W/ FAM/FRNDS\n",
      "MRJLOTTM        int     %48.0f     MRJLOTTM   SPENT MONTH/MORE GETTING/USING MJ PAST 12 MOS\n",
      "MRJGTOVR        int     %48.0f     MRJGTOVR   MONTH+ SPENT GETTING OVER MJ EFFECTS PST 12 MOS\n",
      "MRJLIMIT        int     %48.0f     MRJLIMIT   SET LIMITS ON MARIJUANA USE PAST 12 MONTHS\n",
      "MRJKPLMT        int     %48.0f     MRJKPLMT   ABLE TO KEEP LIMITS OR USE MORE MJ PAST 12 MOS\n",
      "MRJNDMOR        int     %48.0f     MRJNDMOR   NEEDED MORE MJ TO GET SAME EFFECT PST 12 MOS\n"
     ]
    },
    {
     "name": "stdout",
     "output_type": "stream",
     "text": [
      "MRJLSEFX        int     %48.0f     MRJLSEFX   USING SAME AMT MJ HAD LESS EFFECT PAST 12 MOS\n",
      "MRJCUTDN        int     %48.0f     MRJCUTDN   WANT/TRY TO CUT DOWN/STOP USING MJ PST 12 MOS\n",
      "MRJCUTEV        int     %48.0f     MRJCUTEV   ABLE TO CUT/STOP USING MJ EVERY TIME PST 12 MOS\n",
      "MRJEMOPB        int     %48.0f     MRJEMOPB   MJ CAUSE PRBS WITH EMOT/NERVES PAST 12 MOS\n",
      "MRJEMCTD        int     %48.0f     MRJEMCTD   CONTD USING MARIJUANA DESPITE EMOT PRBS\n",
      "MRJPHLPB        int     %48.0f     MRJPHLPB   ANY PHYS PRBS CAUSED/WORSND BY MJ PST 12 MOS\n",
      "MRJPHCTD        int     %48.0f     MRJPHCTD   CONTD TO USE MARIJUANA DESPITE PHYS PRBS\n",
      "MRJLSACT        int     %48.0f     MRJLSACT   LESS ACTIVITIES B/C OF MJ USE PAST 12 MOS\n",
      "MRJSERPB        int     %48.0f     MRJSERPB   MJ CAUSE SERS PRBS AT HOME/WORK/SCH PST 12 MOS\n",
      "MRJPDANG        int     %48.0f     MRJPDANG   USING MJ AND DO DANGEROUS ACTIVITIES PST 12 MOS\n",
      "MRJLAWTR        int     %48.0f     MRJLAWTR   USING MJ CAUSE PRBS WITH LAW PAST 12 MOS\n",
      "MRJFMFPB        int     %48.0f     MRJFMFPB   USING MJ CAUSE PRBS W/FAMILY/FRIENDS PST 12 MOS\n",
      "MRJFMCTD        int     %48.0f     MRJFMCTD   CONTD TO USE MJ DESPITE PRBS W/ FAM/FRNDS\n",
      "COCLOTTM        int     %38.0f     COCLOTTM   SPENT MONTH/MORE GETTING/USING COC PAST 12 MOS\n",
      "COCGTOVR        int     %38.0f     COCGTOVR   MONTH+ SPENT GETTING OVER COC EFFECTS PST 12 MOS\n",
      "COCLIMIT        int     %38.0f     COCLIMIT   SET LIMITS ON COCAINE USE PAST 12 MONTHS\n",
      "COCKPLMT        int     %38.0f     COCKPLMT   ABLE TO KEEP LIMITS OR USED MORE COC PST 12 MOS\n",
      "COCNDMOR        int     %38.0f     COCNDMOR   NEEDED MORE COC TO GET SAME EFFECT PST 12 MOS\n",
      "COCLSEFX        int     %38.0f     COCLSEFX   USING SAME AMT COC HAD LESS EFFECT PAST 12 MOS\n",
      "COCCUTDN        int     %38.0f     COCCUTDN   WANT/TRY TO CUT DOWN/STOP USING COC PAST 12 MOS\n",
      "COCCUTEV        int     %38.0f     COCCUTEV   ABLE TO CUT/STOP USING COC EVERY TIME PAST 12 MOS\n",
      "COCCUT1X        int     %38.0f     COCCUT1X   CUT DOWN/STOP USING COC AT LEAST 1X PST 12 MOS\n",
      "COCFLBLU        int     %38.0f     COCFLBLU   WHEN CUT DOWN ON COC, FELT BLUE PAST 12 MONTHS\n",
      "COCWD2SX        int     %38.0f     COCWD2SX   HAD 2+ COC WITHDRAWAL SYMPTOMS PST 12 MOS\n",
      "COCWDSMT        int     %38.0f     COCWDSMT   HAD 2+ COC WDRAW SYM AT SAME TIME PAST 12 MOS\n",
      "COCEMOPB        int     %38.0f     COCEMOPB   COC CAUSE PRBS WITH EMOT/NERVES PAST 12 MOS\n",
      "COCEMCTD        int     %38.0f     COCEMCTD   CONTD TO USE COC DESPITE EMOT PRBS\n",
      "COCPHLPB        int     %38.0f     COCPHLPB   ANY PHYS PRBS CAUSED/WORSND BY COC PST 12 MOS\n",
      "COCPHCTD        int     %38.0f     COCPHCTD   CONTD TO USE COC DESPITE PHYS PRBS\n",
      "COCLSACT        int     %38.0f     COCLSACT   LESS ACTIVITIES B/C OF COC USE PAST 12 MOS\n",
      "COCSERPB        int     %38.0f     COCSERPB   COC CAUSE SERS PRBS AT HOME/WORK/SCH PST 12 MOS\n",
      "COCPDANG        int     %38.0f     COCPDANG   USING COC AND DO DANGEROUS ACTIVITIES PST 12 MOS\n",
      "COCLAWTR        int     %38.0f     COCLAWTR   USING COC CAUSE PRBS WITH LAW PAST 12 MOS\n",
      "COCFMFPB        int     %38.0f     COCFMFPB   USING COC CAUSE PRBS W/FAMILY/FRIENDS PST 12 MOS\n",
      "COCFMCTD        int     %38.0f     COCFMCTD   CONTD TO USE COC DESPITE PRBS W/ FAM/FRNDS\n",
      "HERLOTTM        int     %37.0f     HERLOTTM   SPENT MON/MORE GETTING/USING HEROIN PST 12 MOS\n",
      "HERGTOVR        int     %37.0f     HERGTOVR   MONTH+ SPENT GETTING OVR HEROIN EFFECTS PST 12 MO\n",
      "HERLIMIT        int     %37.0f     HERLIMIT   SET LIMITS ON HEROIN USE PAST 12 MONTHS\n",
      "HERKPLMT        int     %37.0f     HERKPLMT   ABLE TO KEEP LIMT OR USE MORE HEROIN PST 12 MOS\n",
      "HERNDMOR        int     %37.0f     HERNDMOR   NEEDED MORE HEROIN TO GET SME EFFECT PST 12 MOS\n",
      "HERLSEFX        int     %37.0f     HERLSEFX   USING SME AMT HEROIN HAD LESS EFFECT PST 12 MOS\n",
      "HERCUTDN        int     %37.0f     HERCUTDN   WANT/TRY CUT DOWN/STOP USNG HEROIN PST 12 MOS\n",
      "HERCUTEV        int     %37.0f     HERCUTEV   ABLE TO CUT/STOP USNG HEROIN EVRY TIME PST 12 MOS\n",
      "HERCUT1X        int     %37.0f     HERCUT1X   CUT DOWN/STOP USNG HEROIN AT LEAST 1X PST 12 MOS\n",
      "HERWD3SX        int     %37.0f     HERWD3SX   HAD 3+ HEROIN WITHDRAWAL SYMPTOMS PST 12 MOS\n",
      "HERWDSMT        int     %37.0f     HERWDSMT   HAD 3+ HEROIN WDRAW SYM SAME TIME PST 12 MOS\n",
      "HEREMOPB        int     %37.0f     HEREMOPB   HEROIN CAUSE PRBS W/EMOT/NERVES PAST 12 MOS\n",
      "HEREMCTD        int     %37.0f     HEREMCTD   CONTD TO USE HEROIN DESPITE EMOT PRBS\n",
      "HERPHLPB        int     %37.0f     HERPHLPB   ANY PHYS PRBS CAUSED/WORSND BY HEROIN PST 12 MOS\n",
      "HERPHCTD        int     %37.0f     HERPHCTD   CONTD TO USE HEROIN DESPITE PHYS PRBS\n",
      "HERLSACT        int     %37.0f     HERLSACT   LESS ACTIVITIES B/C OF HEROIN USE PAST 12 MOS\n",
      "HERSERPB        int     %37.0f     HERSERPB   HEROIN CAUSE SER PRB AT HOM/WRK/SCH PST 12 MOS\n",
      "HERPDANG        int     %37.0f     HERPDANG   USING HEROIN & DO DANGEROUS ACTIVS PST 12 MOS\n",
      "HERLAWTR        int     %37.0f     HERLAWTR   USING HEROIN CAUSE PRBS WITH LAW PAST 12 MOS\n",
      "HERFMFPB        int     %37.0f     HERFMFPB   USING HEROIN CAUSE PRBS W/FAM/FRNDS PST 12 MOS\n",
      "HERFMCTD        int     %37.0f     HERFMCTD   CONTD TO USE HEROIN DESPITE PRBS W/FAM/FRNDS\n",
      "HALDAFLG        int     %46.0f     HALDAFLG   EDITING FLAG FOR HALLUC DEPENDENCE & ABUSE VARS\n",
      "HALLOTTM        int     %44.0f     HALLOTTM   SPENT MON/MORE GETTING/USING HALLUC PST 12 MOS\n",
      "HALGTOVR        int     %44.0f     HALGTOVR   MONTH+ SPENT GETTING OVR HALLUC EFFECTS PST 12 MO\n",
      "HALLIMIT        int     %44.0f     HALLIMIT   SET LIMITS ON HALLUCINOGEN USE PAST 12 MONTHS\n",
      "HALKPLMT        int     %44.0f     HALKPLMT   ABLE TO KEEP LIMT OR USE MORE HALLUC PST 12 MOS\n",
      "HALNDMOR        int     %44.0f     HALNDMOR   NEEDED MORE HALLUC TO GET SME EFFECT PST 12 MOS\n",
      "HALLSEFX        int     %44.0f     HALLSEFX   USING SME AMT HALLUC HAD LESS EFFECT PAST 12 MOS\n",
      "HALCUTDN        int     %44.0f     HALCUTDN   WANT/TRY CUT DOWN/STOP USING HALLUC PST 12 MOS\n",
      "HALCUTEV        int     %44.0f     HALCUTEV   ABLE TO CUT/STOP USING HALLUC EVRY TIME PST 12 MO\n",
      "HALEMOPB        int     %44.0f     HALEMOPB   HALLUC CAUSE PRBS W/EMOT/NERVES PAST 12 MOS\n",
      "HALEMCTD        int     %44.0f     HALEMCTD   CONTD TO USE HALLUC DESPITE EMOT PRBS\n",
      "HALPHLPB        int     %44.0f     HALPHLPB   ANY PHYS PRBS CAUSED/WORSND BY HALLUC PST 12 MOS\n",
      "HALPHCTD        int     %44.0f     HALPHCTD   CONTD TO USE HALLUC DESPITE PHYS PRBS\n",
      "HALLSACT        int     %44.0f     HALLSACT   LESS ACTIVITES B/C OF HALLUC USE PAST 12 MOS\n",
      "HALSERPB        int     %44.0f     HALSERPB   HALLUC CAUSE SER PRBS AT HOM/WRK/SCH PST 12 MOS\n",
      "HALPDANG        int     %44.0f     HALPDANG   USING HALLUC & DO DANGEROUS ACTIVS PST 12 MOS\n",
      "HALLAWTR        int     %44.0f     HALLAWTR   USING HALLUC CAUSE PRBS WITH LAW PAST 12 MOS\n",
      "HALFMFPB        int     %44.0f     HALFMFPB   USING HALLUC CAUSE PRBS W/FAM/FRNDS PST 12 MOS\n",
      "HALFMCTD        int     %44.0f     HALFMCTD   CONTD TO USE HALLUC DESPITE PRBS W/FAM/FRNDS\n",
      "INHLOTTM        int     %40.0f     INHLOTTM   SPENT MONTH/MORE GETTING/USING INH PAST 12 MOS\n",
      "INHGTOVR        int     %40.0f     INHGTOVR   MONTH+ SPENT GETTING OVER INH EFFECTS PST 12 MOS\n",
      "INHLIMIT        int     %40.0f     INHLIMIT   SET LIMITS ON INHALANT USE PAST 12 MONTHS\n",
      "INHKPLMT        int     %40.0f     INHKPLMT   ABLE TO KEEP LIMITS OR USE MORE INH PAST 12 MOS\n",
      "INHNDMOR        int     %40.0f     INHNDMOR   NEEDED MORE INH TO GET SAME EFFECT PST 12 MOS\n",
      "INHLSEFX        int     %40.0f     INHLSEFX   USING SAME AMT INH HAD LESS EFFECT PAST 12 MOS\n",
      "INHCUTDN        int     %40.0f     INHCUTDN   WANT/TRY TO CUT DOWN/STOP USING INH PAST 12 MOS\n",
      "INHCUTEV        int     %40.0f     INHCUTEV   ABLE TO CUT/STOP USING INH EVERY TIME PAST 12 MOS\n",
      "INHEMOPB        int     %40.0f     INHEMOPB   INH CAUSE PRBS WITH EMOT/NERVES PAST 12 MOS\n",
      "INHEMCTD        int     %40.0f     INHEMCTD   CONTD TO USE INHALANTS DESPITE EMOT PRBS\n",
      "INHPHLPB        int     %40.0f     INHPHLPB   ANY PHYS PRBS CAUSED/WORSND BY INH PST 12 MOS\n",
      "INHPHCTD        int     %40.0f     INHPHCTD   CONTD TO USE INHALANTS DESPITE PHYS PRBS\n",
      "INHLSACT        int     %40.0f     INHLSACT   LESS ACTIVITIES B/C OF INH USE PAST 12 MOS\n",
      "INHSERPB        int     %40.0f     INHSERPB   INH CAUSE SERS PRBS AT HOME/WORK/SCH PST 12 MOS\n",
      "INHPDANG        int     %40.0f     INHPDANG   USING INH AND DO DANGEROUS ACTIVITIES PST 12 MOS\n"
     ]
    },
    {
     "name": "stdout",
     "output_type": "stream",
     "text": [
      "INHLAWTR        int     %40.0f     INHLAWTR   USING INH CAUSE PRBS WITH LAW PAST 12 MOS\n",
      "INHFMFPB        int     %40.0f     INHFMFPB   USING INH CAUSE PRBS W/FAMILY/FRIENDS PST 12 MOS\n",
      "INHFMCTD        int     %40.0f     INHFMCTD   CONTD TO USE INH DESPITE PRBS W/ FAM/FRNDS\n",
      "ANLLOTTM        int     %45.0f     ANLLOTTM   SPENT MON/MORE GETTNG/USNG PN RLVR PST 12 MOS\n",
      "ANLGTOVR        int     %45.0f     ANLGTOVR   MON+ SPNT GETTING OVER PN RLVR EFFECTS PST 12 MOS\n",
      "ANLLIMIT        int     %45.0f     ANLLIMIT   SET LIMITS ON PAIN RELIEVER USE PAST 12 MONTHS\n",
      "ANLKPLMT        int     %45.0f     ANLKPLMT   ABLE TO KEEP LIMT/USE MORE PN RLVR PST 12 MOS\n",
      "ANLNDMOR        int     %45.0f     ANLNDMOR   NEEDED MORE PN RLVR TO GET SME EFFECT PST 12 MOS\n",
      "ANLLSEFX        int     %45.0f     ANLLSEFX   USING SME AMT PN RLVR HAD LESS EFFECT PST 12 MOS\n",
      "ANLCUTDN        int     %45.0f     ANLCUTDN   WANT/TRY CUT DOWN/STOP USNG PN RLVR PST 12 MOS\n",
      "ANLCUTEV        int     %45.0f     ANLCUTEV   ABLE TO CUT/STOP USNG PN RLVR EVRY TIME PST 12 MO\n",
      "ANLCUT1X        int     %45.0f     ANLCUT1X   CUT DOWN/STOP USNG PN RLVR AT LEAST 1X PST 12 MOS\n",
      "ANLWD3SX        int     %45.0f     ANLWD3SX   HAD 3+ PN RLVR WITHDRAWAL SYMPTOMS PST 12 MOS\n",
      "ANLWDSMT        int     %45.0f     ANLWDSMT   HAD 3+ PN RLVR WDRAW SYM SAME TIME PST 12 MOS\n",
      "ANLEMOPB        int     %45.0f     ANLEMOPB   PN RLVR CAUSE PRBS W/EMOT/NERVES PST 12 MOS\n",
      "ANLEMCTD        int     %45.0f     ANLEMCTD   CONTD TO USE PN RLVR DESPITE EMOT PRBS\n",
      "ANLPHLPB        int     %45.0f     ANLPHLPB   ANY PHYS PRBS CAUSD/WORSND BY PN RLVR PST 12 MOS\n",
      "ANLPHCTD        int     %45.0f     ANLPHCTD   CONTD TO USE PN RLVR DESPITE PHYS PRBS\n",
      "ANLLSACT        int     %45.0f     ANLLSACT   LESS ACTIVITIES B/C OF PN RLVR USE PAST 12 MOS\n",
      "ANLSERPB        int     %45.0f     ANLSERPB   PN RLVR CAUSE SER PRB AT HOM/WRK/SCH PST 12 MOS\n",
      "ANLPDANG        int     %45.0f     ANLPDANG   USING PN RLVR & DO DANGEROUS ACTIVS PST 12 MOS\n",
      "ANLLAWTR        int     %45.0f     ANLLAWTR   USING PN RLVR CAUSE PRBS WITH LAW PAST 12 MOS\n",
      "ANLFMFPB        int     %45.0f     ANLFMFPB   USING PN RLVR CAUSE PRBS W/FAM/FRNDS PST 12 MOS\n",
      "ANLFMCTD        int     %45.0f     ANLFMCTD   CONTD TO USE PN RLVR DESPITE PRBS W/FAM/FRNDS\n",
      "TRNLOTTM        int     %44.0f     TRNLOTTM   SPENT MONTH/MORE GETTING/USING TRN PAST 12 MOS\n",
      "TRNGTOVR        int     %44.0f     TRNGTOVR   MONTH+ SPENT GETTING OVER TRN EFFECTS PST 12 MOS\n",
      "TRNLIMIT        int     %44.0f     TRNLIMIT   SET LIMITS ON TRANQUILIZER USE PAST 12 MONTHS\n",
      "TRNKPLMT        int     %44.0f     TRNKPLMT   ABLE TO KEEP LIMITS OR USE MORE TRN PAST 12 MOS\n",
      "TRNNDMOR        int     %44.0f     TRNNDMOR   NEEDED MORE TRN TO GET SAME EFFECT PST 12 MOS\n",
      "TRNLSEFX        int     %44.0f     TRNLSEFX   USING SAME AMT TRN HAD LESS EFFECT PAST 12 MOS\n",
      "TRNCUTDN        int     %44.0f     TRNCUTDN   WANT/TRY TO CUT DOWN/STOP USING TRN PAST 12 MOS\n",
      "TRNCUTEV        int     %44.0f     TRNCUTEV   ABLE TO CUT/STOP USING TRN EVERY TIME PAST 12 MOS\n",
      "TRNEMOPB        int     %44.0f     TRNEMOPB   TRN CAUSE PRBS WITH EMOT/NERVES PAST 12 MOS\n",
      "TRNEMCTD        int     %44.0f     TRNEMCTD   CONTD TO USE TRN DESPITE EMOT PRBS\n",
      "TRNPHLPB        int     %44.0f     TRNPHLPB   ANY PHYS PRBS CAUSED/WORSND BY TRN PST 12 MOS\n",
      "TRNPHCTD        int     %44.0f     TRNPHCTD   CONTD TO USE TRN DESPITE PHYS PRBS\n",
      "TRNLSACT        int     %44.0f     TRNLSACT   LESS ACTIVITIES B/C OF TRN USE PAST 12 MOS\n",
      "TRNSERPB        int     %44.0f     TRNSERPB   TRN CAUSE SERS PRBS AT HOME/WORK/SCH PST 12 MOS\n",
      "TRNPDANG        int     %44.0f     TRNPDANG   USING TRN AND DO DANGEROUS ACTIVITIES PST 12 MOS\n",
      "TRNLAWTR        int     %44.0f     TRNLAWTR   USING TRN CAUSE PRBS WITH LAW PAST 12 MOS\n",
      "TRNFMFPB        int     %44.0f     TRNFMFPB   USING TRN CAUSE PRBS W/FAMILY/FRIENDS PST 12 MOS\n",
      "TRNFMCTD        int     %44.0f     TRNFMCTD   CONTD TO USE TRN DESPITE PRBS W/ FAM/FRNDS\n",
      "STMLOTTM        int     %41.0f     STMLOTTM   SPENT MONTH/MORE GETTING/USING STM PAST 12 MOS\n",
      "STMGTOVR        int     %41.0f     STMGTOVR   MONTH+ SPENT GETTING OVER STM EFFECTS PST 12 MOS\n",
      "STMLIMIT        int     %41.0f     STMLIMIT   SET LIMITS ON STIMULANT USE PAST 12 MONTHS\n",
      "STMKPLMT        int     %41.0f     STMKPLMT   ABLE TO KEEP LIMITS OR USE MORE STM PAST 12 MOS\n",
      "STMNDMOR        int     %41.0f     STMNDMOR   NEEDED MORE STM TO GET SAME EFFECT PST 12 MOS\n",
      "STMLSEFX        int     %41.0f     STMLSEFX   USING SAME AMT STM HAD LESS EFFECT PAST 12 MOS\n",
      "STMCUTDN        int     %41.0f     STMCUTDN   WANT/TRY TO CUT DOWN/STOP USING STM PAST 12 MOS\n",
      "STMCUTEV        int     %41.0f     STMCUTEV   ABLE TO CUT/STOP USING STM EVERY TIME PAST 12 MOS\n",
      "STMCUT1X        int     %41.0f     STMCUT1X   CUT DOWN OR STOP USING STM AT LEAST 1X PST 12 MOS\n",
      "STMFLBLU        int     %41.0f     STMFLBLU   WHEN CUT DOWN ON STM, FELT BLUE PAST 12 MONTHS\n",
      "STMWD2SX        int     %41.0f     STMWD2SX   HAD 2+ STM WITHDRAWAL SYMPTOMS PST 12 MOS\n",
      "STMWDSMT        int     %41.0f     STMWDSMT   HAD 2+ STM WDRAW SYM AT SAME TIME PAST 12 MOS\n",
      "STMEMOPB        int     %41.0f     STMEMOPB   STM CAUSE PRBS WITH EMOT/NERVES PAST 12 MOS\n",
      "STMEMCTD        int     %41.0f     STMEMCTD   CONTD TO USE STM DESPITE EMOT PRBS\n",
      "STMPHLPB        int     %41.0f     STMPHLPB   ANY PHYS PRBS CAUSED/WORSND BY STM PST 12 MOS\n",
      "STMPHCTD        int     %41.0f     STMPHCTD   CONTD TO USE STM DESPITE PHYS PRBS\n",
      "STMLSACT        int     %41.0f     STMLSACT   LESS ACTIVITIES B/C OF STM USE PAST 12 MOS\n",
      "STMSERPB        int     %41.0f     STMSERPB   STM CAUSE SERS PRBS AT HOME/WORK/SCH PST 12 MOS\n",
      "STMPDANG        int     %41.0f     STMPDANG   USING STM AND DO DANGEROUS ACTIVITIES PST 12 MOS\n",
      "STMLAWTR        int     %41.0f     STMLAWTR   USING STM CAUSE PRBS WITH LAW PAST 12 MOS\n",
      "STMFMFPB        int     %41.0f     STMFMFPB   USING STM CAUSE PRBS W/FAMILY/FRIENDS PST 12 MOS\n",
      "STMFMCTD        int     %41.0f     STMFMCTD   CONTD TO USE STM DESPITE PRBS W/ FAM/FRNDS\n",
      "STMDAFLG        int     %46.0f     STMDAFLG   EDITING FLAG FOR STIM DEPENDENCE & ABUSE VARS\n",
      "SEDDAFLG        int     %46.0f     SEDDAFLG   EDITING FLAG FOR SEDATIVE DEPENDENCE & ABUSE VARS\n",
      "SEDLOTTM        int     %40.0f     SEDLOTTM   SPENT MONTH/MORE GETTING/USING SED PAST 12 MOS\n",
      "SEDGTOVR        int     %40.0f     SEDGTOVR   MONTH+ SPENT GETTING OVER SED EFFECTS PST 12 MOS\n",
      "SEDLIMIT        int     %40.0f     SEDLIMIT   SET LIMITS ON SEDATIVE USE PAST 12 MONTHS\n",
      "SEDKPLMT        int     %40.0f     SEDKPLMT   ABLE TO KEEP LIMITS OR USE MORE SED PAST 12 MOS\n",
      "SEDNDMOR        int     %40.0f     SEDNDMOR   NEEDED MORE SED TO GET SAME EFFECT PST 12 MOS\n",
      "SEDLSEFX        int     %40.0f     SEDLSEFX   USING SAME AMT SED HAD LESS EFFECT PAST 12 MOS\n",
      "SEDCUTDN        int     %40.0f     SEDCUTDN   WANT/TRY TO CUT DOWN/STOP USING SED PAST 12 MOS\n",
      "SEDCUTEV        int     %40.0f     SEDCUTEV   ABLE TO CUT/STOP USING SED EVERY TIME PAST 12 MOS\n",
      "SEDCUT1X        int     %40.0f     SEDCUT1X   CUT DOWN OR STOP USING SED AT LEAST 1X PST 12 MOS\n",
      "SEDWD1SX        int     %40.0f     SEDWD1SX   HAD 1+ SED WITHDRAWAL SYMPTOM PST 12 MOS\n",
      "SEDWDSMT        int     %40.0f     SEDWDSMT   HAD 1+ SED WDRAW SYM AT SAME TIME PAST 12 MOS\n",
      "SEDEMOPB        int     %40.0f     SEDEMOPB   SED CAUSE PRBS WITH EMOT/NERVES PAST 12 MOS\n",
      "SEDEMCTD        int     %40.0f     SEDEMCTD   CONTD TO USE SED DESPITE EMOT PRBS\n",
      "SEDPHLPB        int     %40.0f     SEDPHLPB   ANY PHYS PRBS CAUSED/WORSND BY SED PST 12 MOS\n",
      "SEDPHCTD        int     %40.0f     SEDPHCTD   CONTD TO USE SED DESPITE PHYS PRBS\n",
      "SEDLSACT        int     %40.0f     SEDLSACT   LESS ACTIVITIES B/C OF SED USE PAST 12 MOS\n",
      "SEDSERPB        int     %40.0f     SEDSERPB   SED CAUSE SERS PRBS AT HOME/WORK/SCH PST 12 MOS\n",
      "SEDPDANG        int     %40.0f     SEDPDANG   USING SED AND DO DANGEROUS ACTIVITIES PST 12 MOS\n",
      "SEDLAWTR        int     %40.0f     SEDLAWTR   USING SED CAUSE PRBS WITH LAW PAST 12 MOS\n",
      "SEDFMFPB        int     %40.0f     SEDFMFPB   USING SED CAUSE PRBS W/FAMILY/FRIENDS PST 12 MOS\n",
      "SEDFMCTD        int     %40.0f     SEDFMCTD   CONTD TO USE SED DESPITE PRBS W/ FAM/FRNDS\n",
      "NDSSANSP        double  %27.12f    NDSSANSP   NDSS SCORE\n",
      "NDSSDNSP        int     %37.0f     NDSSDNSP   NICOTINE DEPENDENCE BASED ON NDSS SCORE\n",
      "FTNDDNSP        int     %20.0f     FTNDDNSP   NICOTINE DEPENDENCE BASED ON FTND SCALE\n"
     ]
    },
    {
     "name": "stdout",
     "output_type": "stream",
     "text": [
      "DNICNSP         int     %30.0f     DNICNSP    NICOTINE DEPENDENCE IN PAST MONTH\n",
      "DEPNDALC        int     %23.0f     DEPNDALC   ALCOHOL DEPENDENCE IN THE PAST YEAR\n",
      "DEPNDANL        int     %32.0f     DEPNDANL   PAIN RELIEVER DEPENDENCE IN THE PAST YEAR\n",
      "DEPNDCOC        int     %32.0f     DEPNDCOC   COCAINE DEPENDENCE IN THE PAST YEAR\n",
      "DEPNDHAL        int     %23.0f     DEPNDHAL   HALLUCINOGEN DEPENDENCE IN THE PAST YEAR\n",
      "DEPNDHER        int     %32.0f     DEPNDHER   HEROIN DEPENDENCE IN THE PAST YEAR\n",
      "DEPNDINH        int     %32.0f     DEPNDINH   INHALANT DEPENDENCE IN THE PAST YEAR\n",
      "DEPNDMRJ        int     %32.0f     DEPNDMRJ   MARIJUANA DEPENDENCE IN THE PAST YEAR\n",
      "DEPNDSED        int     %23.0f     DEPNDSED   SEDATIVE DEPENDENCE IN THE PAST YEAR\n",
      "DEPNDSTM        int     %23.0f     DEPNDSTM   STIMULANT DEPENDENCE IN THE PAST YEAR\n",
      "DEPNDTRN        int     %32.0f     DEPNDTRN   TRANQUILIZER DEPENDENCE IN THE PAST YEAR\n",
      "DEPNDILL        int     %40.0f     DEPNDILL   ILLICIT DRUG DEPENDENCE IN THE PAST YEAR\n",
      "DEPNDIEM        int     %40.0f     DEPNDIEM   ILLICIT DRUG OTHER THAN MARIJUANA DEP IN PAST YR\n",
      "DEPNDXMJ        int     %46.0f     DEPNDXMJ   ILLICIT DRUG EXCLUDING MARIJUANA DEP IN PAST YR\n",
      "DEPNDPSY        int     %49.0f     DEPNDPSY   PSYCHOTHERAPEUTIC DEPENDENCE IN THE PAST YR\n",
      "DPILLALC        int     %38.0f     DPILLALC   ILLICIT DRUG OR ALCOHOL DEPENDENCE IN PAST YR\n",
      "DPILANAL        int     %37.0f     DPILANAL   ILLICIT DRUG AND ALCOHOL DEPENDENCE IN PAST YR\n",
      "ABUSEALC        int     %46.0f     ABUSEALC   ALCOHOL ABUSE - PAST YEAR\n",
      "ABUSEANL        int     %46.0f     ABUSEANL   PRESCRIPTION PAIN RELIEVER ABUSE - PAST YEAR\n",
      "ABUSECOC        int     %46.0f     ABUSECOC   COCAINE ABUSE - PAST YEAR\n",
      "ABUSEHAL        int     %46.0f     ABUSEHAL   HALLUCINOGEN ABUSE - PAST YEAR\n",
      "ABUSEHER        int     %46.0f     ABUSEHER   HEROIN ABUSE - PAST YEAR\n",
      "ABUSEINH        int     %46.0f     ABUSEINH   INHALANT ABUSE - PAST YEAR\n",
      "ABUSEMRJ        int     %46.0f     ABUSEMRJ   MARIJUANA ABUSE - PAST YEAR\n",
      "ABUSESED        int     %46.0f     ABUSESED   SEDATIVE ABUSE - PAST YEAR\n",
      "ABUSESTM        int     %46.0f     ABUSESTM   STIMULANT ABUSE - PAST YEAR\n",
      "ABUSETRN        int     %46.0f     ABUSETRN   TRANQUILIZER ABUSE - PAST YEAR\n",
      "ABUSEILL        int     %46.0f     ABUSEILL   ILLICIT DRUG ABUSE - PAST YEAR\n",
      "ABUSEIEM        int     %46.0f     ABUSEIEM   ILLICIT DRUG OTHER THAN MARIJUANA ABUSE - PST YR\n",
      "ABUSEXMJ        int     %47.0f     ABUSEXMJ   ILLICIT DRUG EXCLUDING MARIJUANA ABUSE - PST YR\n",
      "ABUSEPSY        int     %46.0f     ABUSEPSY   NON-MEDICAL PSYCHOTHERAPEUTIC DRUG ABUSE - PST YR\n",
      "ABILLALC        int     %38.0f     ABILLALC   ILLICIT DRUG OR ALCOHOL ABUSE - PAST YEAR\n",
      "ABILANAL        int     %42.0f     ABILANAL   ILLICIT DRUG AND ALCOHOL ABUSE - PAST YEAR\n",
      "ABODALC         int     %38.0f     ABODALC    ALCOHOL ABUSE OR DEPENDENCE - PAST YEAR\n",
      "ABODANL         int     %38.0f     ABODANL    PAIN RELIEVER ABUSE OR DEPENDENCE - PAST YEAR\n",
      "ABODCOC         int     %38.0f     ABODCOC    COCAINE ABUSE OR DEPENDENCE - PAST YEAR\n",
      "ABODHAL         int     %38.0f     ABODHAL    HALLUCINOGEN ABUSE OR DEPENDENCE - PAST YEAR\n",
      "ABODHER         int     %38.0f     ABODHER    HEROIN ABUSE OR DEPENDENCE - PAST YEAR\n",
      "ABODINH         int     %38.0f     ABODINH    INHALANT ABUSE OR DEPENDENCE - PAST YEAR\n",
      "ABODMRJ         int     %38.0f     ABODMRJ    MARIJUANA ABUSE OR DEPENDENCE - PAST YEAR\n",
      "ABODSED         int     %38.0f     ABODSED    SEDATIVE ABUSE OR DEPENDENCE - PAST YEAR\n",
      "ABODSTM         int     %38.0f     ABODSTM    STIMULANT ABUSE OR DEPENDENCE - PAST YEAR\n",
      "ABODTRN         int     %38.0f     ABODTRN    TRANQUILIZER ABUSE OR DEPENDENCE - PAST YEAR\n",
      "ABODILL         int     %38.0f     ABODILL    ILLICIT DRUG ABUSE OR DEPENDENCE - PAST YEAR\n",
      "ABODIEM         int     %38.0f     ABODIEM    ILLICIT DRUG OTHER THAN MRJ ABUSE OR DEP - PST YR\n",
      "ABODPSY         int     %38.0f     ABODPSY    PSYCHOTHERAPEUTIC ABUSE OR DEPENDENCE - PAST YEAR\n",
      "ABODILAL        int     %38.0f     ABODILAL   ILLICIT DRUG OR ALCOHOL ABUSE OR DEP - PST YR\n",
      "ABDILAAL        int     %35.0f     ABDILAAL   ILLICIT DRUG AND ALCOHOL ABUSE OR DEP - PST YR\n",
      "ANLRX1DR        int     %46.0f     ANLRX1DR   GOT ONE+ PRSCRPS FOR PAIN RLVRS FROM JUST ONE DR\n",
      "ANLRXDRS        int     %46.0f     ANLRXDRS   I GOT PRSCRPS FOR PAIN RELIEVERS FROM TWO+ DR\n",
      "MJPRIOR         int     %34.0f     MJPRIOR    MARIJUANA USE 12-23 MONTHS PRIOR TO INTERVIEW\n",
      "MJPRIYR         int     %48.0f     MJPRIYR    MRJ USE 12-23 MONTHS PRIOR & PST YR MRJ USE\n",
      "MJPRNOYR        int     %48.0f     MJPRNOYR   MRJ USE 12-23 MONTHS PRIOR & NO PST YR MRJ USE\n",
      "ANLLTS2         int     %50.0f     ANLLTS2    SOURCE OF PAIN RELIEVERS FOR LAST NONMED USE\n",
      "TRNLTS2         int     %50.0f     TRNLTS2    SOURCE OF TRANQUILIZERS FOR LAST NONMED USE\n",
      "STMLTS2         int     %50.0f     STMLTS2    SOURCE OF RX STIMULANTS FOR LAST NONMED USE\n",
      "SEDLTS2         int     %50.0f     SEDLTS2    SOURCE OF SEDATIVES FOR LAST NONMED USE\n",
      "MTHLTSC4        int     %43.0f     MTHLTSC4   SOURCE OF METHAMPHETAMINE FOR LAST NONMED USE\n",
      "ANLRX1D2        int     %46.0f     ANLRX1D2   GOT ONE+ RX FOR ANL FROM JUST ONE DOCTOR - PST MON\n",
      "ANLRXDS2        int     %46.0f     ANLRXDS2   GOT RX FOR ANL FROM 2 OR MORE DOCTORS - PST MON\n",
      "ANLRXFK2        int     %46.0f     ANLRXFK2   WROTE FAKE PRESCRIPTION FOR ANL - PST MON\n",
      "ANLSTOL2        int     %46.0f     ANLSTOL2   STOLE ANL FROM DR'S OFF/CLIN/HOSP/PHARM - PST MON\n",
      "ANLFRFE2        int     %46.0f     ANLFRFE2   GOT ANL FROM A FRIEND/RELATIVE FOR FREE - PST MON\n",
      "ANLFRBY2        int     %46.0f     ANLFRBY2   BOUGHT ANL FROM A FRIEND OR RELATIVE - PST MON\n",
      "ANLFRTK2        int     %46.0f     ANLFRTK2   TOOK ANL FROM FRND/RELATIVE WITHOUT ASK - PST MON\n",
      "ANLDEAL2        int     %46.0f     ANLDEAL2   BOUGHT ANL FROM DRUG DEALR/OTH STRANGER - PST MON\n",
      "ANLINET2        int     %45.0f     ANLINET2   BOUGHT ANL ON THE INTERNET - PST MON\n",
      "ANLOTHW2        int     %46.0f     ANLOTHW2   GOT ANL IN SOME OTHER WAY - PST MON\n",
      "TRNRX1D2        int     %46.0f     TRNRX1D2   GOT ONE+ RX FOR TRN FROM JUST ONE DOCTOR - PST MON\n",
      "TRNRXDS2        int     %46.0f     TRNRXDS2   GOT RX FOR TRN FROM 2 OR MORE DOCTORS - PST MON\n",
      "TRNRXFK2        int     %46.0f     TRNRXFK2   WROTE FAKE PRESCRIPTION FOR TRN - PST MON\n",
      "TRNSTOL2        int     %46.0f     TRNSTOL2   STOLE TRN FROM DR'S OFF/CLIN/HOSP/PHARM - PST MON\n",
      "TRNFRFE2        int     %46.0f     TRNFRFE2   GOT TRN FROM A FRIEND/RELATIVE FOR FREE - PST MON\n",
      "TRNFRBY2        int     %46.0f     TRNFRBY2   BOUGHT TRN FROM A FRIEND OR RELATIVE - PST MON\n",
      "TRNFRTK2        int     %46.0f     TRNFRTK2   TOOK TRN FROM FRND/RELATIVE WITHOUT ASK - PST MON\n",
      "TRNDEAL2        int     %46.0f     TRNDEAL2   BOUGHT TRN FROM DRUG DEALR/OTH STRANGER - PST MON\n",
      "TRNINET2        int     %45.0f     TRNINET2   BOUGHT TRANQUILIZERS ON THE INTERNET - PST MON\n",
      "TRNOTHW2        int     %46.0f     TRNOTHW2   GOT TRN IN SOME OTHER WAY - PST MON\n",
      "STMRX1D2        int     %50.0f     STMRX1D2   GOT ONE+ RX FOR STM FROM JUST ONE DOCTOR - PST MON\n",
      "STMRXDS2        int     %50.0f     STMRXDS2   GOT RX FOR STM FROM 2 OR MORE DOCTORS - PST MON\n",
      "STMRXFK2        int     %50.0f     STMRXFK2   WROTE FAKE PRESCRIPTION FOR STM - PST MON\n",
      "STMSTOL2        int     %50.0f     STMSTOL2   STOLE STM FROM DR'S OFF/CLIN/HOSP/PHARM - PST MON\n",
      "STMFRFE2        int     %50.0f     STMFRFE2   GOT STM FROM A FRIEND/RELATIVE FOR FREE - PST MON\n",
      "STMFRBY2        int     %50.0f     STMFRBY2   BOUGHT STM FROM A FRIEND OR RELATIVE - PST MON\n",
      "STMFRTK2        int     %50.0f     STMFRTK2   TOOK STM FROM FRND/RELATIVE WITHOUT ASK - PST MON\n",
      "STMDEAL2        int     %50.0f     STMDEAL2   BOUGHT STM FROM DRUG DEALR/OTH STRANGER - PST MON\n",
      "STMINET2        int     %49.0f     STMINET2   BOUGHT STIMULANTS ON THE INTERNET - PST MON\n",
      "STMOTHW2        int     %50.0f     STMOTHW2   GOT STM IN SOME OTHER WAY - PST MON\n",
      "SEDRX1D2        int     %46.0f     SEDRX1D2   GOT ONE+ RX FOR SED FROM JUST ONE DOCTOR - PST MON\n",
      "SEDRXDS2        int     %46.0f     SEDRXDS2   GOT RX FOR SED FROM 2 OR MORE DOCTORS - PST MON\n",
      "SEDRXFK2        int     %46.0f     SEDRXFK2   WROTE FAKE PRESCRIPTION FOR SED - PST MON\n",
      "SEDSTOL2        int     %46.0f     SEDSTOL2   STOLE SED FROM DR'S OFF/CLIN/HOSP/PHARM - PST MON\n",
      "SEDFRFE2        int     %46.0f     SEDFRFE2   GOT SED FROM A FRIEND/RELATIVE FOR FREE - PST MON\n"
     ]
    },
    {
     "name": "stdout",
     "output_type": "stream",
     "text": [
      "SEDFRBY2        int     %46.0f     SEDFRBY2   BOUGHT SED FROM A FRIEND OR RELATIVE - PST MON\n",
      "SEDFRTK2        int     %46.0f     SEDFRTK2   TOOK SED FROM FRND/RELATIVE WITHOUT ASK - PST MON\n",
      "SEDDEAL2        int     %46.0f     SEDDEAL2   BOUGHT SED FROM DRUG DEALR/OTH STRANGER - PST MON\n",
      "SEDINET2        int     %45.0f     SEDINET2   BOUGHT SEDATIVES ON THE INTERNET - PST MON\n",
      "SEDOTHW2        int     %46.0f     SEDOTHW2   GOT SED IN SOME OTHER WAY - PST MON\n",
      "MTHFRFE2        int     %50.0f     MTHFRFE2   GOT MTH FROM A FRIEND/RELATIVE FOR FREE - PST MON\n",
      "MTHFRBY2        int     %49.0f     MTHFRBY2   BOUGHT MTH FROM A FRIEND OR RELATIVE - PST MON\n",
      "MTHFRTK2        int     %50.0f     MTHFRTK2   TOOK MTH FROM FRND/RELATIVE WITHOUT ASK - PST MON\n",
      "MTHDEAL2        int     %50.0f     MTHDEAL2   BOUGHT MTH FROM DRUG DEALR/OTH STRANGER - PST MON\n",
      "MTHINET2        int     %49.0f     MTHINET2   BOUGHT MTH ON THE INTERNET - PST MON\n",
      "MTHOTHW2        int     %34.0f     MTHOTHW2   GOT MTH IN SOME OTHER WAY - PST MON\n",
      "ANLSRCF2        int     %50.0f     ANLSRCF2   REV SOURCE OF FRIEND OR RELATIVE'S PAIN RELIEVERS\n",
      "TRNSRCF2        int     %50.0f     TRNSRCF2   REV SOURCE OF FRIEND OR RELATIVE'S TRANQUILIZERS\n",
      "STMSRCF2        int     %50.0f     STMSRCF2   REV SOURCE OF FRIEND OR RELATIVE'S STIMULANTS\n",
      "SEDSRCF2        int     %50.0f     SEDSRCF2   REV SOURCE OF FRIEND OR RELATIVE'S SEDATIVES\n",
      "MTHSRCF2        int     %50.0f     MTHSRCF2   REV SOURCE OF FRIEND OR RELATIVES METHAMPHETAMINES\n",
      "ANLFF1D2        int     %46.0f     ANLFF1D2   FRD/REL GOT 1+ RX FOR ANL FRM JUST 1 DR-PST MON\n",
      "ANLFFDS2        int     %46.0f     ANLFFDS2   FRD/REL GOT RX FOR ANL FROM 2+ DRS-PST MON\n",
      "ANLFFAK2        int     %46.0f     ANLFFAK2   FRD/REL WROTE FAKE RX FOR ANL-PST MON\n",
      "ANLFFST2        int     %46.0f     ANLFFST2   FRD/REL STOLE ANL FROM DR/CLIN/HOSP/PHARM-PST MON\n",
      "ANLFFRE2        int     %46.0f     ANLFFRE2   FRD/REL GOT ANL FROM A FRND/REL FOR FREE-PST MON\n",
      "ANLFFBY2        int     %46.0f     ANLFFBY2   FRD/REL BOUGHT ANL FROM A FRND OR REL-PST MON\n",
      "ANLFFTK2        int     %46.0f     ANLFFTK2   FRD/REL TOOK ANL FROM A FRND/REL WOUT ASK-PST MON\n",
      "ANLFFDL2        int     %46.0f     ANLFFDL2   FRD/REL BGHT ANL FRM DRG DEALR/OTH STRNGR-PST MON\n",
      "ANLFFNT2        int     %46.0f     ANLFFNT2   FRD/REL BOUGHT ANL ON THE INTERNET-PST MON\n",
      "ANLFFOT2        int     %46.0f     ANLFFOT2   FRD/REL GOT ANL IN SOME OTHER WAY-PST MON\n",
      "TRNFF1D2        int     %46.0f     TRNFF1D2   FRD/REL GOT 1+ RX FOR TRN FRM JUST 1 DR-PST MON\n",
      "TRNFFDS2        int     %46.0f     TRNFFDS2   FRD/REL GOT RX FOR TRN FROM 2+ DRS-PST MON\n",
      "TRNFFAK2        int     %46.0f     TRNFFAK2   FRD/REL WROTE FAKE RX FOR TRN-PST MON\n",
      "TRNFFST2        int     %46.0f     TRNFFST2   FRD/REL STOLE TRN FROM DR/CLIN/HOSP/PHARM-PST MON\n",
      "TRNFFRE2        int     %46.0f     TRNFFRE2   FRD/REL GOT TRN FROM A FRND/REL FOR FREE-PST MON\n",
      "TRNFFBY2        int     %46.0f     TRNFFBY2   FRD/REL BOUGHT TRN FROM A FRND OR REL-PST MON\n",
      "TRNFFTK2        int     %46.0f     TRNFFTK2   FRD/REL TOOK TRN FROM A FRND/REL WOUT ASK-PST MON\n",
      "TRNFFDL2        int     %46.0f     TRNFFDL2   FRD/REL BGHT TRN FRM DRG DEALR/OTH STRNGR-PST MON\n",
      "TRNFFNT2        int     %46.0f     TRNFFNT2   FRD/REL BOUGHT TRN ON THE INTERNET-PST MON\n",
      "TRNFFOT2        int     %46.0f     TRNFFOT2   FRD/REL GOT TRN IN SOME OTHER WAY-PST MON\n",
      "STMFF1D2        int     %50.0f     STMFF1D2   FRD/REL GOT 1+ RX FOR STM FRM JUST 1 DR-PST MON\n",
      "STMFFDS2        int     %50.0f     STMFFDS2   FRD/REL GOT RX FOR STM FROM 2+ DRS-PST MON\n",
      "STMFFAK2        int     %50.0f     STMFFAK2   FRD/REL WROTE FAKE RX FOR STM-PST MON\n",
      "STMFFST2        int     %50.0f     STMFFST2   FRD/REL STOLE STM FROM DR/CLIN/HOSP/PHARM-PST MON\n",
      "STMFFRE2        int     %50.0f     STMFFRE2   FRD/REL GOT STM FROM A FRND/REL FOR FREE-PST MON\n",
      "STMFFBY2        int     %50.0f     STMFFBY2   FRD/REL BOUGHT STM FROM A FRND OR REL-PST MON\n",
      "STMFFTK2        int     %50.0f     STMFFTK2   FRD/REL TOOK STM FROM A FRND/REL WOUT ASK-PST MON\n",
      "STMFFDL2        int     %50.0f     STMFFDL2   FRD/REL BGHT STM FRM DRG DEALR/OTH STRNGR-PST MON\n",
      "STMFFNT2        int     %50.0f     STMFFNT2   FRD/REL BOUGHT STM ON THE INTERNET-PST MON\n",
      "STMFFOT2        int     %50.0f     STMFFOT2   FRD/REL GOT STM IN SOME OTHER WAY-PST MON\n",
      "SEDFF1D2        int     %46.0f     SEDFF1D2   FRD/REL GOT 1+ RX FOR SED FRM JUST 1 DR-PST MON\n",
      "SEDFFDS2        int     %46.0f     SEDFFDS2   FRD/REL GOT RX FOR SED FROM 2+ DRS-PST MON\n",
      "SEDFFAK2        int     %46.0f     SEDFFAK2   FRD/REL WROTE FAKE RX FOR SED-PST MON\n",
      "SEDFFST2        int     %46.0f     SEDFFST2   FRD/REL STOLE SED FROM DR/CLIN/HOSP/PHARM-PST MON\n",
      "SEDFFRE2        int     %46.0f     SEDFFRE2   FRD/REL GOT SED FROM A FRND/REL FOR FREE-PST MON\n",
      "SEDFFBY2        int     %46.0f     SEDFFBY2   FRD/REL BOUGHT SED FROM A FRND OR REL-PST MON\n",
      "SEDFFTK2        int     %46.0f     SEDFFTK2   FRD/REL TOOK SED FROM A FRND/REL WOUT ASK-PST MON\n",
      "SEDFFDL2        int     %46.0f     SEDFFDL2   FRD/REL BGHT SED FRM DRG DEALR/OTH STRNGR-PST MON\n",
      "SEDFFNT2        int     %46.0f     SEDFFNT2   FRD/REL BOUGHT SED ON THE INTERNET-PST MON\n",
      "SEDFFOT2        int     %46.0f     SEDFFOT2   FRD/REL GOT SED IN SOME OTHER WAY-PST MON\n",
      "MTHFFRE2        int     %50.0f     MTHFFRE2   FRD/REL GOT MTH FROM A FRND/REL FOR FREE-PST MON\n",
      "MTHFFBY2        int     %50.0f     MTHFFBY2   FRD/REL BOUGHT MTH FROM A FRND/REL-PAST MONTH\n",
      "MTHFFTK2        int     %50.0f     MTHFFTK2   FRD/REL TOOK MTH FRM A FRND/REL WOUT ASK-PST MON\n",
      "MTHFFDL2        int     %50.0f     MTHFFDL2   FRD/REL BGHT MTH FRM DRG DEALR/OTH STRNGR-PST MON\n",
      "MTHFFNT2        int     %50.0f     MTHFFNT2   FRD/REL BOUGHT MTH ON THE INTERNET-PAST MONTH\n",
      "MTHFFOT2        int     %34.0f     MTHFFOT2   FRD/REL GOT MTH IN SOME OTHER WAY-PAST MONTH\n",
      "TXEVER          int     %46.0f     TXEVER     EVER RECEIVED ALCOHOL OR DRUG TREATMENT\n",
      "TXYREVER        int     %46.0f     TXYREVER   EVER RECEIVED ALCOHOL OR DRUG TRMT PAST 12 MOS\n",
      "TXYRADG         int     %47.0f     TXYRADG    TRMT FOR ALC, DRUG OR BOTH PAST 12 MONTHS\n",
      "TXYRHOSP        int     %46.0f     TXYRHOSP   RCVD TXFILL1 TRMT IN HOSP/OVERNIGHT PST 12 MOS\n",
      "TXYRHPAD        int     %46.0f     TXYRHPAD   HOSP/OVERNIGHT TRMT FOR ALC, DRUGS, OR BOTH\n",
      "TXYRRFIN        int     %46.0f     TXYRRFIN   RCVD TXFILL1 TRMT REHAB CENTR/OVERNIGHT PST 12 MO\n",
      "TXYRINAD        int     %46.0f     TXYRINAD   RES ALC/DRG REH TRMT FOR ALC, DRUGS, OR BOTH\n",
      "TXYRRFOP        int     %46.0f     TXYRRFOP   RCVD TXFILL1 TRMT REHAB CENTR/OUTPT PST 12 MOS\n",
      "TXYRPOAD        int     %46.0f     TXYRPOAD   OUTPATIENT TRMT FOR ALC, DRUGS, OR BOTH\n",
      "TXYRMHC         int     %46.0f     TXYRMHC    RCVD TXFILL1 TRMT MNT HEALTH CNTR/OUTPT PST 12 MO\n",
      "TXYRMHAD        int     %46.0f     TXYRMHAD   MNT HEALTH CNTR TRMT FOR ALC, DRUGS, OR BOTH\n",
      "TXYRTXER        int     %46.0f     TXYRTXER   RCVD TXFILL1 TRMT IN EMERGENCY ROOM PAST 12 MOS\n",
      "TXYRERAD        int     %46.0f     TXYRERAD   EMERGENCY ROOM TRMT FOR ALC, DRUGS, OR BOTH\n",
      "TXYRDOC         int     %46.0f     TXYRDOC    RCVD TXFILL1 TRMT IN PRIV DR.'S OFFICE PST 12 MOS\n",
      "TXYRDCAD        int     %46.0f     TXYRDCAD   PRIV DR.'S OFFICE TRMT FOR ALC, DRUGS, OR BOTH\n",
      "TXYRJAIL        int     %46.0f     TXYRJAIL   RCVD TXFILL1 TRMT IN PRISON/JAIL PAST 12 MONTHS\n",
      "TXYRJLAD        int     %46.0f     TXYRJLAD   PRISON/JAIL TRMT FOR ALC, DRUGS, OR BOTH\n",
      "TXYRSHG         int     %46.0f     TXYRSHG    RCVD TXFILL1 TRMT IN SELF-HELP GROUP PAST 12 MOS\n",
      "TXYRSGAD        int     %46.0f     TXYRSGAD   SELF-HELP GROUP TRMT FOR ALC, DRUGS, OR BOTH\n",
      "TXYRSOP         int     %46.0f     TXYRSOP    RCVD TXFILL1 TRMT IN SOME OTHER PLACE PAST 12 MOS\n",
      "TXYROTS2        int     %50.0f     TXYROTS2   OTHER PLACE RECEIVED TRMT PAST 12 MONTHS\n",
      "TXYROTAD        int     %46.0f     TXYROTAD   OTHER PLACE TRMT FOR ALC, DRUGS, OR BOTH\n",
      "TXYRVSER        int     %46.0f     TXYRVSER   EVER VISIT EMER RM FOR TRMT OF ILL DRUG PST 12 MO\n",
      "TXYRNME2        int     %46.0f     TXYRNME2   # TIMES EMER RM FOR TRMT OF ILL DRUGS PST 12 MOS\n",
      "TXRCVNOW        int     %46.0f     TXRCVNOW   CURRENTLY RECEIVING TRMT/COUNSELING FOR TXFILL1\n",
      "NDTXNEDR        int     %46.0f     NDTXNEDR   NEED TRMT FOR USE OF ALCOHOL OR DRUG PAST 12 MOS\n",
      "NDTXMORE        int     %46.0f     NDTXMORE   NEED ADDL TRMT FOR USE OF ALCOHOL/DRUG PST 12 MOS\n"
     ]
    },
    {
     "name": "stdout",
     "output_type": "stream",
     "text": [
      "NDTMRALC        int     %46.0f     NDTMRALC   NEED ADDL TRMT FOR USE OF ALCOHOL PAST 12 MOS\n",
      "NDTMRMJ         int     %46.0f     NDTMRMJ    NEED ADDL TRMT FOR USE OF MJ/HASH PAST 12 MOS\n",
      "NDTMRCOC        int     %46.0f     NDTMRCOC   NEED ADDL TRMT FOR USE OF COC/CRACK PAST 12 MOS\n",
      "NDTMRHER        int     %46.0f     NDTMRHER   NEED ADDL TRMT FOR USE OF HEROIN PAST 12 MOS\n",
      "NDTMRHAL        int     %46.0f     NDTMRHAL   NEED ADDL TRMT FOR USE OF HALLUC PAST 12 MOS\n",
      "NDTMRINH        int     %46.0f     NDTMRINH   NEED ADDL TRMT FOR USE OF INHALANTS PAST 12 MOS\n",
      "NDTMRANL        int     %46.0f     NDTMRANL   NEED ADDL TRMT FOR USE OF PAIN REL PST 12 MOS\n",
      "NDTMRTRN        int     %46.0f     NDTMRTRN   NEED ADDL TRMT FOR USE OF TRAN PAST 12 MOS\n",
      "NDTMRSTM        int     %46.0f     NDTMRSTM   NEED ADDL TRMT FOR USE OF STIMULANTS PST 12 MOS\n",
      "NDTMRSED        int     %46.0f     NDTMRSED   NEED ADDL TRMT FOR USE OF SEDATIVES PST 12 MOS\n",
      "NDTMROTH        int     %46.0f     NDTMROTH   NEED ADDL TRMT FOR USE OF SOME OTH DRG PST 12 MOS\n",
      "NDTXALCR        int     %46.0f     NDTXALCR   NEED TRMT FOR USE OF ALCOHOL PAST 12 MONTHS\n",
      "NDTXMJR         int     %46.0f     NDTXMJR    NEED TRMT FOR USE OF MARIJUANA/HASHISH PAST 12 MOS\n",
      "NDTXCOCR        int     %46.0f     NDTXCOCR   NEED TRMT FOR USE OF COCAINE/CRACK PAST 12 MONTHS\n",
      "NDTXHERR        int     %46.0f     NDTXHERR   NEED TRMT FOR USE OF HEROIN PAST 12 MONTHS\n",
      "NDTXHALR        int     %46.0f     NDTXHALR   NEED TRMT FOR USE OF HALLUCINOGENS PAST 12 MONTHS\n",
      "NDTXINHR        int     %46.0f     NDTXINHR   NEED TRMT FOR USE OF INHALANTS PAST 12 MONTHS\n",
      "NDTXANLR        int     %46.0f     NDTXANLR   NEED TRMT FOR USE OF RX PAIN RELIEVERS PST 12 MOS\n",
      "NDTXTRNR        int     %46.0f     NDTXTRNR   NEED TRMT FOR USE OF RX TRANQUILIZERS PST 12 MOS\n",
      "NDTXSTMR        int     %46.0f     NDTXSTMR   NEED TRMT FOR USE OF RX STIMULANTS PST 12 MOS\n",
      "NDTXSEDR        int     %46.0f     NDTXSEDR   NEED TRMT FOR USE OF RX SEDATIVES PST 12 MOS\n",
      "NDTXSODR        int     %46.0f     NDTXSODR   NEED TRMT FOR USE OF SOME OTHER DRUG PAST 12 MOS\n",
      "NDTXDG1R        int     %46.0f     NDTXDG1R   OTHER DRUG NEEDED TRMT FOR PST 12 MOS - SPECIFY 1\n",
      "NDTXDG2R        int     %46.0f     NDTXDG2R   OTHER DRUG NEEDED TRMT FOR PST 12 MOS - SPECIFY 2\n",
      "NDTXDG3R        int     %46.0f     NDTXDG3R   OTHER DRUG NEEDED TRMT FOR PST 12 MOS - SPECIFY 3\n",
      "NDTXDG4R        int     %46.0f     NDTXDG4R   OTHER DRUG NEEDED TRMT FOR PST 12 MOS - SPECIFY 4\n",
      "NDTXDG5R        int     %46.0f     NDTXDG5R   OTHER DRUG NEEDED TRMT FOR PST 12 MOS - SPECIFY 5\n",
      "NDTXEFTR        int     %46.0f     NDTXEFTR   MAKE EFFORT FOR TRMT OF TXFILL2 PAST 12 MONTHS\n",
      "NDTXNHCV        int     %48.0f     NDTXNHCV   NOT GET TRMT COULDN'T AFFORD - NO HLTH CARE COVER\n",
      "NDTXLMCV        int     %46.0f     NDTXLMCV   TREATMENT NOT COVERED ON HLTH CARE\n",
      "NDTXNTSP        int     %46.0f     NDTXNTSP   NO TRANSPORTATION, TOO FAR AWAY, NOT CONVENIENT\n",
      "NDTXTYPE        int     %46.0f     NDTXTYPE   TREATMENT NOT FOUND FOR TYPE WANTED\n",
      "NDTXREDY        int     %46.0f     NDTXREDY   NOT READY TO STOP USING [TXFILL2]\n",
      "NDTXOPEN        int     %46.0f     NDTXOPEN   NO OPENINGS IN THE PROGRAMS\n",
      "NDTXWHER        int     %46.0f     NDTXWHER   DIDN'T KNOW WHERE TO GET TREATMENT\n",
      "NDTXNBR         int     %46.0f     NDTXNBR    TREATMENT MIGHT CAUSE NEIGHBRS TO HAVE NEG OPIN\n",
      "NDTXJOB         int     %46.0f     NDTXJOB    TREATMENT MIGHT HAVE NEG. EFFECT ON JOB\n",
      "NDTXNOND        int     %46.0f     NDTXNOND   YOU DIDN'T THINK YOU NEEDED TREATMENT AT THE TIME\n",
      "NDTXHNDL        int     %46.0f     NDTXHNDL   YOU THOUGHT YOU COULD HANDLE THE PROB W/O TREATMT\n",
      "NDTXNHLP        int     %46.0f     NDTXNHLP   YOU DIDN'T THINK TREATMENT WOULD HELP\n",
      "NDTXBUSY        int     %46.0f     NDTXBUSY   YOU DIDN'T HAVE TIME (JOB, CHILDCARE, OR OTH COM)\n",
      "NDTXFOUT        int     %46.0f     NDTXFOUT   DIDN'T WANT OTHERS TO FIND OUT YOU NEEDED TRMT\n",
      "NDTXSOR         int     %46.0f     NDTXSOR    SOME OTHER REASON OR REASONS\n",
      "NDTMREFT        int     %46.0f     NDTMREFT   MAKE EFFORT FOR ADDL TRMT FOR ALC/DRG PST 12 MOS\n",
      "NDMRNHCV        int     %46.0f     NDMRNHCV   NOT GET TRMT COULDN'T AFFORD - NO HLTH CARE COVER\n",
      "NDMRLMCV        int     %46.0f     NDMRLMCV   TREATMENT NOT COVERED ON HLTH CARE\n",
      "NDMRNTSP        int     %46.0f     NDMRNTSP   NO TRANSPORTATION, TOO FAR AWAY, NOT CONVENIENT\n",
      "NDMRTYPE        int     %46.0f     NDMRTYPE   TREATMENT NOT FOUND FOR TYPE WANTED\n",
      "NDMRREDY        int     %46.0f     NDMRREDY   NOT READY TO STOP USING ALCOHOL OR DRUGS\n",
      "NDMROPEN        int     %46.0f     NDMROPEN   NO OPENINGS IN THE PROGRAMS\n",
      "NDMRWHER        int     %46.0f     NDMRWHER   DIDN'T KNOW WHERE TO GET TREATMENT\n",
      "NDMRNBR         int     %46.0f     NDMRNBR    TREATMENT MIGHT CAUSE NEIGHBRS TO HAVE NEG. OPIN\n",
      "NDMRJOB         int     %46.0f     NDMRJOB    TREATMENT MIGHT HAVE NEG. EFFECT ON JOB\n",
      "NDMRNOND        int     %46.0f     NDMRNOND   YOU DIDN'T THINK YOU NEEDED TREATMENT AT THE TIME\n",
      "NDMRHNDL        int     %46.0f     NDMRHNDL   YOU THOUGHT YOU COULD HANDLE THE PROB W/O TREATMT\n",
      "NDMRNHLP        int     %46.0f     NDMRNHLP   YOU DIDN'T THINK TREATMENT WOULD HELP\n",
      "NDMRBUSY        int     %46.0f     NDMRBUSY   YOU DIDN'T HAVE TIME (JOB, CHILDCARE, OR OTH COM)\n",
      "NDMRFOUT        int     %46.0f     NDMRFOUT   DIDN'T WANT OTHERS TO FIND OUT YOU NEEDED TRMT\n",
      "NDMRSOR         int     %46.0f     NDMRSOR    SOME OTHER REASON OR REASONS\n",
      "TXLASREC        int     %48.0f     TXLASREC   TIME SINCE LAST RCVD ALCOHOL OR DRUG TREATMENT\n",
      "TXLTYMN2        int     %49.0f     TXLTYMN2   MAIN PLACE RCV TRMT LAST TIME/CURRENTLY\n",
      "TXLTYALC        int     %46.0f     TXLTYALC   LAST/CURRENT TREATMENT FOR ALCOHOL\n",
      "TXLTYMJ         int     %46.0f     TXLTYMJ    LAST/CURRENT TREATMENT FOR MARIJUANA/HASHISH\n",
      "TXLTYCOC        int     %46.0f     TXLTYCOC   LAST/CURRENT TREATMENT FOR COCAINE/CRACK\n",
      "TXLTYHER        int     %46.0f     TXLTYHER   LAST/CURRENT TREATMENT FOR HEROIN\n",
      "TXLTYHAL        int     %46.0f     TXLTYHAL   LAST/CURRENT TREATMENT FOR HALLUCINOGENS\n",
      "TXLTYINH        int     %46.0f     TXLTYINH   LAST/CURRENT TREATMENT FOR INHALANTS\n",
      "TXLTYANL        int     %46.0f     TXLTYANL   LAST/CURRENT TRMT FOR PRESCRIPTION PAIN RELIEVERS\n",
      "TXLTYTRN        int     %46.0f     TXLTYTRN   LAST/CURRENT TRMT FOR PRESCRIPTION TRANQUILIZERS\n",
      "TXLTYSTM        int     %46.0f     TXLTYSTM   LAST/CURRENT TRMT FOR PRESCRIPTION STIMULANTS\n",
      "TXLTYSED        int     %46.0f     TXLTYSED   LAST/CURRENT TRMT FOR PRESCRIPTION SEDATIVES\n",
      "TXLTYSOD        int     %46.0f     TXLTYSOD   LAST/CURRENT TRMT FOR SOME OTHER DRUG\n",
      "TXLTYOU2        int     %49.0f     TXLTYOU2   OUTCOME OF LAST/CURRENT TREATMENT\n",
      "TXLTYDU2        long    %46.0f     TXLTYDU2   # DAYS IN ALC/DRG TMT SO FAR/LAST TIME - RECODE\n",
      "TXPYINS         int     %46.0f     TXPYINS    HEALTH INSURANCE PAY FOR LAST/CURRENT TRMT\n",
      "TXPYCARE        int     %46.0f     TXPYCARE   MEDICARE PAY FOR LAST/CURRENT TRMT\n",
      "TXPYCAID        int     %46.0f     TXPYCAID   MEDICAID PAY FOR LAST/CURRENT TRMT\n",
      "TXPYPUBP        int     %46.0f     TXPYPUBP   OTH PUBLIC ASSIST PAY FOR LAST/CURRENT TRMT\n",
      "TXPYSAVE        int     %46.0f     TXPYSAVE   OWN SAVINGS PAY FOR LAST/CURRENT TRMT\n",
      "TXPYFMLY        int     %46.0f     TXPYFMLY   FAMILY MEMBERS PAY FOR LAST/CURRENT TRMT\n",
      "TXPYCORT        int     %46.0f     TXPYCORT   COURTS PAY FOR LAST/CURRENT TRMT\n",
      "TXPYMILC        int     %46.0f     TXPYMILC   MILITARY HLTH CARE PAY FOR LAST/CURRENT TRMT\n",
      "TXPYEMPL        int     %46.0f     TXPYEMPL   EMPLOYER PAY FOR LAST/CURRENT TRMT\n",
      "TXPYSOS         int     %46.0f     TXPYSOS    SOME OTHER SOURCE PAY FOR LAST/CURRENT TRMT\n",
      "TXPYSP2         int     %49.0f     TXPYSP2    OTHER PAY FOR LAST/CURRENT TRMT - SPECIFY\n",
      "TXPYFRE         int     %46.0f     TXPYFRE    LAST/CURRENT TREATMENT WAS/IS FREE\n",
      "TXENROLL        int     %46.0f     TXENROLL   ENROLLED IN TREATMENT PRGM ON OCT.1 [CURR YR - 1]\n",
      "TXYRDTXO        int     %46.0f     TXYRDTXO   WAS DETOX THE ONLY TRMT RCVD PAST 12 MONTHS\n",
      "TXALONEV        int     %49.0f     TXALONEV   EVER RCVD TMT FOR ALC USE (NO DRUG USE REPORTED)\n",
      "TXALONAG        int     %46.0f     TXALONAG   AGE WHEN FIRST RCVD TRMT FOR ALC USE\n",
      "TXDRONEV        int     %46.0f     TXDRONEV   EVER RCVD TMT FOR DRUG USE (NO ALC USE REPORTED)\n",
      "TXDRONAG        int     %46.0f     TXDRONAG   AGE WHEN FIRST RCVD TRMT/CNSLG FOR DRUG USE\n"
     ]
    },
    {
     "name": "stdout",
     "output_type": "stream",
     "text": [
      "TXALCDEV        int     %46.0f     TXALCDEV   EVER RCVD TMT FOR ALCOHOL USE (ALSO USED DRUGS)\n",
      "TXALCDAG        int     %46.0f     TXALCDAG   AGE WHEN FIRST RCVD TRMT/CNSLG FOR ALC USE\n",
      "TXDRGAEV        int     %46.0f     TXDRGAEV   EVER RCVD TRMT FOR DRUG USE (ALSO USED ALCOHOL)\n",
      "TXDRGAAG        int     %46.0f     TXDRGAAG   AGE WHEN FIRST RCVD TRMT/CNSLG FOR DRUG USE\n",
      "TXYALAGE        int     %46.0f     TXYALAGE   AGE WHEN FIRST RCVD TRMT/CNSLG FOR ALC USE\n",
      "TXYALDRG        int     %46.0f     TXYALDRG   EVER RCVD TRMT FOR DRUGS (ONLY PAST YR ALC TRMT)\n",
      "TXYALDAG        int     %46.0f     TXYALDAG   AGE WHEN FIRST RCVD TRMT/CNSLG FOR DRUG USE\n",
      "TXYDRAGE        int     %46.0f     TXYDRAGE   AGE WHEN FIRST RCVD TRMT/CNSLG FOR DRUG USE\n",
      "TXYDRALC        int     %46.0f     TXYDRALC   EVER RCVD TMT FOR ALCOHOL (ONLY PAST YR DRUG TMT)\n",
      "TXYDRAAG        int     %46.0f     TXYDRAAG   AGE WHEN FIRST RCVD TRMT/CNSLG FOR ALC USE\n",
      "TXYADAAG        int     %46.0f     TXYADAAG   AGE WHEN FIRST RCVD TRMT/CNSLG FOR ALC USE\n",
      "TXYADDAG        int     %46.0f     TXYADDAG   AGE WHEN FIRST RCVD TRMT/CNSLG FOR DRUG USE\n",
      "TXFGALAG        int     %49.0f     TXFGALAG   CONSISTENCY OF ALC TX AGE WITH ALC AFU\n",
      "TXFGDGAG        int     %50.0f     TXFGDGAG   CONSISTENCY OF FIRST DRUG TX AGE WITH DRUG AFUS\n",
      "TXFGADAG        int     %46.0f     TXFGADAG   CONSISTENCY OF FIRST TX AGE WITH ALC/DRUG AFUS\n",
      "TX12MSHG        int     %46.0f     TX12MSHG   WENT TO SELF-HELP GRP/12-STEP PGMS PAST 12 MOS\n",
      "TX12SGAD        int     %48.0f     TX12SGAD   WENT TO SELF-HELP GRP FOR ALC ONLY/DRUG ONLY/BOTH\n",
      "TXSHGFLG        int     %48.0f     TXSHGFLG   CONSISTENCY FLAG BETWEEN TX12MSHG AND TXYRSHG\n",
      "TXILALEV        int     %22.0f     TXILALEV   RECEIVED TREATMENT FOR DRG OR ALC USE IN LIFETIME\n",
      "ALCTRMT         int     %27.0f     ALCTRMT    RCVD TRMT ANY LOC FOR ALC USE - PST YR\n",
      "ILLTRMT         int     %27.0f     ILLTRMT    RCVD TRMT ANY LOC FOR ILL DRG USE - PST YR\n",
      "TXALNOIL        int     %22.0f     TXALNOIL   RCVD TRMT ANY LOC FOR ALC BUT NOT ILL DRG - PST YR\n",
      "TXILNOAL        int     %22.0f     TXILNOAL   RCVD TRMT ANY LOC FOR ILL DRG BUT NOT ALC - PST YR\n",
      "TXILLALC        int     %22.0f     TXILLALC   RCVD TRMT ANY LOC FOR ILL DRG OR ALC - PST YR\n",
      "TXILANAL        int     %23.0f     TXILANAL   RCVD TRMT ANY LOC FOR ILL DRG AND ALC - PST YR\n",
      "TXLTALC2        int     %22.0f     TXLTALC2   RECEIVED LAST/CURRENT TREATMENT FOR ALCOHOL\n",
      "TXLTMJ2         int     %22.0f     TXLTMJ2    RECEIVED LAST/CURRENT TREATMENT FOR MARIJUANA\n",
      "TXLTCOC2        int     %22.0f     TXLTCOC2   RECEIVED LAST/CURRENT TREATMENT FOR COCAINE\n",
      "TXLTHER2        int     %22.0f     TXLTHER2   RECEIVED LAST/CURRENT TREATMENT FOR HEROIN\n",
      "TXLTHAL2        int     %22.0f     TXLTHAL2   RECEIVED LAST/CURRENT TREATMENT FOR HALLUCINOGENS\n",
      "TXLTINH2        int     %22.0f     TXLTINH2   RECEIVED LAST/CURRENT TREATMENT FOR INHALANTS\n",
      "TXLTANL2        int     %22.0f     TXLTANL2   RECEIVED LAST/CURRENT TREATMENT FOR PAIN RELIEVERS\n",
      "TXLTTRN2        int     %22.0f     TXLTTRN2   RECEIVED LAST/CURRENT TREATMENT FOR TRANQUILIZERS\n",
      "TXLTSTM2        int     %22.0f     TXLTSTM2   RECEIVED LAST/CURRENT TREATMENT FOR STIMULANTS\n",
      "TXLTSED2        int     %22.0f     TXLTSED2   RECEIVED LAST/CURRENT TREATMENT FOR SEDATIVES\n",
      "TXLTILL2        int     %27.0f     TXLTILL2   RECEIVED LAST/CURRENT TREATMENT FOR ILLICIT DRUGS\n",
      "TXPINS2         int     %22.0f     TXPINS2    LAST/CURR ILL DRG/ALC TRT PAID FOR BY INSURANCE\n",
      "TXPCARE2        int     %22.0f     TXPCARE2   LAST/CURR ILL DRG/ALC TRT PAID FOR BY MEDICARE\n",
      "TXPCAID2        int     %22.0f     TXPCAID2   LAST/CURR ILL DRG/ALC TRT PAID FOR BY MEDICAID\n",
      "TXPPUBP2        int     %22.0f     TXPPUBP2   LAST/CURR ILL DRG/ALC TRT PAID FOR BY PUBLIC ASST\n",
      "TXPSAVE2        int     %22.0f     TXPSAVE2   LAST/CURR ILL DRG/ALC TRT PAID FOR BY OWN SAVINGS\n",
      "TXPFMLY2        int     %22.0f     TXPFMLY2   LAST/CURR ILL DRG/ALC TRT PAID FOR BY FAM MEMBERS\n",
      "TXPCORT2        int     %22.0f     TXPCORT2   LAST/CURR ILL DRG/ALC TRT PAID FOR BY COURTS\n",
      "TXPMILC2        int     %22.0f     TXPMILC2   LAST/CURR ILL DRG/ALC TRT PAID FOR BY MILT HLTCARE\n",
      "TXPEMPL2        int     %22.0f     TXPEMPL2   LAST/CURR ILL DRG/ALC TRT PAID FOR BY EMPLOYER\n",
      "ALCPINS         int     %36.0f     ALCPINS    LAST/CURRENT ALC TREATMENT PAID FOR BY INSURANCE\n",
      "ALCPCARE        int     %37.0f     ALCPCARE   LAST/CURRENT ALC TREATMENT PAID FOR BY MEDICARE\n",
      "ALCPCAID        int     %37.0f     ALCPCAID   LAST/CURRENT ALC TREATMENT PAID FOR BY MEDICAID\n",
      "ALCPPUBP        int     %37.0f     ALCPPUBP   LAST/CURRENT ALC TREATMENT PAID FOR BY PUBLIC ASST\n",
      "ALCPSAVE        int     %37.0f     ALCPSAVE   LAST/CURRENT ALC TREATMENT PAID FOR BY OWN SAVINGS\n",
      "ALCPFMLY        int     %37.0f     ALCPFMLY   LAST/CURRENT ALC TREATMENT PAID FOR BY FAM MEMBERS\n",
      "ALCPCORT        int     %37.0f     ALCPCORT   LAST/CURRENT ALC TREATMENT PAID FOR BY COURTS\n",
      "ALCPMILC        int     %37.0f     ALCPMILC   LAST/CURRENT ALC TRT PAID FOR BY MILT HLTCARE\n",
      "ALCPEMPL        int     %37.0f     ALCPEMPL   LAST/CURRENT ALC TREATMENT PAID FOR BY EMPLOYER\n",
      "ILLPINS         int     %36.0f     ILLPINS    LAST/CURRENT ILL DRUG TRT PAID FOR BY INSURANCE\n",
      "ILLPCARE        int     %37.0f     ILLPCARE   LAST/CURRENT ILL DRUG TRT PAID FOR BY MEDICARE\n",
      "ILLPCAID        int     %37.0f     ILLPCAID   LAST/CURRENT ILL DRUG TRT PAID FOR BY MEDICAID\n",
      "ILLPPUBP        int     %37.0f     ILLPPUBP   LAST/CURRENT ILL DRUG TRT PAID FOR BY PUBLIC ASST\n",
      "ILLPSAVE        int     %37.0f     ILLPSAVE   LAST/CURRENT ILL DRUG TRT PAID FOR BY OWN SAVINGS\n",
      "ILLPFMLY        int     %37.0f     ILLPFMLY   LAST/CURRENT ILL DRUG TRT PAID FOR BY FAM MEMBERS\n",
      "ILLPCORT        int     %37.0f     ILLPCORT   LAST/CURRENT ILL DRUG TRT PAID FOR BY COURTS\n",
      "ILLPMILC        int     %37.0f     ILLPMILC   LAST/CURRENT ILL DRUG TRT PAID FOR BY MILT HLTCARE\n",
      "ILLPEMPL        int     %37.0f     ILLPEMPL   LAST/CURRENT ILL DRUG TRT PAID FOR BY EMPLOYER\n",
      "SPECTALC        int     %23.0f     SPECTALC   RCVD TRMT AT SPEC FAC FOR ALC - PST YR\n",
      "SPECTILL        int     %23.0f     SPECTILL   RCVD TRMT AT SPEC FAC FOR ILL DRG - PST YR\n",
      "SPCALNIL        int     %23.0f     SPCALNIL   RCVD TRMT AT SPEC FAC FOR ALC NOT ILL DRG - PST YR\n",
      "SPCILNAL        int     %23.0f     SPCILNAL   RCVD TRMT AT SPEC FAC FOR ILL DRG NOT ALC - PST YR\n",
      "SPILLALC        int     %23.0f     SPILLALC   RCVD TRMT AT SPEC FAC FOR ILL DRG OR ALC - PST YR\n",
      "SPILANAL        int     %31.0f     SPILANAL   RCVD TRMT AT SPEC FAC FOR ILL DRG AND ALC - PST YR\n",
      "LASTTXSP        int     %48.0f     LASTTXSP   LAST/CURRENT TRMT AT SPECIALTY FACILITY - PST YR\n",
      "ALCHOSP         int     %23.0f     ALCHOSP    RECEIVED ALC TRT AT A HOSPITAL IN PAST YR\n",
      "ALCRFIN         int     %31.0f     ALCRFIN    RECEIVED ALC TRT AT AN INP REHAB FAC IN PAST YR\n",
      "ALCRFOP         int     %31.0f     ALCRFOP    RECEIVED ALC TRT AT AN OUTP REHAB FAC IN PAST YR\n",
      "ALCMHC          int     %31.0f     ALCMHC     RECEIVED ALC TRT AT A MNTL HLTH CNTR IN PAST YR\n",
      "ALCTXER         int     %31.0f     ALCTXER    RECEIVED ALC TRT AT AN EMERGENCY ROOM IN PAST YR\n",
      "ALCDOC          int     %31.0f     ALCDOC     RECEIVED ALC TRT AT A DOCTOR'S OFFICE IN PAST YR\n",
      "ALCJAIL         int     %31.0f     ALCJAIL    RECEIVED ALC TRT AT A PRISON/JAIL IN PAST YR\n",
      "ALCSHG          int     %31.0f     ALCSHG     RECEIVED ALC TRT AT A SELF-HELP GROUP IN PAST YR\n",
      "DRGHOSP         int     %23.0f     DRGHOSP    RCVD ILL DRUG TRT AT A HOSPITAL IN PAST YR\n",
      "DRGRFIN         int     %31.0f     DRGRFIN    RCVD ILL DRUG TRT AT AN INP REHAB FAC IN PAST YR\n",
      "DRGRFOP         int     %31.0f     DRGRFOP    RCVD ILL DRUG TRT AT AN OUTP REHAB FAC IN PAST YR\n",
      "DRGMHC          int     %31.0f     DRGMHC     RCVD ILL DRUG TRT AT A MNTL HLTH CNTR IN PAST YR\n",
      "DRGTXER         int     %31.0f     DRGTXER    RCVD ILL DRUG TRT AT AN EMERGENCY ROOM IN PAST YR\n",
      "DRGDOC          int     %31.0f     DRGDOC     RCVD ILL DRUG TRT AT A DOCTOR'S OFFICE IN PAST YR\n",
      "DRGJAIL         int     %31.0f     DRGJAIL    RCVD ILL DRUG TRT AT A PRISON/JAIL IN PAST YR\n",
      "DRGSHG          int     %31.0f     DRGSHG     RCVD ILL DRUG TRT AT A SELF-HELP GROUP IN PAST YR\n",
      "LOCHOSP         int     %22.0f     LOCHOSP    RCVD ILL DRG/ALC TRT AT A HOSPITAL IN PAST YR\n",
      "LOCRFIN         int     %22.0f     LOCRFIN    RCVD ILL DRG/ALC TRT AT INP REHAB FAC IN PAST YR\n"
     ]
    },
    {
     "name": "stdout",
     "output_type": "stream",
     "text": [
      "LOCRFOP         int     %22.0f     LOCRFOP    RCVD ILL DRG/ALC TRT AT OUTP REHAB FAC IN PAST YR\n",
      "LOCMHC          int     %22.0f     LOCMHC     RCVD ILL DRG/ALC TRT AT MNTL HLTH CNTR IN PAST YR\n",
      "LOCTXER         int     %22.0f     LOCTXER    RCVD ILL DRG/ALC TRT AT AN ER IN PAST YR\n",
      "LOCDOC          int     %22.0f     LOCDOC     RCVD ILL DRG/ALC TRT AT A DR'S OFFICE IN PAST YR\n",
      "LOCJAIL         int     %22.0f     LOCJAIL    RCVD ILL DRG/ALC TRT AT A PRISON/JAIL IN PAST YR\n",
      "LOCSHG          int     %22.0f     LOCSHG     RCVD ILL DRG/ALC TRT AT SELF-HELP GROUP IN PAST YR\n",
      "TXNEDALC        int     %23.0f     TXNEDALC   NEEDED TREATMENT FOR ALCOHOL USE - PST YR\n",
      "ILLNEED         int     %23.0f     ILLNEED    NEEDED TREATMENT FOR ILLICIT DRUG USE - PST YR\n",
      "TXNDILAL        int     %23.0f     TXNDILAL   NEEDED TREATMENT FOR ILL DRG OR ALC USE - PST YR\n",
      "FLTNDALC        int     %23.0f     FLTNDALC   FELT NEED FOR TRMT FOR ALCOHOL USE - PST YR\n",
      "FLTNDILL        int     %23.0f     FLTNDILL   FELT NEED FOR TRMT FOR ILLICIT DRUG USE - PST YR\n",
      "FLNDILAL        int     %36.0f     FLNDILAL   FELT NEED FOR TRMT FOR ILL DRG OR ALC USE - PST YR\n",
      "NDEFALC         int     %44.0f     NDEFALC    FELT NEED/MADE EFFORT FOR TRT FOR ALCOHOL USE\n",
      "NDEFIL          int     %46.0f     NDEFIL     FELT NEED/MADE EFFORT FOR TRT FOR ILLICIT DRG USE\n",
      "NDEFIA          int     %50.0f     NDEFIA     FELT NEED/MADE EFFT FOR TRT FOR ILL DRG OR ALC USE\n",
      "TXGAPALC        int     %31.0f     TXGAPALC   NEEDED TRT FOR ALC USE, NOT RCVD TRT SPEC FAC-PY\n",
      "TXNOSPEC        int     %30.0f     TXNOSPEC   NEEDED TRT FOR ILL DRG USE, NOT RCD TRT SPC FAC-PY\n",
      "TXGPILAL        int     %31.0f     TXGPILAL   NEEDED TRT FOR DRG/ALC USE, NOT RCD TRT SP FAC-PY\n",
      "TXRNNHCV        int     %50.0f     TXRNNHCV   NO TRT/ADDL TRT PST YR B/C COULDNT AFFORD/NO INSUR\n",
      "TXRNLMCV        int     %50.0f     TXRNLMCV   NO TRT/ADDL TRT PST YR B/C INS DIDNT COVR TRT/COST\n",
      "TXRNNTSP        int     %50.0f     TXRNNTSP   NO TRT/ADDL TRT PST YR B/C NO TRANSPORTATION\n",
      "TXRNTYPE        int     %50.0f     TXRNTYPE   NO TRT/ADDL TRT PST YR B/C NO PROGRAM HAD TYPE TRT\n",
      "TXRNNSTP        int     %50.0f     TXRNNSTP   NO TRT/ADDL TRT PST YR B/C NOT READY TO STOP USE\n",
      "TXRNOPEN        int     %50.0f     TXRNOPEN   NO TRT/ADDL TRT PST YR B/C NO OPENINGS IN PROGRAM\n",
      "TXRNWHER        int     %50.0f     TXRNWHER   NO TRT/ADDL TRT PST YR B/C DIDNT KNOW WHERE TO GO\n",
      "TXRNNBR         int     %48.0f     TXRNNBR    NO TRT/ADDL TRT PST YR B/C CAUSE NBR HAVE NEG OPIN\n",
      "TXRNJOB         int     %48.0f     TXRNJOB    NO TRT/ADDL TRT PST YR B/C HAVE NEG EFFECT ON JOB\n",
      "TXRNNOND        int     %50.0f     TXRNNOND   NO TRT/ADDL TRT PST YR B/C DIDNT FEEL NEED FOR TRT\n",
      "TXRNHNDL        int     %50.0f     TXRNHNDL   NO TRT/ADDL TRT PST YR B/C COULD HANDL PRB W/O TRT\n",
      "TXRNNHLP        int     %50.0f     TXRNNHLP   NO TRT/ADDL TRT PST YR B/C DIDNT THINK WOULD HELP\n",
      "TXRNBUSY        int     %50.0f     TXRNBUSY   NO TRT/ADDL TRT PST YR B/C DIDNT HAVE TIME\n",
      "TXRNFOUT        int     %50.0f     TXRNFOUT   NO TRT/ADDL TRT PST YR B/C NOT WANT OTHRS TO KNOW\n",
      "AMHINP2         int     %45.0f     AMHINP2    RCVD INPATIENT MENTAL HEALTH TRT IN PST YR\n",
      "AMHOUTP3        int     %38.0f     AMHOUTP3   RCVD OUTPATIENT MENTAL HEALTH TRT IN PST YR\n",
      "AMHRX2          int     %45.0f     AMHRX2     RCVD PRESC MED FOR MENTAL HLTH TRT IN PST YR\n",
      "AMHTXRC3        int     %42.0f     AMHTXRC3   RCVD ANY MENTAL HEALTH TRT IN PST YR\n",
      "AMHSVTYP        int     %49.0f     AMHSVTYP   TYPE OF MENTAL HEALTH TRT RCVD IN PST YR\n",
      "AMHSVNO         int     %46.0f     AMHSVNO    NUM OF TYPES OF MNT HLTH TRT SRVCS RCVD IN PST YR\n",
      "AMHTXND2        int     %30.0f     AMHTXND2   PERCEIVED NEED/DID NOT RCV MH TRT IN PST YR\n",
      "AMHTXAND        int     %50.0f     AMHTXAND   PERCEIVED UNMET NEED AND RECEIPT OF MH TRT\n",
      "MHLMNT3         int     %48.0f     MHLMNT3    RCVD OUTP MH TRT AT MH CLINIC/CENTER IN PST YR\n",
      "MHLTHER3        int     %48.0f     MHLTHER3   RCVD OUTP MH TRT AT PRIV THERAPIST OFC IN PST YR\n",
      "MHLDOC3         int     %48.0f     MHLDOC3    RCVD OUTP MH TRT AT NON CLINIC DR OFFCE IN PST YR\n",
      "MHLCLNC3        int     %48.0f     MHLCLNC3   RCVD OUTP MH TRT AT MEDICAL CLINIC IN PST YR\n",
      "MHLDTMT3        int     %48.0f     MHLDTMT3   RCVD OUTP MH TRT AT DAY HOSP OR TRT PGM IN PST YR\n",
      "MHLSCHL3        int     %29.0f     MHLSCHL3   RCVD OUTP MH TRT AT A SCHOOL SETTING IN PST YR\n",
      "MHLOTH3         int     %29.0f     MHLOTH3    RCVD OUTP MH TRT AT SOME OTHER PLACE IN PST YR\n",
      "MHPDSLF2        int     %50.0f     MHPDSLF2   SELF/HHOLD FAM MBR PAID FOR OUTP MH TRT IN PST YR\n",
      "MHPDOFM2        int     %50.0f     MHPDOFM2   NON-HHOLD FAM MBR PAID FOR OUTP MH TRT IN PST YR\n",
      "MHPDPHI2        int     %50.0f     MHPDPHI2   PRIV HEALTH INSUR PAID FOR OUTP MH TRT IN PST YR\n",
      "MHPDMCR2        int     %50.0f     MHPDMCR2   MEDICARE PAID FOR OUTP MH TRT IN PST YR\n",
      "MHPDMCD2        int     %50.0f     MHPDMCD2   MEDICAID PAID FOR OUTP MH TRT IN PST YR\n",
      "MHPDREH2        int     %50.0f     MHPDREH2   REHAB PGM PAID FOR OUTP MH TRT IN PST YR\n",
      "MHPDEMP2        int     %50.0f     MHPDEMP2   EMPLOYER PAID FOR OUTP MH TRT IN PST YR\n",
      "MHPDMIL2        int     %50.0f     MHPDMIL2   VA OR MILITARY PGM PAID FOR OUTP MH TRT IN PST YR\n",
      "MHPDPUB2        int     %50.0f     MHPDPUB2   OTH PUBLIC SOURCE PAID FOR OUTP MH TRT IN PST YR\n",
      "MHPDPRV2        int     %50.0f     MHPDPRV2   OTH PRIVATE SOURCE PAID FOR OUTP MH TRT IN PST YR\n",
      "MHPDFRE2        int     %50.0f     MHPDFRE2   FREE - NOBODY PAID FOR OUTP MH TRT IN PST YR\n",
      "MHRCOST2        int     %46.0f     MHRCOST2   NO MH TRT IN PST YR B/C COULD NOT AFFORD COST\n",
      "MHRNBRS2        int     %46.0f     MHRNBRS2   NO MH TRT IN PST YR B/C FEAR OF NEIGHBRS NEG OPIN\n",
      "MHRJOBS2        int     %46.0f     MHRJOBS2   NO MH TRT IN PST YR B/C FEAR OF NEG AFFECT ON JOB\n",
      "MHRNCOV2        int     %46.0f     MHRNCOV2   NO MH TRT IN PST YR B/C INSUR NOT COVER AT ALL\n",
      "MHRENUF2        int     %46.0f     MHRENUF2   NO MH TRT IN PST YR B/C INSUR NOT PAY ENOUGH\n",
      "MHRWHER2        int     %46.0f     MHRWHER2   NO MH TRT IN PST YR B/C DID NOT KNOW WHERE TO GO\n",
      "MHRCFID2        int     %46.0f     MHRCFID2   NO MH TRT IN PST YR B/C CONFIDENTIALITY CONCERNS\n",
      "MHRCMIT2        int     %46.0f     MHRCMIT2   NO MH TRT IN PST YR B/C FEAR BEING COMMITTED/MED\n",
      "MHRNOND2        int     %46.0f     MHRNOND2   NO MH TRT IN PST YR B/C DIDN'T THINK TRT NEEDED\n",
      "MHRHAND2        int     %46.0f     MHRHAND2   NO MH TRT IN PST YR B/C THGT COULD HANDLE PRB W/O\n",
      "MHRNOHP2        int     %46.0f     MHRNOHP2   NO MH TRT IN PST YR B/C DIDN'T THNK TRT WOULD HELP\n",
      "MHRTIME2        int     %46.0f     MHRTIME2   NO MH TRT IN PST YR B/C DIDN'T HAVE TIME\n",
      "MHRFOUT2        int     %46.0f     MHRFOUT2   NO MH TRT IN PST YR B/C DIDNT WANT OTH TO FIND OUT\n",
      "MHRTRAN2        int     %46.0f     MHRTRAN2   NO MH TRT IN PST YR B/C NO TRANS OR INCONVENIENT\n",
      "MHRSOTH2        int     %46.0f     MHRSOTH2   NO MH TRT IN PST YR B/C SOME OTHER REASON\n",
      "MHOSPTR2        int     %50.0f     MHOSPTR2   RCVD MH TRT OR SUB TRT AT SPEC FAC IN PST YR\n",
      "MHNSPTR2        int     %50.0f     MHNSPTR2   RCVD MH TRT BUT NOT SUB TRT AT SPEC FAC IN PST YR\n",
      "NMHSPTR2        int     %49.0f     NMHSPTR2   RCVD SUB TRT AT SPEC FAC BUT NOT MH TRT IN PST YR\n",
      "MHASPTR2        int     %50.0f     MHASPTR2   RCVD BOTH MH TRT AND SUB TRT AT SPEC FAC IN PST YR\n",
      "EDFAM18         int     %41.0f     EDFAM18    EDITED INDICATOR: FAMILY IN HH 18 OR OLDER\n",
      "IMOTHER         int     %46.0f     IMOTHER    MOTHER IN HH\n",
      "IFATHER         int     %46.0f     IFATHER    FATHER IN HH\n",
      "NRCH17_2        int     %9.0f      NRCH17_2   RECODED # R's CHILDREN < 18 IN HOUSEHOLD\n",
      "IRHHSIZ2        int     %29.0f     IRHHSIZ2   RECODE - IMPUTATION-REVISED # PERSONS IN HH\n",
      "IIHHSIZ2        int     %26.0f     IIHHSIZ2   IRHHSIZ2-IMPUTATION INDICATOR\n",
      "IRKI17_2        int     %31.0f     IRKI17_2   RECODE - IMPUTATION-REVISED # KIDS AGED<18 IN HH\n",
      "IIKI17_2        int     %26.0f     IIKI17_2   IRKI17_2-IMPUTATION INDICATOR\n",
      "IRHH65_2        int     %43.0f     IRHH65_2   REC - IMPUTATION-REVISED # OF PER IN HH AGED>=65\n",
      "IIHH65_2        int     %26.0f     IIHH65_2   IRHH65_2-IMPUTATION INDICATOR\n",
      "IRFAMSZ2        int     %43.0f     IRFAMSZ2   IMP-REVISED - NO OF R'S FAMILY MEMBERS IN HHLD\n",
      "IIFAMSZ2        int     %26.0f     IIFAMSZ2   IRFAMSZ2 - IMPUTATION INDICATOR\n",
      "IRKIDFA2        int     %45.0f     IRKIDFA2   IMP-REV - NO OF R'S FAMILY MBRS IN HH AGED 0-17\n"
     ]
    },
    {
     "name": "stdout",
     "output_type": "stream",
     "text": [
      "IIKIDFA2        int     %26.0f     IIKIDFA2   IRKIDFA2 - IMPUTATION INDICATOR\n",
      "PRXYDATA        int     %38.0f     PRXYDATA   IS PROXY ANSWERING INSURANCE/INCOME QS\n",
      "IRFAMSOC        int     %3.0f      IRFAMSOC   IMP. REVISED - FAM RECEIVE SS OR RR PAYMENTS\n",
      "IIFAMSOC        int     %26.0f     IIFAMSOC   IRFAMSOC - IMPUTATION INDICATOR\n",
      "IRFAMSSI        int     %3.0f      IRFAMSSI   IMP. REVISED - FAM RECEIVE SSI\n",
      "IIFAMSSI        int     %26.0f     IIFAMSSI   IRFAMSSI - IMPUTATION INDICATOR\n",
      "IRFAMWAG        int     %3.0f      IRFAMWAG   IMP. REVISED - FAM REC INCOME FROM JOB\n",
      "IIFAMWAG        int     %26.0f     IIFAMWAG   IRFAMWAG - IMPUTATION INDICATOR\n",
      "IRFSTAMP        int     %3.0f      IRFSTAMP   IMP. REVISED - RESP/OTH FAM MEM REC FOOD STAMPS\n",
      "IIFSTAMP        int     %26.0f     IIFSTAMP   IRFSTAMP - IMPUTATION INDICATOR\n",
      "IRFAMPMT        int     %3.0f      IRFAMPMT   IMP. REVISED - FAM RECEIVE PUBLIC ASSIST\n",
      "IIFAMPMT        int     %26.0f     IIFAMPMT   IRFAMPMT - IMPUTATION INDICATOR\n",
      "IRFAMSVC        int     %3.0f      IRFAMSVC   IMP. REVISED - FAM REC WELFARE/JOB PL/CHILDCARE\n",
      "IIFAMSVC        int     %26.0f     IIFAMSVC   IRFAMSVC - IMPUTATION INDICATOR\n",
      "IRWELMOS        int     %15.0f     IRWELMOS   IMP. REVISED - NO.OF MONTHS ON WELFARE\n",
      "IIWELMOS        int     %26.0f     IIWELMOS   IRWELMOS - IMPUTATION INDICATOR\n",
      "IRPINC3         int     %34.0f     IRPINC3    RECODE - IMP.REVISED-RESP'S TOT INC\n",
      "IIPINC3         int     %26.0f     IIPINC3    IRPINC3 - IMPUTATION INDICATOR\n",
      "IRFAMIN3        int     %34.0f     IRFAMIN3   RECODE - IMP.REVISED - TOT FAM INCOME\n",
      "IIFAMIN3        int     %26.0f     IIFAMIN3   IRFAMIN3 - IMPUTATION INDICATOR\n",
      "MEDICARE        int     %17.0f     MEDICARE   COVERED BY MEDICARE\n",
      "CAIDCHIP        int     %27.0f     CAIDCHIP   COVERED BY MEDICAID/CHIP\n",
      "CHAMPUS         int     %17.0f     CHAMPUS    COV BY TRICARE, CHAMPUS, CHAMPVA, VA, MILITARY\n",
      "PRVHLTIN        int     %17.0f     PRVHLTIN   COVERED BY PRIVATE INSURANCE\n",
      "GRPHLTIN        int     %30.0f     GRPHLTIN   PRIVATE PLAN OFFERED THROUGH EMPLOYER OR UNION\n",
      "HLTINALC        int     %30.0f     HLTINALC   ALCOHOL ABUSE OR ALCOHOLISM\n",
      "HLTINDRG        int     %30.0f     HLTINDRG   DRUG ABUSE\n",
      "HLTINMNT        int     %30.0f     HLTINMNT   MENTAL OR EMOTIONAL DIFFICULTIES\n",
      "HLTINNOS        int     %17.0f     HLTINNOS   COVERED BY HEALTH INSUR (NOT OTHERWISE SPECIFIED)\n",
      "HLCNOTYR        int     %27.0f     HLCNOTYR   ANYTIME DID NOT HAVE HEALTH INS/COVER PAST 12 MOS\n",
      "HLCNOTMO        int     %17.0f     HLCNOTMO   PAST 12 MOS, HOW MANY MOS W/O COVERAGE\n",
      "HLCLAST         int     %49.0f     HLCLAST    TIME SINCE LAST HAD HEALTH CARE COVERAGE\n",
      "HLLOSRSN        int     %50.0f     HLLOSRSN   MAIN REASON STOPPED COVERED BY HEALTH INSURANCE\n",
      "HLNVCOST        int     %20.0f     HLNVCOST   COST TOO HIGH\n",
      "HLNVOFFR        int     %20.0f     HLNVOFFR   EMPLOYER DOESN'T OFFER\n",
      "HLNVREF         int     %20.0f     HLNVREF    INSURANCE COMPANY REFUSED COVERAGE\n",
      "HLNVNEED        int     %20.0f     HLNVNEED   DON'T NEED IT\n",
      "HLNVSOR         int     %20.0f     HLNVSOR    NEVER HAD HLTH INS SOME OTHER REASON\n",
      "IRMCDCHP        int     %42.0f     IRMCDCHP   IMPUTATION REVISED CAIDCHIP\n",
      "IIMCDCHP        int     %26.0f     IIMCDCHP   IMPUTATION INDICATOR FOR IRMCDCHP\n",
      "IRMEDICR        int     %37.0f     IRMEDICR   IMPUTATION-REVISED MEDICARE\n",
      "IIMEDICR        int     %26.0f     IIMEDICR   IMPUTATION INDICATOR FOR IRMEDICR\n",
      "IRCHMPUS        int     %50.0f     IRCHMPUS   IMPUTATION-REVISED CHAMPUS\n",
      "IICHMPUS        int     %26.0f     IICHMPUS   IMPUTATION INDICATOR FOR IRCHMPUS\n",
      "IRPRVHLT        int     %44.0f     IRPRVHLT   IMPUTATION-REVISED PRIVATE HEALTH INSURANCE\n",
      "IIPRVHLT        int     %26.0f     IIPRVHLT   IMPUTATION INDICATOR FOR IRPRVHLT\n",
      "IROTHHLT        int     %46.0f     IROTHHLT   IMPUTATION-REVISED OTHER HEALTH INSURANCE\n",
      "IIOTHHLT        int     %26.0f     IIOTHHLT   IMPUTATION INDICATOR FOR IROTHHLT\n",
      "GOVTPROG        int     %27.0f     GOVTPROG   PARTICIPATED IN ONE OR MORE GOVT ASSIST PROGRAMS\n",
      "INCOME          int     %17.0f     INCOME     TOTAL FAMILY INCOME RECODE\n",
      "POVERTY2        int     %50.0f     POVERTY2   POVERTY LEVEL (% OF US CENSUS POVERTY THRESHOLD)\n",
      "HLCALLFG        int     %47.0f     HLCALLFG   FLAG IF EVERY FORM OF HEALTH INS REPORTED\n",
      "HLCALL99        int     %23.0f     HLCALL99   YES TO MEDICARE/MEDICAID/CHAMPUS/PRVHLTIN\n",
      "ANYHLTI2        int     %13.0f     ANYHLTI2   COVERED BY ANY HEALTH INSURANCE - RECODE\n",
      "IRINSUR4        int     %49.0f     IRINSUR4   IMPUTATION-REVISED OVERALL HEALTH INSURANCE\n",
      "IIINSUR4        int     %26.0f     IIINSUR4   IRINSUR4 IMPUTATION INDICATOR\n",
      "OTHINS          int     %44.0f     OTHINS     OTHER HEALTH INSURANCE\n",
      "AGE2            int     %41.0f     AGE2       RECODE - FINAL EDITED AGE\n",
      "NOMARR2         int     %17.0f     NOMARR2    NUMBER OF TIMES MARRIED\n",
      "SERVICE         int     %27.0f     SERVICE    EVER BEEN IN THE US ARMED FORCES\n",
      "MILSTAT         int     %47.0f     MILSTAT    CURRENT MILITARY STATUS\n",
      "ACTDEVER        int     %27.0f     ACTDEVER   EVER ON ACTIVE DUTY IN US MILITARY/RESERV\n",
      "ACTD2001        int     %27.0f     ACTD2001   SEPTEMBER 2001 OR LATER\n",
      "ACTD9001        int     %27.0f     ACTD9001   AUG 1990 TO AUG 2001 (INCLUDING PERSIAN GULF WAR)\n",
      "ACTD7590        int     %27.0f     ACTD7590   MAY 1975 TO JULY 1990\n",
      "ACTDVIET        int     %27.0f     ACTDVIET   VIETNAM ERA (AUGUST 1964 TO APRIL 1975)\n",
      "ACTDPRIV        int     %27.0f     ACTDPRIV   ANY TIME BEFORE VIETNAM ERA (AUGUST 1964)\n",
      "COMBATPY        int     %27.0f     COMBATPY   EVER IN COMBAT ZONE ON ACTIVE DUTY\n",
      "HEALTH          int     %10.0f     HEALTH     OVERALL HEALTH\n",
      "IRSEX           int     %6.0f      IRSEX      IMPUTATION REVISED GENDER\n",
      "IRMARIT         int     %45.0f     IRMARIT    IMPUTATION REVISED MARITAL STATUS\n",
      "IIMARIT         int     %45.0f     IIMARIT    IMPUTATION INDICATOR MARITAL STATUS\n",
      "IREDUC2         int     %48.0f     IREDUC2    RECODE - IMPUTATION REVISED EDUCATION\n",
      "IIEDUC2         int     %31.0f     IIEDUC2    IMPUTATION REVISED EDUCATION INDICATOR\n",
      "CATAGE          int     %15.0f     CATAGE     AGE CATEGORY\n",
      "CATAG2          int     %15.0f     CATAG2     AGE CATEGORY RECODE (3 LEVELS)\n",
      "CATAG3          int     %15.0f     CATAG3     AGE CATEGORY RECODE (5 LEVELS)\n",
      "CATAG6          int     %15.0f     CATAG6     AGE CATEGORY RECODE (6 LEVELS)\n",
      "CATAG7          int     %15.0f     CATAG7     AGE CATEGORY RECODE (7 LEVELS)\n",
      "PREGAGE2        int     %30.0f     PREGAGE2   PREGNANCY AGE CATEGORY RECODE\n",
      "SEXAGE          int     %41.0f     SEXAGE     COMBINED GENDER BY AGE CATEGORY INDICATOR\n",
      "NEWRACE2        int     %31.0f     NEWRACE2   RACE/HISPANICITY RECODE (7 LEVELS)\n",
      "SEXRACE         int     %48.0f     SEXRACE    COMBINED GENDER BY RACE INDICATOR\n",
      "EDUCCAT2        int     %46.0f     EDUCCAT2   EDUCATION RECODE\n",
      "HEALTH2         int     %22.0f     HEALTH2    OVERALL HEALTH RECODE\n",
      "JBSTATR2        int     %49.0f     JBSTATR2   WORK SITUATION IN PAST WEEK - RECODE\n",
      "WRKHAVJB        int     %21.0f     WRKHAVJB   DID YOU HAVE A JOB OR BUSINESS\n",
      "WRKHRSW2        int     %17.0f     WRKHRSW2   HOW MANY HOURS WORKED LAST WEEK\n",
      "WRKIDST2        int     %49.0f     WRKIDST2   TYPE OF BUSINESS OR INDUSTRY\n",
      "WRKOCUP2        int     %48.0f     WRKOCUP2   KIND OF WORK/JOB TITLE PRIMARY JOB\n",
      "WRKBZCA2        int     %45.0f     WRKBZCA2   CATEG THAT BEST DESCR BUSINESS YOU WORK IN\n",
      "WRKEDYR         int     %17.0f     WRKEDYR    PAST 12 MOS, WORKED AT ANY JOB\n",
      "WRKSLFEM        int     %42.0f     WRKSLFEM   PAST 12 MOS, SELF EMPLOYED\n",
      "WRKJOBS2        int     %17.0f     WRKJOBS2   PAST 12 MOS, HOW MANY EMPLOYERS\n",
      "WRKUNEMP        int     %17.0f     WRKUNEMP   PAST 12 MOS, TIME WITH NO JOB\n",
      "WRKUNWKS        int     %27.0f     WRKUNWKS   HOW MANY WKS W/O JOB IN PAST 12 MOS\n",
      "WRKLSTY2        int     %33.0f     WRKLSTY2   WHAT YEAR LAST WORKED\n",
      "WRKIDSY2        int     %49.0f     WRKIDSY2   TYPE OF BUSINESS OR INDUSTRY\n",
      "WRKOCUY2        int     %48.0f     WRKOCUY2   KIND OF WORK/JOB TITLE PRIMARY JOB\n",
      "WRKBZCY2        int     %45.0f     WRKBZCY2   CATEG THAT BEST DESCR BUSINESS YOU WORKED\n",
      "WORKDAYS        int     %27.0f     WORKDAYS   # DAYS MISSED WORK FOR INJURY/ILLNESS PAST 30 DAYS\n",
      "WORKBLAH        int     %27.0f     WORKBLAH   # DAYS SKIPPED WORK PAST 30 DAYS\n",
      "LOCSIZE         int     %19.0f     LOCSIZE    # PEOPLE THAT WORK FOR EMPLOYER - RESP'S LOCATION\n"
     ]
    },
    {
     "name": "stdout",
     "output_type": "stream",
     "text": [
      "DRGPLCY         int     %17.0f     DRGPLCY    WORKPLACE HAVE WRITTEN POLICY DRUG/ALCOHOL USE\n",
      "PLCYCOV         int     %22.0f     PLCYCOV    DID POLICY COVER ALCOHOL, DRUGS, OR BOTH\n",
      "WKDRGED         int     %17.0f     WKDRGED    AT WORK, GIVEN EDUCATION ON DRUGS/ALC\n",
      "DRGPRGM         int     %17.0f     DRGPRGM    ANY ASSISTANCE PROGRAM OFFERED THROUGH WRK\n",
      "USALCTST        int     %17.0f     USALCTST   WORKPLACE TESTS FOR ALCOHOL USAGE\n",
      "USDRGTST        int     %17.0f     USDRGTST   WORKPLACE TESTS FOR DRUG USAGE\n",
      "TSTHIRE         int     %17.0f     TSTHIRE    TEST FOR DRUG/ALC AS HIRING PROCESS\n",
      "TSTRAND         int     %17.0f     TSTRAND    TEST ON RANDOM BASIS\n",
      "FIRSTPOS        int     %48.0f     FIRSTPOS   WHAT HAPPENS FIRST TIME CAUGHT\n",
      "WRKHIRE         int     %34.0f     WRKHIRE    WOULD YOU WORK FOR EMP DOES DRUG TEST PRE-HIRE\n",
      "WORKRAND        int     %24.0f     WORKRAND   WOULD YOU WORK FOR EMP DOES DRUG/ALC TEST RANDOMLY\n",
      "EMPSTATY        int     %32.0f     EMPSTATY   IMPUTATION REVISED EMPLOYMENT STATUS\n",
      "IIEMPSTY        int     %36.0f     IIEMPSTY   IMPUTATION INDICATOR EMPLOYMENT STATUS\n",
      "II2EMSTY        int     %50.0f     II2EMSTY   IMPUTATION INDICATOR EMPLOYMENT STATUS (DETAILS)\n",
      "EMPSTAT4        int     %32.0f     EMPSTAT4   IMPUTATION REVISED EMPLOYMENT STATUS 18+\n",
      "IIEMPST4        int     %36.0f     IIEMPST4   IMPUTATION INDICATOR EMPLOYMENT STATUS 18+\n",
      "II2EMST4        int     %50.0f     II2EMST4   IMP. IND. EMPLOYMENT STATUS 18+ (DETAILS)\n",
      "COUTYP2         int     %11.0f     COUTYP2    COUNTY METRO/NONMETRO STATUS (3-LEVEL)\n",
      "ANALWT_C        double  %15.9f                FIN PRSN-LEVEL SMPLE WGHT\n",
      "VESTR           long    %5.0f                 ANALYSIS STRATUM\n",
      "VEREP           int     %1.0f                 ANALYSIS REPLICATE\n",
      "YEAR            float   %9.0g                 \n",
      "ANLLTSC         int     %50.0g     ANLLTSC    SOURCE OF PAIN RELIEVERS FOR LAST NONMED USE\n",
      "ANLSRCFR        int     %50.0g     ANLSRCFR   SOURCE OF FRIEND OR RELATIVE'S PAIN RELIEVERS\n",
      "TRNSRCFR        int     %43.0g     TRNSRCFR   SOURCE OF FRIEND OR RELATIVE'S TRANQUILIZERS\n",
      "STMSRCFR        int     %50.0g     STMSRCFR   SOURCE OF FRIEND OR RELATIVE'S STIMULANTS\n",
      "SEDSRCFR        int     %50.0g     SEDSRCFR   SOURCE OF FRIEND OR RELATIVE'S SEDATIVES\n",
      "MTHSRCFR        int     %43.0g     MTHSRCFR   SOURCE OF FRIEND OR RELATIVE'S METHAMPHETAMINES\n",
      "IRPINSUR        int     %50.0g     IRPINSUR   IMPUTATION-REVISED PRIVATE HEALTH INSURANCE\n",
      "IIPINSUR        int     %26.0g     IIPINSUR   IRPINSUR IMPUTATION INDICATOR\n",
      "IRINSUR         int     %45.0g     IRINSUR    IMPUTATION-REVISED HEALTH INSURANCE\n",
      "IIINSUR         int     %26.0g     IIINSUR    IRINSUR IMPUTATION INDICATOR\n",
      "IRINSUR3        int     %45.0g     IRINSUR3   IMPUTATION-REVISED HEALTH INSURANCE\n",
      "IIINSUR3        int     %26.0g     IIINSUR3   IRINSUR3 IMPUTATION INDICATOR\n",
      "AWTC10_C        double  %10.0g                ANALWT POSTSTRATIFIED TO 2010 CENSUS TOTALS\n",
      "EDUCATHP        int     %44.0g     EDUCATHP   EDUCATION RECODE FOR HEALTHY PEOPLE\n",
      "MHLMNT2         int     %49.0g     MHLMNT2    RCVD OUTP MH TRT AT MH CLINIC/CENTER IN PST YR\n",
      "MHLTHER2        int     %49.0g     MHLTHER2   RCVD OUTP MH TRT AT PRIV THERAPIST OFC IN PST YR\n",
      "MHLDOC2         int     %49.0g     MHLDOC2    RCVD OUTP MH TRT AT NON CLINIC DR OFFCE IN PST YR\n",
      "MHLCLNC2        int     %49.0g     MHLCLNC2   RCVD OUTP MH TRT AT MEDICAL CLINIC IN PST YR\n",
      "MHLDTMT2        int     %49.0g     MHLDTMT2   RCVD OUTP MH TRT AT DAY HOSP OR TRT PGM IN PST YR\n",
      "MHLSCHL2        int     %29.0g     MHLSCHL2   RCVD OUTP MH TRT AT A SCHOOL SETTING IN PST YR\n",
      "MHLOTH2         int     %29.0g     MHLOTH2    RCVD OUTP MH TRT AT SOME OTHER PLACE IN PST YR\n",
      "MHSAWT_C        double  %10.0g                MENTAL HEALTH ADULT SPLIT SAMPLE WEIGHT\n",
      "---------------------------------------------------------------------------------------------------------------------------------------------------------------------------------------------------------------------------------------------------------------\n",
      "Sorted by: \n"
     ]
    }
   ],
   "source": [
    "de"
   ]
  },
  {
   "cell_type": "code",
   "execution_count": 4,
   "metadata": {},
   "outputs": [],
   "source": [
    "// DEMOGRAPHICS "
   ]
  },
  {
   "cell_type": "code",
   "execution_count": 5,
   "metadata": {},
   "outputs": [],
   "source": [
    "gen female = 0"
   ]
  },
  {
   "cell_type": "code",
   "execution_count": 6,
   "metadata": {},
   "outputs": [
    {
     "name": "stdout",
     "output_type": "stream",
     "text": [
      "(203,774 real changes made)\n"
     ]
    }
   ],
   "source": [
    "replace female = 1 if IRSEX == 2"
   ]
  },
  {
   "cell_type": "code",
   "execution_count": 7,
   "metadata": {},
   "outputs": [],
   "source": [
    "gen male = 0 "
   ]
  },
  {
   "cell_type": "code",
   "execution_count": 8,
   "metadata": {},
   "outputs": [
    {
     "name": "stdout",
     "output_type": "stream",
     "text": [
      "(187,979 real changes made)\n"
     ]
    }
   ],
   "source": [
    "replace male = 1 if IRSEX == 1"
   ]
  },
  {
   "cell_type": "code",
   "execution_count": 9,
   "metadata": {},
   "outputs": [],
   "source": [
    "* EDUCATION "
   ]
  },
  {
   "cell_type": "code",
   "execution_count": 10,
   "metadata": {},
   "outputs": [],
   "source": [
    "gen educ_less_highschool = 0"
   ]
  },
  {
   "cell_type": "code",
   "execution_count": 11,
   "metadata": {},
   "outputs": [
    {
     "name": "stdout",
     "output_type": "stream",
     "text": [
      "(42,875 real changes made)\n"
     ]
    }
   ],
   "source": [
    "replace educ_less_highschool = 1 if EDUCCAT2 == 1"
   ]
  },
  {
   "cell_type": "code",
   "execution_count": 12,
   "metadata": {},
   "outputs": [
    {
     "name": "stdout",
     "output_type": "stream",
     "text": [
      "(121,526 real changes made, 121,526 to missing)\n"
     ]
    }
   ],
   "source": [
    "replace educ_less_highschool = . if EDUCCAT2 == 5"
   ]
  },
  {
   "cell_type": "code",
   "execution_count": 13,
   "metadata": {},
   "outputs": [],
   "source": [
    "gen educ_highschool_grad = 0 "
   ]
  },
  {
   "cell_type": "code",
   "execution_count": 14,
   "metadata": {},
   "outputs": [
    {
     "name": "stdout",
     "output_type": "stream",
     "text": [
      "(86,881 real changes made)\n"
     ]
    }
   ],
   "source": [
    "replace educ_highschool_grad = 1 if EDUCCAT2 == 2"
   ]
  },
  {
   "cell_type": "code",
   "execution_count": 15,
   "metadata": {},
   "outputs": [
    {
     "name": "stdout",
     "output_type": "stream",
     "text": [
      "(121,526 real changes made, 121,526 to missing)\n"
     ]
    }
   ],
   "source": [
    "replace educ_highschool_grad = . if EDUCCAT2 == 5"
   ]
  },
  {
   "cell_type": "code",
   "execution_count": 16,
   "metadata": {},
   "outputs": [],
   "source": [
    "gen educ_some_college = 0 "
   ]
  },
  {
   "cell_type": "code",
   "execution_count": 17,
   "metadata": {},
   "outputs": [
    {
     "name": "stdout",
     "output_type": "stream",
     "text": [
      "(79,270 real changes made)\n"
     ]
    }
   ],
   "source": [
    "replace educ_some_college = 1 if EDUCCAT2 == 3"
   ]
  },
  {
   "cell_type": "code",
   "execution_count": 18,
   "metadata": {},
   "outputs": [
    {
     "name": "stdout",
     "output_type": "stream",
     "text": [
      "(121,526 real changes made, 121,526 to missing)\n"
     ]
    }
   ],
   "source": [
    "replace educ_some_college = . if EDUCCAT2 == 5"
   ]
  },
  {
   "cell_type": "code",
   "execution_count": 19,
   "metadata": {},
   "outputs": [],
   "source": [
    "gen educ_college_grad = 0 "
   ]
  },
  {
   "cell_type": "code",
   "execution_count": 20,
   "metadata": {},
   "outputs": [
    {
     "name": "stdout",
     "output_type": "stream",
     "text": [
      "(61,201 real changes made)\n"
     ]
    }
   ],
   "source": [
    "replace educ_college_grad = 1 if EDUCCAT2 == 4 "
   ]
  },
  {
   "cell_type": "code",
   "execution_count": 21,
   "metadata": {},
   "outputs": [
    {
     "name": "stdout",
     "output_type": "stream",
     "text": [
      "(121,526 real changes made, 121,526 to missing)\n"
     ]
    }
   ],
   "source": [
    "replace educ_college_grad = . if EDUCCAT2 == 5"
   ]
  },
  {
   "cell_type": "code",
   "execution_count": 22,
   "metadata": {},
   "outputs": [],
   "source": [
    "* RACE"
   ]
  },
  {
   "cell_type": "code",
   "execution_count": 23,
   "metadata": {},
   "outputs": [],
   "source": [
    "gen hispanic = 0 "
   ]
  },
  {
   "cell_type": "code",
   "execution_count": 24,
   "metadata": {},
   "outputs": [
    {
     "name": "stdout",
     "output_type": "stream",
     "text": [
      "(65,857 real changes made)\n"
     ]
    }
   ],
   "source": [
    "replace hispanic = 1 if NEWRACE2 == 7"
   ]
  },
  {
   "cell_type": "code",
   "execution_count": 25,
   "metadata": {},
   "outputs": [],
   "source": [
    "gen black = 0 "
   ]
  },
  {
   "cell_type": "code",
   "execution_count": 26,
   "metadata": {},
   "outputs": [
    {
     "name": "stdout",
     "output_type": "stream",
     "text": [
      "(50,174 real changes made)\n"
     ]
    }
   ],
   "source": [
    "replace black = 1 if NEWRACE2 == 2"
   ]
  },
  {
   "cell_type": "code",
   "execution_count": 27,
   "metadata": {},
   "outputs": [],
   "source": [
    "gen white = 0 "
   ]
  },
  {
   "cell_type": "code",
   "execution_count": 28,
   "metadata": {},
   "outputs": [
    {
     "name": "stdout",
     "output_type": "stream",
     "text": [
      "(239,418 real changes made)\n"
     ]
    }
   ],
   "source": [
    "replace white = 1 if NEWRACE2 == 1"
   ]
  },
  {
   "cell_type": "code",
   "execution_count": 29,
   "metadata": {},
   "outputs": [],
   "source": [
    "gen other_race = 0 "
   ]
  },
  {
   "cell_type": "code",
   "execution_count": 30,
   "metadata": {},
   "outputs": [
    {
     "name": "stdout",
     "output_type": "stream",
     "text": [
      "(36,304 real changes made)\n"
     ]
    }
   ],
   "source": [
    "replace other_race = 1 if (NEWRACE2 == 4| NEWRACE2 == 6| NEWRACE2 == 5| NEWRACE2 == 3)"
   ]
  },
  {
   "cell_type": "code",
   "execution_count": 31,
   "metadata": {},
   "outputs": [],
   "source": [
    "* MARITAL STATUS "
   ]
  },
  {
   "cell_type": "code",
   "execution_count": 32,
   "metadata": {},
   "outputs": [],
   "source": [
    "gen married = 0 "
   ]
  },
  {
   "cell_type": "code",
   "execution_count": 33,
   "metadata": {},
   "outputs": [
    {
     "name": "stdout",
     "output_type": "stream",
     "text": [
      "(98,239 real changes made)\n"
     ]
    }
   ],
   "source": [
    "replace married = 1 if IRMARIT == 1"
   ]
  },
  {
   "cell_type": "code",
   "execution_count": 34,
   "metadata": {},
   "outputs": [],
   "source": [
    "* HEALTH STATUS "
   ]
  },
  {
   "cell_type": "code",
   "execution_count": 35,
   "metadata": {},
   "outputs": [],
   "source": [
    "gen excellent_health = 0 "
   ]
  },
  {
   "cell_type": "code",
   "execution_count": 36,
   "metadata": {},
   "outputs": [
    {
     "name": "stdout",
     "output_type": "stream",
     "text": [
      "(107,895 real changes made)\n"
     ]
    }
   ],
   "source": [
    "replace excellent_health = 1 if HEALTH2 == 1"
   ]
  },
  {
   "cell_type": "code",
   "execution_count": 37,
   "metadata": {},
   "outputs": [
    {
     "name": "stdout",
     "output_type": "stream",
     "text": [
      "(76 real changes made, 76 to missing)\n"
     ]
    }
   ],
   "source": [
    "replace excellent_health = . if HEALTH2 == -9 "
   ]
  },
  {
   "cell_type": "code",
   "execution_count": 38,
   "metadata": {},
   "outputs": [],
   "source": [
    "gen good_health = 0 "
   ]
  },
  {
   "cell_type": "code",
   "execution_count": 39,
   "metadata": {},
   "outputs": [
    {
     "name": "stdout",
     "output_type": "stream",
     "text": [
      "(252,037 real changes made)\n"
     ]
    }
   ],
   "source": [
    "replace good_health = 1 if (HEALTH2 == 2| HEALTH2 == 3)"
   ]
  },
  {
   "cell_type": "code",
   "execution_count": 40,
   "metadata": {},
   "outputs": [
    {
     "name": "stdout",
     "output_type": "stream",
     "text": [
      "(76 real changes made, 76 to missing)\n"
     ]
    }
   ],
   "source": [
    "replace good_health = . if HEALTH2 == -9"
   ]
  },
  {
   "cell_type": "code",
   "execution_count": 41,
   "metadata": {},
   "outputs": [],
   "source": [
    "gen poor_health = 0 "
   ]
  },
  {
   "cell_type": "code",
   "execution_count": 42,
   "metadata": {},
   "outputs": [
    {
     "name": "stdout",
     "output_type": "stream",
     "text": [
      "(31,745 real changes made)\n"
     ]
    }
   ],
   "source": [
    "replace poor_health = 1 if HEALTH2 == 4"
   ]
  },
  {
   "cell_type": "code",
   "execution_count": 43,
   "metadata": {},
   "outputs": [
    {
     "name": "stdout",
     "output_type": "stream",
     "text": [
      "(76 real changes made, 76 to missing)\n"
     ]
    }
   ],
   "source": [
    "replace poor_health = . if HEALTH2 == -9"
   ]
  },
  {
   "cell_type": "code",
   "execution_count": 44,
   "metadata": {},
   "outputs": [],
   "source": [
    "* Total family income "
   ]
  },
  {
   "cell_type": "code",
   "execution_count": 45,
   "metadata": {},
   "outputs": [],
   "source": [
    "gen income_less_20k = 0 "
   ]
  },
  {
   "cell_type": "code",
   "execution_count": 46,
   "metadata": {},
   "outputs": [
    {
     "name": "stdout",
     "output_type": "stream",
     "text": [
      "(89,454 real changes made)\n"
     ]
    }
   ],
   "source": [
    "replace income_less_20k =1 if INCOME == 1 "
   ]
  },
  {
   "cell_type": "code",
   "execution_count": 47,
   "metadata": {},
   "outputs": [],
   "source": [
    "gen income_20k_49k = 0 "
   ]
  },
  {
   "cell_type": "code",
   "execution_count": 48,
   "metadata": {},
   "outputs": [
    {
     "name": "stdout",
     "output_type": "stream",
     "text": [
      "(129,710 real changes made)\n"
     ]
    }
   ],
   "source": [
    "replace income_20k_49k = 1 if INCOME == 2 "
   ]
  },
  {
   "cell_type": "code",
   "execution_count": 49,
   "metadata": {},
   "outputs": [],
   "source": [
    "gen income_50k_74k = 0 "
   ]
  },
  {
   "cell_type": "code",
   "execution_count": 50,
   "metadata": {},
   "outputs": [
    {
     "name": "stdout",
     "output_type": "stream",
     "text": [
      "(64,566 real changes made)\n"
     ]
    }
   ],
   "source": [
    "replace income_50k_74k = 1 if INCOME == 3 "
   ]
  },
  {
   "cell_type": "code",
   "execution_count": 51,
   "metadata": {},
   "outputs": [],
   "source": [
    "gen income_75k_plus = 0 "
   ]
  },
  {
   "cell_type": "code",
   "execution_count": 52,
   "metadata": {},
   "outputs": [
    {
     "name": "stdout",
     "output_type": "stream",
     "text": [
      "(108,023 real changes made)\n"
     ]
    }
   ],
   "source": [
    "replace income_75k_plus = 1 if INCOME == 4 "
   ]
  },
  {
   "cell_type": "code",
   "execution_count": 53,
   "metadata": {},
   "outputs": [],
   "source": [
    "* residence"
   ]
  },
  {
   "cell_type": "code",
   "execution_count": 54,
   "metadata": {},
   "outputs": [],
   "source": [
    "gen metropolitan_area = 0 "
   ]
  },
  {
   "cell_type": "code",
   "execution_count": 55,
   "metadata": {},
   "outputs": [
    {
     "name": "stdout",
     "output_type": "stream",
     "text": [
      "(308,497 real changes made)\n"
     ]
    }
   ],
   "source": [
    "replace metropolitan_area = 1 if (COUTYP2 == 1 | COUTYP2 == 2)"
   ]
  },
  {
   "cell_type": "code",
   "execution_count": 56,
   "metadata": {},
   "outputs": [],
   "source": [
    "gen rural_area = 0 "
   ]
  },
  {
   "cell_type": "code",
   "execution_count": 57,
   "metadata": {},
   "outputs": [
    {
     "name": "stdout",
     "output_type": "stream",
     "text": [
      "(83,256 real changes made)\n"
     ]
    }
   ],
   "source": [
    "replace rural_area = 1 if COUTYP2 == 3"
   ]
  },
  {
   "cell_type": "code",
   "execution_count": 58,
   "metadata": {},
   "outputs": [],
   "source": [
    "// Summary statistics of the demographics "
   ]
  },
  {
   "cell_type": "code",
   "execution_count": 59,
   "metadata": {},
   "outputs": [
    {
     "name": "stdout",
     "output_type": "stream",
     "text": [
      "\n",
      "    Variable |        Obs        Mean    Std. Dev.       Min        Max\n",
      "-------------+---------------------------------------------------------\n",
      "        male |    391,753    .4798406    .4995941          0          1\n",
      "      female |    391,753    .5201594    .4995941          0          1\n",
      "educ_less_~l |    270,227    .1586629    .3653621          0          1\n",
      "educ_highs~d |    270,227    .3215112    .4670573          0          1\n",
      "educ_some_~e |    270,227     .293346    .4552965          0          1\n",
      "-------------+---------------------------------------------------------\n",
      "educ_some_~e |    270,227     .293346    .4552965          0          1\n",
      "    hispanic |    391,753    .1681085    .3739631          0          1\n",
      "       black |    391,753    .1280756    .3341744          0          1\n",
      "  other_race |    391,753    .0926706    .2899707          0          1\n",
      "     married |    391,753    .2507677    .4334556          0          1\n",
      "-------------+---------------------------------------------------------\n",
      "income_l~20k |    391,753    .2283429    .4197652          0          1\n",
      "income_2~49k |    391,753    .3311015    .4706101          0          1\n",
      "income_5~74k |    391,753     .164813    .3710122          0          1\n",
      "income_75k~s |    391,753    .2757426    .4468883          0          1\n",
      "metropolit~a |    391,753    .7874783    .4090925          0          1\n",
      "-------------+---------------------------------------------------------\n",
      "  rural_area |    391,753    .2125217    .4090925          0          1\n"
     ]
    }
   ],
   "source": [
    "sum male female educ_less_highschool educ_highschool_grad educ_some_college educ_some_college hispanic black other_race married income_less_20k income_20k_49k income_50k_74k income_75k_plus metropolitan_area rural_area "
   ]
  },
  {
   "cell_type": "code",
   "execution_count": 60,
   "metadata": {},
   "outputs": [],
   "source": [
    " // DIFFERENCE-IN-DIFFERENCE "
   ]
  },
  {
   "cell_type": "code",
   "execution_count": 61,
   "metadata": {},
   "outputs": [
    {
     "name": "stdout",
     "output_type": "stream",
     "text": [
      "\n",
      "              RECODE - FINAL EDITED AGE |      Freq.     Percent        Cum.\n",
      "----------------------------------------+-----------------------------------\n",
      "             Respondent is 12 years old |     18,547        4.73        4.73\n",
      "             Respondent is 13 years old |     19,724        5.03        9.77\n",
      "             Respondent is 14 years old |     20,069        5.12       14.89\n",
      "             Respondent is 15 years old |     20,830        5.32       20.21\n",
      "             Respondent is 16 years old |     21,351        5.45       25.66\n",
      "             Respondent is 17 years old |     21,005        5.36       31.02\n",
      "             Respondent is 18 years old |     17,237        4.40       35.42\n",
      "             Respondent is 19 years old |     15,679        4.00       39.42\n",
      "             Respondent is 20 years old |     15,544        3.97       43.39\n",
      "             Respondent is 21 years old |     15,662        4.00       47.39\n",
      "       Respondent is 22 or 23 years old |     31,008        7.92       55.30\n",
      "       Respondent is 24 or 25 years old |     30,604        7.81       63.12\n",
      "Respondent is between 26 and 29 years o |     19,849        5.07       68.18\n",
      "Respondent is between 30 and 34 years o |     22,135        5.65       73.83\n",
      "Respondent is between 35 and 49 years o |     57,659       14.72       88.55\n",
      "Respondent is between 50 and 64 years o |     27,674        7.06       95.62\n",
      "    Respondent is 65 years old or older |     17,176        4.38      100.00\n",
      "----------------------------------------+-----------------------------------\n",
      "                                  Total |    391,753      100.00\n"
     ]
    }
   ],
   "source": [
    "tab AGE2"
   ]
  },
  {
   "cell_type": "code",
   "execution_count": 62,
   "metadata": {},
   "outputs": [
    {
     "name": "stdout",
     "output_type": "stream",
     "text": [
      "(185,648 observations deleted)\n"
     ]
    }
   ],
   "source": [
    "drop if AGE2 <=10"
   ]
  },
  {
   "cell_type": "code",
   "execution_count": 63,
   "metadata": {},
   "outputs": [
    {
     "name": "stdout",
     "output_type": "stream",
     "text": [
      "(124,644 observations deleted)\n"
     ]
    }
   ],
   "source": [
    "drop if AGE2 >=14"
   ]
  },
  {
   "cell_type": "code",
   "execution_count": 64,
   "metadata": {},
   "outputs": [],
   "source": [
    "gen treat22_25yr = 0"
   ]
  },
  {
   "cell_type": "code",
   "execution_count": 65,
   "metadata": {},
   "outputs": [
    {
     "name": "stdout",
     "output_type": "stream",
     "text": [
      "(61,612 real changes made)\n"
     ]
    }
   ],
   "source": [
    "replace treat22_25yr = 1 if (AGE2 == 11 |AGE2==12)"
   ]
  },
  {
   "cell_type": "code",
   "execution_count": 66,
   "metadata": {},
   "outputs": [],
   "source": [
    "label define _treated 0\"control\" 1\"Treated\""
   ]
  },
  {
   "cell_type": "code",
   "execution_count": 67,
   "metadata": {},
   "outputs": [],
   "source": [
    "label values treat22_25yr _treated"
   ]
  },
  {
   "cell_type": "code",
   "execution_count": 68,
   "metadata": {},
   "outputs": [
    {
     "name": "stdout",
     "output_type": "stream",
     "text": [
      "\n",
      "treat22_25y |\n",
      "          r |      Freq.     Percent        Cum.\n",
      "------------+-----------------------------------\n",
      "    control |     19,849       24.37       24.37\n",
      "    Treated |     61,612       75.63      100.00\n",
      "------------+-----------------------------------\n",
      "      Total |     81,461      100.00\n"
     ]
    }
   ],
   "source": [
    "tab treat22_25yr"
   ]
  },
  {
   "cell_type": "code",
   "execution_count": 69,
   "metadata": {},
   "outputs": [],
   "source": [
    "gen post_expansion = 0 "
   ]
  },
  {
   "cell_type": "code",
   "execution_count": 70,
   "metadata": {},
   "outputs": [
    {
     "name": "stdout",
     "output_type": "stream",
     "text": [
      "(46,093 real changes made)\n"
     ]
    }
   ],
   "source": [
    "replace post_expansion = 1 if (YEAR == 2011| YEAR == 2012| YEAR == 2013 | YEAR == 2014)"
   ]
  },
  {
   "cell_type": "code",
   "execution_count": 71,
   "metadata": {},
   "outputs": [],
   "source": [
    "label define _post 0\"pre-expansion\" 1\"post-expansion\" "
   ]
  },
  {
   "cell_type": "code",
   "execution_count": 72,
   "metadata": {},
   "outputs": [],
   "source": [
    "label values post_expansion _post"
   ]
  },
  {
   "cell_type": "code",
   "execution_count": 73,
   "metadata": {},
   "outputs": [
    {
     "name": "stdout",
     "output_type": "stream",
     "text": [
      "\n",
      "post_expansion |      Freq.     Percent        Cum.\n",
      "---------------+-----------------------------------\n",
      " pre-expansion |     35,368       43.42       43.42\n",
      "post-expansion |     46,093       56.58      100.00\n",
      "---------------+-----------------------------------\n",
      "         Total |     81,461      100.00\n"
     ]
    }
   ],
   "source": [
    "tab post_expansion "
   ]
  },
  {
   "cell_type": "code",
   "execution_count": 74,
   "metadata": {},
   "outputs": [],
   "source": [
    "gen DD = treat22_25yr*post_expansion "
   ]
  },
  {
   "cell_type": "code",
   "execution_count": 75,
   "metadata": {},
   "outputs": [],
   "source": [
    "egen clustvar = group(AGE2 YEAR)"
   ]
  },
  {
   "cell_type": "code",
   "execution_count": 76,
   "metadata": {},
   "outputs": [],
   "source": [
    "// HEALTH INSURANCE STATUS "
   ]
  },
  {
   "cell_type": "code",
   "execution_count": 77,
   "metadata": {},
   "outputs": [],
   "source": [
    "gen medicaid_insurance = 0 "
   ]
  },
  {
   "cell_type": "code",
   "execution_count": 78,
   "metadata": {},
   "outputs": [
    {
     "name": "stdout",
     "output_type": "stream",
     "text": [
      "(11,948 real changes made)\n"
     ]
    }
   ],
   "source": [
    "replace medicaid_insurance = 1 if CAIDCHIP == 1 "
   ]
  },
  {
   "cell_type": "code",
   "execution_count": 79,
   "metadata": {},
   "outputs": [
    {
     "name": "stdout",
     "output_type": "stream",
     "text": [
      "(294 real changes made, 294 to missing)\n"
     ]
    }
   ],
   "source": [
    "replace medicaid_insurance = . if (CAIDCHIP == 85| CAIDCHIP == 94 | CAIDCHIP == 97| CAIDCHIP == 98)"
   ]
  },
  {
   "cell_type": "code",
   "execution_count": 80,
   "metadata": {},
   "outputs": [],
   "source": [
    "gen champus_insurance = 0 "
   ]
  },
  {
   "cell_type": "code",
   "execution_count": 81,
   "metadata": {},
   "outputs": [
    {
     "name": "stdout",
     "output_type": "stream",
     "text": [
      "(2,235 real changes made)\n"
     ]
    }
   ],
   "source": [
    "replace champus_insurance = 1 if CHAMPUS == 1 "
   ]
  },
  {
   "cell_type": "code",
   "execution_count": 82,
   "metadata": {},
   "outputs": [
    {
     "name": "stdout",
     "output_type": "stream",
     "text": [
      "(157 real changes made, 157 to missing)\n"
     ]
    }
   ],
   "source": [
    "replace champus_insurance = . if (CHAMPUS == 85| CHAMPUS ==94 |CHAMPUS == 97| CHAMPUS == 98)"
   ]
  },
  {
   "cell_type": "code",
   "execution_count": 83,
   "metadata": {},
   "outputs": [],
   "source": [
    "gen private_insurance = 0 "
   ]
  },
  {
   "cell_type": "code",
   "execution_count": 84,
   "metadata": {},
   "outputs": [
    {
     "name": "stdout",
     "output_type": "stream",
     "text": [
      "(43,780 real changes made)\n"
     ]
    }
   ],
   "source": [
    "replace private_insurance = 1 if PRVHLTIN == 1 "
   ]
  },
  {
   "cell_type": "code",
   "execution_count": 85,
   "metadata": {},
   "outputs": [
    {
     "name": "stdout",
     "output_type": "stream",
     "text": [
      "(274 real changes made, 274 to missing)\n"
     ]
    }
   ],
   "source": [
    "replace private_insurance = . if (PRVHLTIN ==85| PRVHLTIN ==94 | PRVHLTIN == 97| PRVHLTIN ==98)"
   ]
  },
  {
   "cell_type": "code",
   "execution_count": 86,
   "metadata": {},
   "outputs": [],
   "source": [
    "gen other_insurance = 0 "
   ]
  },
  {
   "cell_type": "code",
   "execution_count": 87,
   "metadata": {},
   "outputs": [
    {
     "name": "stdout",
     "output_type": "stream",
     "text": [
      "(2,825 real changes made)\n"
     ]
    }
   ],
   "source": [
    "replace other_insurance = 1 if HLTINNOS == 1 "
   ]
  },
  {
   "cell_type": "code",
   "execution_count": 88,
   "metadata": {},
   "outputs": [
    {
     "name": "stdout",
     "output_type": "stream",
     "text": [
      "(56,937 real changes made, 56,937 to missing)\n"
     ]
    }
   ],
   "source": [
    "replace other_insurance = . if (HLTINNOS == 94| HLTINNOS == 97| HLTINNOS==98| HLTINNOS==99)"
   ]
  },
  {
   "cell_type": "code",
   "execution_count": 89,
   "metadata": {},
   "outputs": [],
   "source": [
    "gen any_insurance = 0 "
   ]
  },
  {
   "cell_type": "code",
   "execution_count": 90,
   "metadata": {},
   "outputs": [
    {
     "name": "stdout",
     "output_type": "stream",
     "text": [
      "(59,367 real changes made)\n"
     ]
    }
   ],
   "source": [
    "replace any_insurance = 1 if ANYHLTI2 ==1 "
   ]
  },
  {
   "cell_type": "code",
   "execution_count": 91,
   "metadata": {},
   "outputs": [
    {
     "name": "stdout",
     "output_type": "stream",
     "text": [
      "(395 real changes made, 395 to missing)\n"
     ]
    }
   ],
   "source": [
    "replace any_insurance = . if (ANYHLTI2 == 94| ANYHLTI2== 97| ANYHLTI2 == 98)"
   ]
  },
  {
   "cell_type": "code",
   "execution_count": 92,
   "metadata": {},
   "outputs": [],
   "source": [
    "gen uninsured = 0 "
   ]
  },
  {
   "cell_type": "code",
   "execution_count": 93,
   "metadata": {},
   "outputs": [
    {
     "name": "stdout",
     "output_type": "stream",
     "text": [
      "(21,699 real changes made)\n"
     ]
    }
   ],
   "source": [
    "replace uninsured  = 1 if ANYHLTI2 == 2"
   ]
  },
  {
   "cell_type": "code",
   "execution_count": 94,
   "metadata": {},
   "outputs": [
    {
     "name": "stdout",
     "output_type": "stream",
     "text": [
      "(395 real changes made, 395 to missing)\n"
     ]
    }
   ],
   "source": [
    "replace uninsured = . if (ANYHLTI2 == 94 | ANYHLTI2 == 97| ANYHLTI2 == 98)"
   ]
  },
  {
   "cell_type": "code",
   "execution_count": 95,
   "metadata": {},
   "outputs": [],
   "source": [
    "// OPIOID NON-MEDICAL USE "
   ]
  },
  {
   "cell_type": "code",
   "execution_count": 96,
   "metadata": {},
   "outputs": [],
   "source": [
    "// note: opioid misuse is defined as 1 if ever misused pain relievers and last time used was within 30 days and more than 30 days but less than a year respectively "
   ]
  },
  {
   "cell_type": "code",
   "execution_count": 97,
   "metadata": {},
   "outputs": [],
   "source": [
    "gen painreliever_misuse_12m = 0 "
   ]
  },
  {
   "cell_type": "code",
   "execution_count": 98,
   "metadata": {},
   "outputs": [
    {
     "name": "stdout",
     "output_type": "stream",
     "text": [
      "(2,930 real changes made)\n"
     ]
    }
   ],
   "source": [
    "replace painreliever_misuse_12m = 1 if (ANLEVER == 1 & ANALREC == 1)"
   ]
  },
  {
   "cell_type": "code",
   "execution_count": 99,
   "metadata": {},
   "outputs": [
    {
     "name": "stdout",
     "output_type": "stream",
     "text": [
      "(4,462 real changes made)\n"
     ]
    }
   ],
   "source": [
    "replace painreliever_misuse_12m = 1 if (ANLEVER == 1 & ANALREC == 2)"
   ]
  },
  {
   "cell_type": "code",
   "execution_count": 100,
   "metadata": {},
   "outputs": [
    {
     "name": "stdout",
     "output_type": "stream",
     "text": [
      "(83 real changes made)\n"
     ]
    }
   ],
   "source": [
    "replace painreliever_misuse_12m = 1 if (ANLEVER == 1 & ANALREC == 8)"
   ]
  },
  {
   "cell_type": "code",
   "execution_count": 101,
   "metadata": {},
   "outputs": [
    {
     "name": "stdout",
     "output_type": "stream",
     "text": [
      "(103 real changes made, 103 to missing)\n"
     ]
    }
   ],
   "source": [
    "replace painreliever_misuse_12m = . if (ANLEVER == 97 | ANLEVER == 98| ANALREC ==85| ANALREC == 97 | ANALREC == 98)"
   ]
  },
  {
   "cell_type": "code",
   "execution_count": 102,
   "metadata": {},
   "outputs": [],
   "source": [
    "gen painreliever_30d = 0 "
   ]
  },
  {
   "cell_type": "code",
   "execution_count": 103,
   "metadata": {},
   "outputs": [
    {
     "name": "stdout",
     "output_type": "stream",
     "text": [
      "(3,026 real changes made)\n"
     ]
    }
   ],
   "source": [
    "replace painreliever_30d = 1 if (ANLFLAG == 1 & ANLMON ==1)"
   ]
  },
  {
   "cell_type": "code",
   "execution_count": 104,
   "metadata": {},
   "outputs": [],
   "source": [
    "// SUBSTANCE DEPENDENDENCE AND ABUSE "
   ]
  },
  {
   "cell_type": "code",
   "execution_count": 105,
   "metadata": {},
   "outputs": [
    {
     "name": "stdout",
     "output_type": "stream",
     "text": [
      "\n",
      "PRESCRIPTION PAIN RELIEVER ABUSE - PAST |\n",
      "                                   YEAR |      Freq.     Percent        Cum.\n",
      "----------------------------------------+-----------------------------------\n",
      "                 No/Unknown (Otherwise) |     81,237       99.73       99.73\n",
      "Yes (Any one of above criteria and DEPN |        224        0.27      100.00\n",
      "----------------------------------------+-----------------------------------\n",
      "                                  Total |     81,461      100.00\n"
     ]
    }
   ],
   "source": [
    "tab ABUSEANL"
   ]
  },
  {
   "cell_type": "code",
   "execution_count": 106,
   "metadata": {},
   "outputs": [
    {
     "name": "stdout",
     "output_type": "stream",
     "text": [
      "\n",
      " PAIN RELIEVER DEPENDENCE IN THE |\n",
      "                       PAST YEAR |      Freq.     Percent        Cum.\n",
      "---------------------------------+-----------------------------------\n",
      "          No/Unknown (Otherwise) |     80,309       98.59       98.59\n",
      "Yes (See comment above DEPNDALC) |      1,152        1.41      100.00\n",
      "---------------------------------+-----------------------------------\n",
      "                           Total |     81,461      100.00\n"
     ]
    }
   ],
   "source": [
    "tab DEPNDANL"
   ]
  },
  {
   "cell_type": "code",
   "execution_count": 107,
   "metadata": {},
   "outputs": [
    {
     "name": "stdout",
     "output_type": "stream",
     "text": [
      "\n",
      "   PAIN RELIEVER ABUSE OR DEPENDENCE - |\n",
      "                             PAST YEAR |      Freq.     Percent        Cum.\n",
      "---------------------------------------+-----------------------------------\n",
      "No/Unknown (ABUSEANL=0 and DEPNDANL=0) |     80,085       98.31       98.31\n",
      "        Yes (ABUSEANL=1 or DEPNDANL=1) |      1,376        1.69      100.00\n",
      "---------------------------------------+-----------------------------------\n",
      "                                 Total |     81,461      100.00\n"
     ]
    }
   ],
   "source": [
    "tab ABODANL"
   ]
  },
  {
   "cell_type": "code",
   "execution_count": 108,
   "metadata": {},
   "outputs": [],
   "source": [
    "gen painreliever_abuse = 0 "
   ]
  },
  {
   "cell_type": "code",
   "execution_count": 109,
   "metadata": {},
   "outputs": [
    {
     "name": "stdout",
     "output_type": "stream",
     "text": [
      "(224 real changes made)\n"
     ]
    }
   ],
   "source": [
    "replace painreliever_abuse = 1 if ABUSEANL == 1 "
   ]
  },
  {
   "cell_type": "code",
   "execution_count": 110,
   "metadata": {},
   "outputs": [],
   "source": [
    "gen painreliever_dependence = 0 "
   ]
  },
  {
   "cell_type": "code",
   "execution_count": 111,
   "metadata": {},
   "outputs": [
    {
     "name": "stdout",
     "output_type": "stream",
     "text": [
      "(1,152 real changes made)\n"
     ]
    }
   ],
   "source": [
    "replace painreliever_dependence = 1 if DEPNDANL == 1 "
   ]
  },
  {
   "cell_type": "code",
   "execution_count": 112,
   "metadata": {},
   "outputs": [],
   "source": [
    "gen anl_abuse_dependence = 0 "
   ]
  },
  {
   "cell_type": "code",
   "execution_count": 113,
   "metadata": {},
   "outputs": [
    {
     "name": "stdout",
     "output_type": "stream",
     "text": [
      "(1,376 real changes made)\n"
     ]
    }
   ],
   "source": [
    "replace anl_abuse_dependence = 1 if ABODANL == 1 "
   ]
  },
  {
   "cell_type": "code",
   "execution_count": 114,
   "metadata": {},
   "outputs": [],
   "source": [
    "// Treatment for Opioid Use Disorders "
   ]
  },
  {
   "cell_type": "code",
   "execution_count": 115,
   "metadata": {},
   "outputs": [],
   "source": [
    "// Hospital overnight, inpatient treatment at rehab facility "
   ]
  },
  {
   "cell_type": "code",
   "execution_count": 116,
   "metadata": {},
   "outputs": [
    {
     "name": "stdout",
     "output_type": "stream",
     "text": [
      "\n",
      "     TRMT FOR ALC, DRUG OR BOTH PAST 12 |\n",
      "                                 MONTHS |      Freq.     Percent        Cum.\n",
      "----------------------------------------+-----------------------------------\n",
      "                       Alcohol use only |        663        0.81        0.81\n",
      "                          Drug use only |        682        0.84        1.65\n",
      "              Both alcohol and drug use |        666        0.82        2.47\n",
      "                                      4 |          1        0.00        2.47\n",
      "Drugs (alcohol trmt unknown) LOGICALLY  |          6        0.01        2.48\n",
      "                                      6 |          1        0.00        2.48\n",
      "Alcohol only (but last tmt for drugs re |         72        0.09        2.57\n",
      "Drugs only (but last tmt for alc report |         71        0.09        2.65\n",
      "NEVER USED ALCOHOL OR DRUGS Logically a |         13        0.02        2.67\n",
      "            BAD DATA Logically assigned |          3        0.00        2.67\n",
      "            NEVER USED ALCOHOL OR DRUGS |      6,318        7.76       10.43\n",
      "                             DON'T KNOW |          3        0.00       10.43\n",
      "                                REFUSED |         81        0.10       10.53\n",
      "                      BLANK (NO ANSWER) |        301        0.37       10.90\n",
      "                        LEGITIMATE SKIP |     72,580       89.10      100.00\n",
      "----------------------------------------+-----------------------------------\n",
      "                                  Total |     81,461      100.00\n"
     ]
    }
   ],
   "source": [
    "tab  TXYRADG"
   ]
  },
  {
   "cell_type": "code",
   "execution_count": 117,
   "metadata": {},
   "outputs": [
    {
     "name": "stdout",
     "output_type": "stream",
     "text": [
      "\n",
      "RCVD TXFILL1 TRMT IN HOSP/OVERNIGHT PST |\n",
      "                                 12 MOS |      Freq.     Percent        Cum.\n",
      "----------------------------------------+-----------------------------------\n",
      "                                    Yes |        376        0.46        0.46\n",
      "                                     No |      1,768        2.17        2.63\n",
      " Yes LOGICALLY ASSIGNED (from TXLTYMN2) |         16        0.02        2.65\n",
      "NEVER USED ALCOHOL OR DRUGS Logically a |         13        0.02        2.67\n",
      "            BAD DATA Logically assigned |          3        0.00        2.67\n",
      "            NEVER USED ALCOHOL OR DRUGS |      6,318        7.76       10.43\n",
      "                             DON'T KNOW |          1        0.00       10.43\n",
      "                                REFUSED |         82        0.10       10.53\n",
      "                      BLANK (NO ANSWER) |        304        0.37       10.90\n",
      "                        LEGITIMATE SKIP |     72,580       89.10      100.00\n",
      "----------------------------------------+-----------------------------------\n",
      "                                  Total |     81,461      100.00\n"
     ]
    }
   ],
   "source": [
    "tab TXYRHOSP, miss"
   ]
  },
  {
   "cell_type": "code",
   "execution_count": 118,
   "metadata": {},
   "outputs": [
    {
     "name": "stdout",
     "output_type": "stream",
     "text": [
      "\n",
      " HOSP/OVERNIGHT TRMT FOR ALC, DRUGS, OR |\n",
      "                                   BOTH |      Freq.     Percent        Cum.\n",
      "----------------------------------------+-----------------------------------\n",
      "                            Alcohol use |         13        0.02        0.02\n",
      "                               Drug use |         11        0.01        0.03\n",
      "              Both alcohol and drug use |         99        0.12        0.15\n",
      "NEVER USED ALCOHOL OR DRUGS Logically a |         13        0.02        0.17\n",
      "            NEVER USED ALCOHOL OR DRUGS |      6,318        7.76        7.92\n",
      "                                REFUSED |         77        0.09        8.02\n",
      "                      BLANK (NO ANSWER) |        368        0.45        8.47\n",
      "                        LEGITIMATE SKIP |     74,562       91.53      100.00\n",
      "----------------------------------------+-----------------------------------\n",
      "                                  Total |     81,461      100.00\n"
     ]
    }
   ],
   "source": [
    "tab TXYRHPAD, miss"
   ]
  },
  {
   "cell_type": "code",
   "execution_count": 119,
   "metadata": {},
   "outputs": [
    {
     "name": "stdout",
     "output_type": "stream",
     "text": [
      "(79,299 real changes made, 79,299 to missing)\n"
     ]
    }
   ],
   "source": [
    "replace TXYRADG = . if TXYRADG >= 81 "
   ]
  },
  {
   "cell_type": "code",
   "execution_count": 120,
   "metadata": {},
   "outputs": [
    {
     "name": "stdout",
     "output_type": "stream",
     "text": [
      "(79,301 real changes made, 79,301 to missing)\n"
     ]
    }
   ],
   "source": [
    "replace TXYRHOSP = .  if TXYRHOSP >= 81"
   ]
  },
  {
   "cell_type": "code",
   "execution_count": 121,
   "metadata": {},
   "outputs": [
    {
     "name": "stdout",
     "output_type": "stream",
     "text": [
      "(81,338 real changes made, 81,338 to missing)\n"
     ]
    }
   ],
   "source": [
    "replace TXYRHPAD = . if TXYRHPAD >= 81 "
   ]
  },
  {
   "cell_type": "code",
   "execution_count": 122,
   "metadata": {},
   "outputs": [
    {
     "name": "stdout",
     "output_type": "stream",
     "text": [
      "(79,301 real changes made, 79,301 to missing)\n"
     ]
    }
   ],
   "source": [
    "replace TXYRRFIN = . if TXYRRFIN >= 81 "
   ]
  },
  {
   "cell_type": "code",
   "execution_count": 123,
   "metadata": {},
   "outputs": [
    {
     "name": "stdout",
     "output_type": "stream",
     "text": [
      "(81,263 real changes made, 81,263 to missing)\n"
     ]
    }
   ],
   "source": [
    "replace TXYRINAD = . if TXYRINAD >= 81 "
   ]
  },
  {
   "cell_type": "code",
   "execution_count": 124,
   "metadata": {},
   "outputs": [
    {
     "name": "stdout",
     "output_type": "stream",
     "text": [
      "(79,293 real changes made, 79,293 to missing)\n"
     ]
    }
   ],
   "source": [
    "replace DRGHOSP = . if (TXYRADG == . & TXYRHPAD == . & TXYRHOSP ==.)"
   ]
  },
  {
   "cell_type": "code",
   "execution_count": 125,
   "metadata": {},
   "outputs": [
    {
     "name": "stdout",
     "output_type": "stream",
     "text": [
      "(79,292 real changes made, 79,292 to missing)\n"
     ]
    }
   ],
   "source": [
    "replace DRGRFIN = . if (TXYRADG == . & TXYRRFIN == . & TXYRINAD==.)"
   ]
  },
  {
   "cell_type": "code",
   "execution_count": 126,
   "metadata": {},
   "outputs": [],
   "source": [
    "gen inpatient_drug_treat = 0 "
   ]
  },
  {
   "cell_type": "code",
   "execution_count": 127,
   "metadata": {},
   "outputs": [
    {
     "name": "stdout",
     "output_type": "stream",
     "text": [
      "(497 real changes made)\n"
     ]
    }
   ],
   "source": [
    "replace inpatient_drug_treat = 1 if (DRGHOSP == 1 | DRGRFIN == 1)"
   ]
  },
  {
   "cell_type": "code",
   "execution_count": 128,
   "metadata": {},
   "outputs": [
    {
     "name": "stdout",
     "output_type": "stream",
     "text": [
      "(79,293 real changes made, 79,293 to missing)\n"
     ]
    }
   ],
   "source": [
    "replace inpatient_drug_treat = . if (DRGHOSP ==. | DRGRFIN ==.)"
   ]
  },
  {
   "cell_type": "code",
   "execution_count": 129,
   "metadata": {},
   "outputs": [],
   "source": [
    " // Outpatient Drug Treatment: rehab facility, mental health center, private doctor's office "
   ]
  },
  {
   "cell_type": "code",
   "execution_count": 130,
   "metadata": {},
   "outputs": [
    {
     "name": "stdout",
     "output_type": "stream",
     "text": [
      "(0 real changes made)\n"
     ]
    }
   ],
   "source": [
    "replace TXYRADG = . if TXYRADG >=81"
   ]
  },
  {
   "cell_type": "code",
   "execution_count": 131,
   "metadata": {},
   "outputs": [
    {
     "name": "stdout",
     "output_type": "stream",
     "text": [
      "(79,305 real changes made, 79,305 to missing)\n"
     ]
    }
   ],
   "source": [
    "replace TXYRRFOP = .  if TXYRRFOP >=81 "
   ]
  },
  {
   "cell_type": "code",
   "execution_count": 132,
   "metadata": {},
   "outputs": [
    {
     "name": "stdout",
     "output_type": "stream",
     "text": [
      "(81,120 real changes made, 81,120 to missing)\n"
     ]
    }
   ],
   "source": [
    "replace TXYRPOAD = . if TXYRPOAD >= 81 "
   ]
  },
  {
   "cell_type": "code",
   "execution_count": 133,
   "metadata": {},
   "outputs": [
    {
     "name": "stdout",
     "output_type": "stream",
     "text": [
      "(79,292 real changes made, 79,292 to missing)\n"
     ]
    }
   ],
   "source": [
    "replace DRGRFOP = . if ( TXYRADG ==. & TXYRRFOP ==. & TXYRPOAD == .)"
   ]
  },
  {
   "cell_type": "code",
   "execution_count": 134,
   "metadata": {},
   "outputs": [
    {
     "name": "stdout",
     "output_type": "stream",
     "text": [
      "(79,306 real changes made, 79,306 to missing)\n"
     ]
    }
   ],
   "source": [
    "replace TXYRMHC = . if TXYRMHC >= 81 "
   ]
  },
  {
   "cell_type": "code",
   "execution_count": 135,
   "metadata": {},
   "outputs": [
    {
     "name": "stdout",
     "output_type": "stream",
     "text": [
      "(81,285 real changes made, 81,285 to missing)\n"
     ]
    }
   ],
   "source": [
    "replace TXYRMHAD = . if TXYRMHAD >= 81"
   ]
  },
  {
   "cell_type": "code",
   "execution_count": 136,
   "metadata": {},
   "outputs": [
    {
     "name": "stdout",
     "output_type": "stream",
     "text": [
      "(79,292 real changes made, 79,292 to missing)\n"
     ]
    }
   ],
   "source": [
    "replace DRGMHC = . if (TXYRMHC == . & TXYRMHA ==. & TXYRADG ==.)"
   ]
  },
  {
   "cell_type": "code",
   "execution_count": 137,
   "metadata": {},
   "outputs": [
    {
     "name": "stdout",
     "output_type": "stream",
     "text": [
      "(79,304 real changes made, 79,304 to missing)\n"
     ]
    }
   ],
   "source": [
    "replace TXYRDOC = . if TXYRDOC >= 81 "
   ]
  },
  {
   "cell_type": "code",
   "execution_count": 138,
   "metadata": {},
   "outputs": [
    {
     "name": "stdout",
     "output_type": "stream",
     "text": [
      "(81,375 real changes made, 81,375 to missing)\n"
     ]
    }
   ],
   "source": [
    "replace TXYRDCAD =. if TXYRDCAD >= 81 "
   ]
  },
  {
   "cell_type": "code",
   "execution_count": 139,
   "metadata": {},
   "outputs": [
    {
     "name": "stdout",
     "output_type": "stream",
     "text": [
      "(79,292 real changes made, 79,292 to missing)\n"
     ]
    }
   ],
   "source": [
    "replace DRGDOC = . if (TXYRADG == . & TXYRDOC ==. & TXYRDCAD ==.)"
   ]
  },
  {
   "cell_type": "code",
   "execution_count": 140,
   "metadata": {},
   "outputs": [],
   "source": [
    "gen outpatient_drug_treat = 0 "
   ]
  },
  {
   "cell_type": "code",
   "execution_count": 141,
   "metadata": {},
   "outputs": [
    {
     "name": "stdout",
     "output_type": "stream",
     "text": [
      "(977 real changes made)\n"
     ]
    }
   ],
   "source": [
    "replace outpatient_drug_treat = 1 if (DRGRFOP == 1 | DRGMHC == 1| DRGDOC == 1)"
   ]
  },
  {
   "cell_type": "code",
   "execution_count": 142,
   "metadata": {},
   "outputs": [
    {
     "name": "stdout",
     "output_type": "stream",
     "text": [
      "(79,292 real changes made, 79,292 to missing)\n"
     ]
    }
   ],
   "source": [
    "replace outpatient_drug_treat = . if (DRGRFOP == . | DRGMHC == .| DRGDOC == .)"
   ]
  },
  {
   "cell_type": "code",
   "execution_count": 143,
   "metadata": {},
   "outputs": [],
   "source": [
    "// Emergency room visits "
   ]
  },
  {
   "cell_type": "code",
   "execution_count": 144,
   "metadata": {},
   "outputs": [
    {
     "name": "stdout",
     "output_type": "stream",
     "text": [
      "(75,253 real changes made, 75,253 to missing)\n"
     ]
    }
   ],
   "source": [
    "replace TXYREVER =. if TXYREVER >= 81 "
   ]
  },
  {
   "cell_type": "code",
   "execution_count": 145,
   "metadata": {},
   "outputs": [
    {
     "name": "stdout",
     "output_type": "stream",
     "text": [
      "(81,394 real changes made, 81,394 to missing)\n"
     ]
    }
   ],
   "source": [
    "replace TXYRERAD = . if TXYRERAD >= 81 "
   ]
  },
  {
   "cell_type": "code",
   "execution_count": 146,
   "metadata": {},
   "outputs": [],
   "source": [
    "gen emergency_room = 0 "
   ]
  },
  {
   "cell_type": "code",
   "execution_count": 147,
   "metadata": {},
   "outputs": [
    {
     "name": "stdout",
     "output_type": "stream",
     "text": [
      "(152 real changes made)\n"
     ]
    }
   ],
   "source": [
    "replace emergency_room = 1 if DRGTXE == 1 "
   ]
  },
  {
   "cell_type": "code",
   "execution_count": 148,
   "metadata": {},
   "outputs": [
    {
     "name": "stdout",
     "output_type": "stream",
     "text": [
      "(75,253 real changes made, 75,253 to missing)\n"
     ]
    }
   ],
   "source": [
    "replace emergency_room = . if (TXYRADG == . & TXYREVER ==. & TXYRERAD ==.)"
   ]
  },
  {
   "cell_type": "code",
   "execution_count": 149,
   "metadata": {},
   "outputs": [],
   "source": [
    "// Treatment for pain relievers "
   ]
  },
  {
   "cell_type": "code",
   "execution_count": 150,
   "metadata": {},
   "outputs": [
    {
     "name": "stdout",
     "output_type": "stream",
     "text": [
      "\n",
      " RECEIVED LAST/CURRENT |\n",
      "    TREATMENT FOR PAIN |\n",
      "             RELIEVERS |      Freq.     Percent        Cum.\n",
      "-----------------------+-----------------------------------\n",
      "No/Unknown (Otherwise) |     80,793       99.18       99.18\n",
      "    Yes (TXLTYANL=1,3) |        668        0.82      100.00\n",
      "-----------------------+-----------------------------------\n",
      "                 Total |     81,461      100.00\n"
     ]
    }
   ],
   "source": [
    "tab TXLTANL2, miss"
   ]
  },
  {
   "cell_type": "code",
   "execution_count": 151,
   "metadata": {},
   "outputs": [],
   "source": [
    "gen opioid_treatment = 0 "
   ]
  },
  {
   "cell_type": "code",
   "execution_count": 152,
   "metadata": {},
   "outputs": [
    {
     "name": "stdout",
     "output_type": "stream",
     "text": [
      "(668 real changes made)\n"
     ]
    }
   ],
   "source": [
    "replace opioid_treatment = 1 if TXLTANL2 == 1 "
   ]
  },
  {
   "cell_type": "code",
   "execution_count": 153,
   "metadata": {},
   "outputs": [
    {
     "name": "stdout",
     "output_type": "stream",
     "text": [
      "(79,299 real changes made, 79,299 to missing)\n"
     ]
    }
   ],
   "source": [
    "replace opioid_treatment = . if TXYRADG == . "
   ]
  },
  {
   "cell_type": "code",
   "execution_count": 154,
   "metadata": {},
   "outputs": [
    {
     "name": "stdout",
     "output_type": "stream",
     "text": [
      "\n",
      "opioid_trea |\n",
      "      tment |      Freq.     Percent        Cum.\n",
      "------------+-----------------------------------\n",
      "          0 |      1,496        1.84        1.84\n",
      "          1 |        666        0.82        2.65\n",
      "          . |     79,299       97.35      100.00\n",
      "------------+-----------------------------------\n",
      "      Total |     81,461      100.00\n"
     ]
    }
   ],
   "source": [
    "tab opioid_treatment, miss"
   ]
  },
  {
   "cell_type": "code",
   "execution_count": 155,
   "metadata": {},
   "outputs": [
    {
     "name": "stdout",
     "output_type": "stream",
     "text": [
      "file NSDUH_CLEAN.dta saved\n"
     ]
    }
   ],
   "source": [
    "save NSDUH_CLEAN.dta, replace "
   ]
  }
 ],
 "metadata": {
  "kernelspec": {
   "display_name": "Stata",
   "language": "stata",
   "name": "stata"
  },
  "language_info": {
   "codemirror_mode": "stata",
   "file_extension": ".do",
   "mimetype": "text/x-stata",
   "name": "stata",
   "version": "15.1"
  }
 },
 "nbformat": 4,
 "nbformat_minor": 2
}
