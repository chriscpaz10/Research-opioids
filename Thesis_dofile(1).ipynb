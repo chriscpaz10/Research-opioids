{
 "cells": [
  {
   "cell_type": "code",
   "execution_count": 1,
   "metadata": {},
   "outputs": [],
   "source": [
    "clear "
   ]
  },
  {
   "cell_type": "code",
   "execution_count": 2,
   "metadata": {},
   "outputs": [
    {
     "name": "stdout",
     "output_type": "stream",
     "text": [
      "(National Survey on Drug Use and Health, 2014)\n"
     ]
    }
   ],
   "source": [
    "use \"C:\\Users\\Patricia P\\Documents\\Thesis_opioids\\NSDUH_complete.dta\", clear"
   ]
  },
  
  {
   "cell_type": "code",
   "execution_count": 4,
   "metadata": {},
   "outputs": [],
   "source": [
    "// DEMOGRAPHICS "
   ]
  },
  {
   "cell_type": "code",
   "execution_count": 5,
   "metadata": {},
   "outputs": [],
   "source": [
    "gen female = 0"
   ]
  },
  {
   "cell_type": "code",
   "execution_count": 6,
   "metadata": {},
   "outputs": [
    {
     "name": "stdout",
     "output_type": "stream",
     "text": [
      "(203,774 real changes made)\n"
     ]
    }
   ],
   "source": [
    "replace female = 1 if IRSEX == 2"
   ]
  },
  {
   "cell_type": "code",
   "execution_count": 7,
   "metadata": {},
   "outputs": [],
   "source": [
    "gen male = 0 "
   ]
  },
  {
   "cell_type": "code",
   "execution_count": 8,
   "metadata": {},
   "outputs": [
    {
     "name": "stdout",
     "output_type": "stream",
     "text": [
      "(187,979 real changes made)\n"
     ]
    }
   ],
   "source": [
    "replace male = 1 if IRSEX == 1"
   ]
  },
  {
   "cell_type": "code",
   "execution_count": 9,
   "metadata": {},
   "outputs": [],
   "source": [
    "* EDUCATION "
   ]
  },
  {
   "cell_type": "code",
   "execution_count": 10,
   "metadata": {},
   "outputs": [],
   "source": [
    "gen educ_less_highschool = 0"
   ]
  },
  {
   "cell_type": "code",
   "execution_count": 11,
   "metadata": {},
   "outputs": [
    {
     "name": "stdout",
     "output_type": "stream",
     "text": [
      "(42,875 real changes made)\n"
     ]
    }
   ],
   "source": [
    "replace educ_less_highschool = 1 if EDUCCAT2 == 1"
   ]
  },
  {
   "cell_type": "code",
   "execution_count": 12,
   "metadata": {},
   "outputs": [
    {
     "name": "stdout",
     "output_type": "stream",
     "text": [
      "(121,526 real changes made, 121,526 to missing)\n"
     ]
    }
   ],
   "source": [
    "replace educ_less_highschool = . if EDUCCAT2 == 5"
   ]
  },
  {
   "cell_type": "code",
   "execution_count": 13,
   "metadata": {},
   "outputs": [],
   "source": [
    "gen educ_highschool_grad = 0 "
   ]
  },
  {
   "cell_type": "code",
   "execution_count": 14,
   "metadata": {},
   "outputs": [
    {
     "name": "stdout",
     "output_type": "stream",
     "text": [
      "(86,881 real changes made)\n"
     ]
    }
   ],
   "source": [
    "replace educ_highschool_grad = 1 if EDUCCAT2 == 2"
   ]
  },
  {
   "cell_type": "code",
   "execution_count": 15,
   "metadata": {},
   "outputs": [
    {
     "name": "stdout",
     "output_type": "stream",
     "text": [
      "(121,526 real changes made, 121,526 to missing)\n"
     ]
    }
   ],
   "source": [
    "replace educ_highschool_grad = . if EDUCCAT2 == 5"
   ]
  },
  {
   "cell_type": "code",
   "execution_count": 16,
   "metadata": {},
   "outputs": [],
   "source": [
    "gen educ_some_college = 0 "
   ]
  },
  {
   "cell_type": "code",
   "execution_count": 17,
   "metadata": {},
   "outputs": [
    {
     "name": "stdout",
     "output_type": "stream",
     "text": [
      "(79,270 real changes made)\n"
     ]
    }
   ],
   "source": [
    "replace educ_some_college = 1 if EDUCCAT2 == 3"
   ]
  },
  {
   "cell_type": "code",
   "execution_count": 18,
   "metadata": {},
   "outputs": [
    {
     "name": "stdout",
     "output_type": "stream",
     "text": [
      "(121,526 real changes made, 121,526 to missing)\n"
     ]
    }
   ],
   "source": [
    "replace educ_some_college = . if EDUCCAT2 == 5"
   ]
  },
  {
   "cell_type": "code",
   "execution_count": 19,
   "metadata": {},
   "outputs": [],
   "source": [
    "gen educ_college_grad = 0 "
   ]
  },
  {
   "cell_type": "code",
   "execution_count": 20,
   "metadata": {},
   "outputs": [
    {
     "name": "stdout",
     "output_type": "stream",
     "text": [
      "(61,201 real changes made)\n"
     ]
    }
   ],
   "source": [
    "replace educ_college_grad = 1 if EDUCCAT2 == 4 "
   ]
  },
  {
   "cell_type": "code",
   "execution_count": 21,
   "metadata": {},
   "outputs": [
    {
     "name": "stdout",
     "output_type": "stream",
     "text": [
      "(121,526 real changes made, 121,526 to missing)\n"
     ]
    }
   ],
   "source": [
    "replace educ_college_grad = . if EDUCCAT2 == 5"
   ]
  },
  {
   "cell_type": "code",
   "execution_count": 22,
   "metadata": {},
   "outputs": [],
   "source": [
    "* RACE"
   ]
  },
  {
   "cell_type": "code",
   "execution_count": 23,
   "metadata": {},
   "outputs": [],
   "source": [
    "gen hispanic = 0 "
   ]
  },
  {
   "cell_type": "code",
   "execution_count": 24,
   "metadata": {},
   "outputs": [
    {
     "name": "stdout",
     "output_type": "stream",
     "text": [
      "(65,857 real changes made)\n"
     ]
    }
   ],
   "source": [
    "replace hispanic = 1 if NEWRACE2 == 7"
   ]
  },
  {
   "cell_type": "code",
   "execution_count": 25,
   "metadata": {},
   "outputs": [],
   "source": [
    "gen black = 0 "
   ]
  },
  {
   "cell_type": "code",
   "execution_count": 26,
   "metadata": {},
   "outputs": [
    {
     "name": "stdout",
     "output_type": "stream",
     "text": [
      "(50,174 real changes made)\n"
     ]
    }
   ],
   "source": [
    "replace black = 1 if NEWRACE2 == 2"
   ]
  },
  {
   "cell_type": "code",
   "execution_count": 27,
   "metadata": {},
   "outputs": [],
   "source": [
    "gen white = 0 "
   ]
  },
  {
   "cell_type": "code",
   "execution_count": 28,
   "metadata": {},
   "outputs": [
    {
     "name": "stdout",
     "output_type": "stream",
     "text": [
      "(239,418 real changes made)\n"
     ]
    }
   ],
   "source": [
    "replace white = 1 if NEWRACE2 == 1"
   ]
  },
  {
   "cell_type": "code",
   "execution_count": 29,
   "metadata": {},
   "outputs": [],
   "source": [
    "gen other_race = 0 "
   ]
  },
  {
   "cell_type": "code",
   "execution_count": 30,
   "metadata": {},
   "outputs": [
    {
     "name": "stdout",
     "output_type": "stream",
     "text": [
      "(36,304 real changes made)\n"
     ]
    }
   ],
   "source": [
    "replace other_race = 1 if (NEWRACE2 == 4| NEWRACE2 == 6| NEWRACE2 == 5| NEWRACE2 == 3)"
   ]
  },
  {
   "cell_type": "code",
   "execution_count": 31,
   "metadata": {},
   "outputs": [],
   "source": [
    "* MARITAL STATUS "
   ]
  },
  {
   "cell_type": "code",
   "execution_count": 32,
   "metadata": {},
   "outputs": [],
   "source": [
    "gen married = 0 "
   ]
  },
  {
   "cell_type": "code",
   "execution_count": 33,
   "metadata": {},
   "outputs": [
    {
     "name": "stdout",
     "output_type": "stream",
     "text": [
      "(98,239 real changes made)\n"
     ]
    }
   ],
   "source": [
    "replace married = 1 if IRMARIT == 1"
   ]
  },
  {
   "cell_type": "code",
   "execution_count": 34,
   "metadata": {},
   "outputs": [],
   "source": [
    "* HEALTH STATUS "
   ]
  },
  {
   "cell_type": "code",
   "execution_count": 35,
   "metadata": {},
   "outputs": [],
   "source": [
    "gen excellent_health = 0 "
   ]
  },
  {
   "cell_type": "code",
   "execution_count": 36,
   "metadata": {},
   "outputs": [
    {
     "name": "stdout",
     "output_type": "stream",
     "text": [
      "(107,895 real changes made)\n"
     ]
    }
   ],
   "source": [
    "replace excellent_health = 1 if HEALTH2 == 1"
   ]
  },
  {
   "cell_type": "code",
   "execution_count": 37,
   "metadata": {},
   "outputs": [
    {
     "name": "stdout",
     "output_type": "stream",
     "text": [
      "(76 real changes made, 76 to missing)\n"
     ]
    }
   ],
   "source": [
    "replace excellent_health = . if HEALTH2 == -9 "
   ]
  },
  {
   "cell_type": "code",
   "execution_count": 38,
   "metadata": {},
   "outputs": [],
   "source": [
    "gen good_health = 0 "
   ]
  },
  {
   "cell_type": "code",
   "execution_count": 39,
   "metadata": {},
   "outputs": [
    {
     "name": "stdout",
     "output_type": "stream",
     "text": [
      "(252,037 real changes made)\n"
     ]
    }
   ],
   "source": [
    "replace good_health = 1 if (HEALTH2 == 2| HEALTH2 == 3)"
   ]
  },
  {
   "cell_type": "code",
   "execution_count": 40,
   "metadata": {},
   "outputs": [
    {
     "name": "stdout",
     "output_type": "stream",
     "text": [
      "(76 real changes made, 76 to missing)\n"
     ]
    }
   ],
   "source": [
    "replace good_health = . if HEALTH2 == -9"
   ]
  },
  {
   "cell_type": "code",
   "execution_count": 41,
   "metadata": {},
   "outputs": [],
   "source": [
    "gen poor_health = 0 "
   ]
  },
  {
   "cell_type": "code",
   "execution_count": 42,
   "metadata": {},
   "outputs": [
    {
     "name": "stdout",
     "output_type": "stream",
     "text": [
      "(31,745 real changes made)\n"
     ]
    }
   ],
   "source": [
    "replace poor_health = 1 if HEALTH2 == 4"
   ]
  },
  {
   "cell_type": "code",
   "execution_count": 43,
   "metadata": {},
   "outputs": [
    {
     "name": "stdout",
     "output_type": "stream",
     "text": [
      "(76 real changes made, 76 to missing)\n"
     ]
    }
   ],
   "source": [
    "replace poor_health = . if HEALTH2 == -9"
   ]
  },
  {
   "cell_type": "code",
   "execution_count": 44,
   "metadata": {},
   "outputs": [],
   "source": [
    "* Total family income "
   ]
  },
  {
   "cell_type": "code",
   "execution_count": 45,
   "metadata": {},
   "outputs": [],
   "source": [
    "gen income_less_20k = 0 "
   ]
  },
  {
   "cell_type": "code",
   "execution_count": 46,
   "metadata": {},
   "outputs": [
    {
     "name": "stdout",
     "output_type": "stream",
     "text": [
      "(89,454 real changes made)\n"
     ]
    }
   ],
   "source": [
    "replace income_less_20k =1 if INCOME == 1 "
   ]
  },
  {
   "cell_type": "code",
   "execution_count": 47,
   "metadata": {},
   "outputs": [],
   "source": [
    "gen income_20k_49k = 0 "
   ]
  },
  {
   "cell_type": "code",
   "execution_count": 48,
   "metadata": {},
   "outputs": [
    {
     "name": "stdout",
     "output_type": "stream",
     "text": [
      "(129,710 real changes made)\n"
     ]
    }
   ],
   "source": [
    "replace income_20k_49k = 1 if INCOME == 2 "
   ]
  },
  {
   "cell_type": "code",
   "execution_count": 49,
   "metadata": {},
   "outputs": [],
   "source": [
    "gen income_50k_74k = 0 "
   ]
  },
  {
   "cell_type": "code",
   "execution_count": 50,
   "metadata": {},
   "outputs": [
    {
     "name": "stdout",
     "output_type": "stream",
     "text": [
      "(64,566 real changes made)\n"
     ]
    }
   ],
   "source": [
    "replace income_50k_74k = 1 if INCOME == 3 "
   ]
  },
  {
   "cell_type": "code",
   "execution_count": 51,
   "metadata": {},
   "outputs": [],
   "source": [
    "gen income_75k_plus = 0 "
   ]
  },
  {
   "cell_type": "code",
   "execution_count": 52,
   "metadata": {},
   "outputs": [
    {
     "name": "stdout",
     "output_type": "stream",
     "text": [
      "(108,023 real changes made)\n"
     ]
    }
   ],
   "source": [
    "replace income_75k_plus = 1 if INCOME == 4 "
   ]
  },
  {
   "cell_type": "code",
   "execution_count": 53,
   "metadata": {},
   "outputs": [],
   "source": [
    "* residence"
   ]
  },
  {
   "cell_type": "code",
   "execution_count": 54,
   "metadata": {},
   "outputs": [],
   "source": [
    "gen metropolitan_area = 0 "
   ]
  },
  {
   "cell_type": "code",
   "execution_count": 55,
   "metadata": {},
   "outputs": [
    {
     "name": "stdout",
     "output_type": "stream",
     "text": [
      "(308,497 real changes made)\n"
     ]
    }
   ],
   "source": [
    "replace metropolitan_area = 1 if (COUTYP2 == 1 | COUTYP2 == 2)"
   ]
  },
  {
   "cell_type": "code",
   "execution_count": 56,
   "metadata": {},
   "outputs": [],
   "source": [
    "gen rural_area = 0 "
   ]
  },
  {
   "cell_type": "code",
   "execution_count": 57,
   "metadata": {},
   "outputs": [
    {
     "name": "stdout",
     "output_type": "stream",
     "text": [
      "(83,256 real changes made)\n"
     ]
    }
   ],
   "source": [
    "replace rural_area = 1 if COUTYP2 == 3"
   ]
  },
  {
   "cell_type": "code",
   "execution_count": 58,
   "metadata": {},
   "outputs": [],
   "source": [
    "// Summary statistics of the demographics "
   ]
  },
  {
   "cell_type": "code",
   "execution_count": 59,
   "metadata": {},
   "outputs": [
    {
     "name": "stdout",
     "output_type": "stream",
     "text": [
      "\n",
      "    Variable |        Obs        Mean    Std. Dev.       Min        Max\n",
      "-------------+---------------------------------------------------------\n",
      "        male |    391,753    .4798406    .4995941          0          1\n",
      "      female |    391,753    .5201594    .4995941          0          1\n",
      "educ_less_~l |    270,227    .1586629    .3653621          0          1\n",
      "educ_highs~d |    270,227    .3215112    .4670573          0          1\n",
      "educ_some_~e |    270,227     .293346    .4552965          0          1\n",
      "-------------+---------------------------------------------------------\n",
      "educ_some_~e |    270,227     .293346    .4552965          0          1\n",
      "    hispanic |    391,753    .1681085    .3739631          0          1\n",
      "       black |    391,753    .1280756    .3341744          0          1\n",
      "  other_race |    391,753    .0926706    .2899707          0          1\n",
      "     married |    391,753    .2507677    .4334556          0          1\n",
      "-------------+---------------------------------------------------------\n",
      "income_l~20k |    391,753    .2283429    .4197652          0          1\n",
      "income_2~49k |    391,753    .3311015    .4706101          0          1\n",
      "income_5~74k |    391,753     .164813    .3710122          0          1\n",
      "income_75k~s |    391,753    .2757426    .4468883          0          1\n",
      "metropolit~a |    391,753    .7874783    .4090925          0          1\n",
      "-------------+---------------------------------------------------------\n",
      "  rural_area |    391,753    .2125217    .4090925          0          1\n"
     ]
    }
   ],
   "source": [
    "sum male female educ_less_highschool educ_highschool_grad educ_some_college educ_some_college hispanic black other_race married income_less_20k income_20k_49k income_50k_74k income_75k_plus metropolitan_area rural_area "
   ]
  },
  {
   "cell_type": "code",
   "execution_count": 60,
   "metadata": {},
   "outputs": [],
   "source": [
    " // DIFFERENCE-IN-DIFFERENCE "
   ]
  },
  {
   "cell_type": "code",
   "execution_count": 61,
   "metadata": {},
   "outputs": [
    {
     "name": "stdout",
     "output_type": "stream",
     "text": [
      "\n",
      "              RECODE - FINAL EDITED AGE |      Freq.     Percent        Cum.\n",
      "----------------------------------------+-----------------------------------\n",
      "             Respondent is 12 years old |     18,547        4.73        4.73\n",
      "             Respondent is 13 years old |     19,724        5.03        9.77\n",
      "             Respondent is 14 years old |     20,069        5.12       14.89\n",
      "             Respondent is 15 years old |     20,830        5.32       20.21\n",
      "             Respondent is 16 years old |     21,351        5.45       25.66\n",
      "             Respondent is 17 years old |     21,005        5.36       31.02\n",
      "             Respondent is 18 years old |     17,237        4.40       35.42\n",
      "             Respondent is 19 years old |     15,679        4.00       39.42\n",
      "             Respondent is 20 years old |     15,544        3.97       43.39\n",
      "             Respondent is 21 years old |     15,662        4.00       47.39\n",
      "       Respondent is 22 or 23 years old |     31,008        7.92       55.30\n",
      "       Respondent is 24 or 25 years old |     30,604        7.81       63.12\n",
      "Respondent is between 26 and 29 years o |     19,849        5.07       68.18\n",
      "Respondent is between 30 and 34 years o |     22,135        5.65       73.83\n",
      "Respondent is between 35 and 49 years o |     57,659       14.72       88.55\n",
      "Respondent is between 50 and 64 years o |     27,674        7.06       95.62\n",
      "    Respondent is 65 years old or older |     17,176        4.38      100.00\n",
      "----------------------------------------+-----------------------------------\n",
      "                                  Total |    391,753      100.00\n"
     ]
    }
   ],
   "source": [
    "tab AGE2"
   ]
  },
  {
   "cell_type": "code",
   "execution_count": 62,
   "metadata": {},
   "outputs": [
    {
     "name": "stdout",
     "output_type": "stream",
     "text": [
      "(185,648 observations deleted)\n"
     ]
    }
   ],
   "source": [
    "drop if AGE2 <=10"
   ]
  },
  {
   "cell_type": "code",
   "execution_count": 63,
   "metadata": {},
   "outputs": [
    {
     "name": "stdout",
     "output_type": "stream",
     "text": [
      "(124,644 observations deleted)\n"
     ]
    }
   ],
   "source": [
    "drop if AGE2 >=14"
   ]
  },
  {
   "cell_type": "code",
   "execution_count": 64,
   "metadata": {},
   "outputs": [],
   "source": [
    "gen treat22_25yr = 0"
   ]
  },
  {
   "cell_type": "code",
   "execution_count": 65,
   "metadata": {},
   "outputs": [
    {
     "name": "stdout",
     "output_type": "stream",
     "text": [
      "(61,612 real changes made)\n"
     ]
    }
   ],
   "source": [
    "replace treat22_25yr = 1 if (AGE2 == 11 |AGE2==12)"
   ]
  },
  {
   "cell_type": "code",
   "execution_count": 66,
   "metadata": {},
   "outputs": [],
   "source": [
    "label define _treated 0\"control\" 1\"Treated\""
   ]
  },
  {
   "cell_type": "code",
   "execution_count": 67,
   "metadata": {},
   "outputs": [],
   "source": [
    "label values treat22_25yr _treated"
   ]
  },
  {
   "cell_type": "code",
   "execution_count": 68,
   "metadata": {},
   "outputs": [
    {
     "name": "stdout",
     "output_type": "stream",
     "text": [
      "\n",
      "treat22_25y |\n",
      "          r |      Freq.     Percent        Cum.\n",
      "------------+-----------------------------------\n",
      "    control |     19,849       24.37       24.37\n",
      "    Treated |     61,612       75.63      100.00\n",
      "------------+-----------------------------------\n",
      "      Total |     81,461      100.00\n"
     ]
    }
   ],
   "source": [
    "tab treat22_25yr"
   ]
  },
  {
   "cell_type": "code",
   "execution_count": 69,
   "metadata": {},
   "outputs": [],
   "source": [
    "gen post_expansion = 0 "
   ]
  },
  {
   "cell_type": "code",
   "execution_count": 70,
   "metadata": {},
   "outputs": [
    {
     "name": "stdout",
     "output_type": "stream",
     "text": [
      "(46,093 real changes made)\n"
     ]
    }
   ],
   "source": [
    "replace post_expansion = 1 if (YEAR == 2011| YEAR == 2012| YEAR == 2013 | YEAR == 2014)"
   ]
  },
  {
   "cell_type": "code",
   "execution_count": 71,
   "metadata": {},
   "outputs": [],
   "source": [
    "label define _post 0\"pre-expansion\" 1\"post-expansion\" "
   ]
  },
  {
   "cell_type": "code",
   "execution_count": 72,
   "metadata": {},
   "outputs": [],
   "source": [
    "label values post_expansion _post"
   ]
  },
  {
   "cell_type": "code",
   "execution_count": 73,
   "metadata": {},
   "outputs": [
    {
     "name": "stdout",
     "output_type": "stream",
     "text": [
      "\n",
      "post_expansion |      Freq.     Percent        Cum.\n",
      "---------------+-----------------------------------\n",
      " pre-expansion |     35,368       43.42       43.42\n",
      "post-expansion |     46,093       56.58      100.00\n",
      "---------------+-----------------------------------\n",
      "         Total |     81,461      100.00\n"
     ]
    }
   ],
   "source": [
    "tab post_expansion "
   ]
  },
  {
   "cell_type": "code",
   "execution_count": 74,
   "metadata": {},
   "outputs": [],
   "source": [
    "gen DD = treat22_25yr*post_expansion "
   ]
  },
  {
   "cell_type": "code",
   "execution_count": 75,
   "metadata": {},
   "outputs": [],
   "source": [
    "egen clustvar = group(AGE2 YEAR)"
   ]
  },
  {
   "cell_type": "code",
   "execution_count": 76,
   "metadata": {},
   "outputs": [],
   "source": [
    "// HEALTH INSURANCE STATUS "
   ]
  },
  {
   "cell_type": "code",
   "execution_count": 77,
   "metadata": {},
   "outputs": [],
   "source": [
    "gen medicaid_insurance = 0 "
   ]
  },
  {
   "cell_type": "code",
   "execution_count": 78,
   "metadata": {},
   "outputs": [
    {
     "name": "stdout",
     "output_type": "stream",
     "text": [
      "(11,948 real changes made)\n"
     ]
    }
   ],
   "source": [
    "replace medicaid_insurance = 1 if CAIDCHIP == 1 "
   ]
  },
  {
   "cell_type": "code",
   "execution_count": 79,
   "metadata": {},
   "outputs": [
    {
     "name": "stdout",
     "output_type": "stream",
     "text": [
      "(294 real changes made, 294 to missing)\n"
     ]
    }
   ],
   "source": [
    "replace medicaid_insurance = . if (CAIDCHIP == 85| CAIDCHIP == 94 | CAIDCHIP == 97| CAIDCHIP == 98)"
   ]
  },
  {
   "cell_type": "code",
   "execution_count": 80,
   "metadata": {},
   "outputs": [],
   "source": [
    "gen champus_insurance = 0 "
   ]
  },
  {
   "cell_type": "code",
   "execution_count": 81,
   "metadata": {},
   "outputs": [
    {
     "name": "stdout",
     "output_type": "stream",
     "text": [
      "(2,235 real changes made)\n"
     ]
    }
   ],
   "source": [
    "replace champus_insurance = 1 if CHAMPUS == 1 "
   ]
  },
  {
   "cell_type": "code",
   "execution_count": 82,
   "metadata": {},
   "outputs": [
    {
     "name": "stdout",
     "output_type": "stream",
     "text": [
      "(157 real changes made, 157 to missing)\n"
     ]
    }
   ],
   "source": [
    "replace champus_insurance = . if (CHAMPUS == 85| CHAMPUS ==94 |CHAMPUS == 97| CHAMPUS == 98)"
   ]
  },
  {
   "cell_type": "code",
   "execution_count": 83,
   "metadata": {},
   "outputs": [],
   "source": [
    "gen private_insurance = 0 "
   ]
  },
  {
   "cell_type": "code",
   "execution_count": 84,
   "metadata": {},
   "outputs": [
    {
     "name": "stdout",
     "output_type": "stream",
     "text": [
      "(43,780 real changes made)\n"
     ]
    }
   ],
   "source": [
    "replace private_insurance = 1 if PRVHLTIN == 1 "
   ]
  },
  {
   "cell_type": "code",
   "execution_count": 85,
   "metadata": {},
   "outputs": [
    {
     "name": "stdout",
     "output_type": "stream",
     "text": [
      "(274 real changes made, 274 to missing)\n"
     ]
    }
   ],
   "source": [
    "replace private_insurance = . if (PRVHLTIN ==85| PRVHLTIN ==94 | PRVHLTIN == 97| PRVHLTIN ==98)"
   ]
  },
  {
   "cell_type": "code",
   "execution_count": 86,
   "metadata": {},
   "outputs": [],
   "source": [
    "gen other_insurance = 0 "
   ]
  },
  {
   "cell_type": "code",
   "execution_count": 87,
   "metadata": {},
   "outputs": [
    {
     "name": "stdout",
     "output_type": "stream",
     "text": [
      "(2,825 real changes made)\n"
     ]
    }
   ],
   "source": [
    "replace other_insurance = 1 if HLTINNOS == 1 "
   ]
  },
  {
   "cell_type": "code",
   "execution_count": 88,
   "metadata": {},
   "outputs": [
    {
     "name": "stdout",
     "output_type": "stream",
     "text": [
      "(56,937 real changes made, 56,937 to missing)\n"
     ]
    }
   ],
   "source": [
    "replace other_insurance = . if (HLTINNOS == 94| HLTINNOS == 97| HLTINNOS==98| HLTINNOS==99)"
   ]
  },
  {
   "cell_type": "code",
   "execution_count": 89,
   "metadata": {},
   "outputs": [],
   "source": [
    "gen any_insurance = 0 "
   ]
  },
  {
   "cell_type": "code",
   "execution_count": 90,
   "metadata": {},
   "outputs": [
    {
     "name": "stdout",
     "output_type": "stream",
     "text": [
      "(59,367 real changes made)\n"
     ]
    }
   ],
   "source": [
    "replace any_insurance = 1 if ANYHLTI2 ==1 "
   ]
  },
  {
   "cell_type": "code",
   "execution_count": 91,
   "metadata": {},
   "outputs": [
    {
     "name": "stdout",
     "output_type": "stream",
     "text": [
      "(395 real changes made, 395 to missing)\n"
     ]
    }
   ],
   "source": [
    "replace any_insurance = . if (ANYHLTI2 == 94| ANYHLTI2== 97| ANYHLTI2 == 98)"
   ]
  },
  {
   "cell_type": "code",
   "execution_count": 92,
   "metadata": {},
   "outputs": [],
   "source": [
    "gen uninsured = 0 "
   ]
  },
  {
   "cell_type": "code",
   "execution_count": 93,
   "metadata": {},
   "outputs": [
    {
     "name": "stdout",
     "output_type": "stream",
     "text": [
      "(21,699 real changes made)\n"
     ]
    }
   ],
   "source": [
    "replace uninsured  = 1 if ANYHLTI2 == 2"
   ]
  },
  {
   "cell_type": "code",
   "execution_count": 94,
   "metadata": {},
   "outputs": [
    {
     "name": "stdout",
     "output_type": "stream",
     "text": [
      "(395 real changes made, 395 to missing)\n"
     ]
    }
   ],
   "source": [
    "replace uninsured = . if (ANYHLTI2 == 94 | ANYHLTI2 == 97| ANYHLTI2 == 98)"
   ]
  },
  {
   "cell_type": "code",
   "execution_count": 95,
   "metadata": {},
   "outputs": [],
   "source": [
    "// OPIOID NON-MEDICAL USE "
   ]
  },
  {
   "cell_type": "code",
   "execution_count": 96,
   "metadata": {},
   "outputs": [],
   "source": [
    "// note: opioid misuse is defined as 1 if ever misused pain relievers and last time used was within 30 days and more than 30 days but less than a year respectively "
   ]
  },
  {
   "cell_type": "code",
   "execution_count": 97,
   "metadata": {},
   "outputs": [],
   "source": [
    "gen painreliever_misuse_12m = 0 "
   ]
  },
  {
   "cell_type": "code",
   "execution_count": 98,
   "metadata": {},
   "outputs": [
    {
     "name": "stdout",
     "output_type": "stream",
     "text": [
      "(2,930 real changes made)\n"
     ]
    }
   ],
   "source": [
    "replace painreliever_misuse_12m = 1 if (ANLEVER == 1 & ANALREC == 1)"
   ]
  },
  {
   "cell_type": "code",
   "execution_count": 99,
   "metadata": {},
   "outputs": [
    {
     "name": "stdout",
     "output_type": "stream",
     "text": [
      "(4,462 real changes made)\n"
     ]
    }
   ],
   "source": [
    "replace painreliever_misuse_12m = 1 if (ANLEVER == 1 & ANALREC == 2)"
   ]
  },
  {
   "cell_type": "code",
   "execution_count": 100,
   "metadata": {},
   "outputs": [
    {
     "name": "stdout",
     "output_type": "stream",
     "text": [
      "(83 real changes made)\n"
     ]
    }
   ],
   "source": [
    "replace painreliever_misuse_12m = 1 if (ANLEVER == 1 & ANALREC == 8)"
   ]
  },
  {
   "cell_type": "code",
   "execution_count": 101,
   "metadata": {},
   "outputs": [
    {
     "name": "stdout",
     "output_type": "stream",
     "text": [
      "(103 real changes made, 103 to missing)\n"
     ]
    }
   ],
   "source": [
    "replace painreliever_misuse_12m = . if (ANLEVER == 97 | ANLEVER == 98| ANALREC ==85| ANALREC == 97 | ANALREC == 98)"
   ]
  },
  {
   "cell_type": "code",
   "execution_count": 102,
   "metadata": {},
   "outputs": [],
   "source": [
    "gen painreliever_30d = 0 "
   ]
  },
  {
   "cell_type": "code",
   "execution_count": 103,
   "metadata": {},
   "outputs": [
    {
     "name": "stdout",
     "output_type": "stream",
     "text": [
      "(3,026 real changes made)\n"
     ]
    }
   ],
   "source": [
    "replace painreliever_30d = 1 if (ANLFLAG == 1 & ANLMON ==1)"
   ]
  },
  {
   "cell_type": "code",
   "execution_count": 104,
   "metadata": {},
   "outputs": [],
   "source": [
    "// SUBSTANCE DEPENDENDENCE AND ABUSE "
   ]
  },
  {
   "cell_type": "code",
   "execution_count": 105,
   "metadata": {},
   "outputs": [
    {
     "name": "stdout",
     "output_type": "stream",
     "text": [
      "\n",
      "PRESCRIPTION PAIN RELIEVER ABUSE - PAST |\n",
      "                                   YEAR |      Freq.     Percent        Cum.\n",
      "----------------------------------------+-----------------------------------\n",
      "                 No/Unknown (Otherwise) |     81,237       99.73       99.73\n",
      "Yes (Any one of above criteria and DEPN |        224        0.27      100.00\n",
      "----------------------------------------+-----------------------------------\n",
      "                                  Total |     81,461      100.00\n"
     ]
    }
   ],
   "source": [
    "tab ABUSEANL"
   ]
  },
  {
   "cell_type": "code",
   "execution_count": 106,
   "metadata": {},
   "outputs": [
    {
     "name": "stdout",
     "output_type": "stream",
     "text": [
      "\n",
      " PAIN RELIEVER DEPENDENCE IN THE |\n",
      "                       PAST YEAR |      Freq.     Percent        Cum.\n",
      "---------------------------------+-----------------------------------\n",
      "          No/Unknown (Otherwise) |     80,309       98.59       98.59\n",
      "Yes (See comment above DEPNDALC) |      1,152        1.41      100.00\n",
      "---------------------------------+-----------------------------------\n",
      "                           Total |     81,461      100.00\n"
     ]
    }
   ],
   "source": [
    "tab DEPNDANL"
   ]
  },
  {
   "cell_type": "code",
   "execution_count": 107,
   "metadata": {},
   "outputs": [
    {
     "name": "stdout",
     "output_type": "stream",
     "text": [
      "\n",
      "   PAIN RELIEVER ABUSE OR DEPENDENCE - |\n",
      "                             PAST YEAR |      Freq.     Percent        Cum.\n",
      "---------------------------------------+-----------------------------------\n",
      "No/Unknown (ABUSEANL=0 and DEPNDANL=0) |     80,085       98.31       98.31\n",
      "        Yes (ABUSEANL=1 or DEPNDANL=1) |      1,376        1.69      100.00\n",
      "---------------------------------------+-----------------------------------\n",
      "                                 Total |     81,461      100.00\n"
     ]
    }
   ],
   "source": [
    "tab ABODANL"
   ]
  },
  {
   "cell_type": "code",
   "execution_count": 108,
   "metadata": {},
   "outputs": [],
   "source": [
    "gen painreliever_abuse = 0 "
   ]
  },
  {
   "cell_type": "code",
   "execution_count": 109,
   "metadata": {},
   "outputs": [
    {
     "name": "stdout",
     "output_type": "stream",
     "text": [
      "(224 real changes made)\n"
     ]
    }
   ],
   "source": [
    "replace painreliever_abuse = 1 if ABUSEANL == 1 "
   ]
  },
  {
   "cell_type": "code",
   "execution_count": 110,
   "metadata": {},
   "outputs": [],
   "source": [
    "gen painreliever_dependence = 0 "
   ]
  },
  {
   "cell_type": "code",
   "execution_count": 111,
   "metadata": {},
   "outputs": [
    {
     "name": "stdout",
     "output_type": "stream",
     "text": [
      "(1,152 real changes made)\n"
     ]
    }
   ],
   "source": [
    "replace painreliever_dependence = 1 if DEPNDANL == 1 "
   ]
  },
  {
   "cell_type": "code",
   "execution_count": 112,
   "metadata": {},
   "outputs": [],
   "source": [
    "gen anl_abuse_dependence = 0 "
   ]
  },
  {
   "cell_type": "code",
   "execution_count": 113,
   "metadata": {},
   "outputs": [
    {
     "name": "stdout",
     "output_type": "stream",
     "text": [
      "(1,376 real changes made)\n"
     ]
    }
   ],
   "source": [
    "replace anl_abuse_dependence = 1 if ABODANL == 1 "
   ]
  },
  {
   "cell_type": "code",
   "execution_count": 114,
   "metadata": {},
   "outputs": [],
   "source": [
    "// Treatment for Opioid Use Disorders "
   ]
  },
  {
   "cell_type": "code",
   "execution_count": 115,
   "metadata": {},
   "outputs": [],
   "source": [
    "// Hospital overnight, inpatient treatment at rehab facility "
   ]
  },
  {
   "cell_type": "code",
   "execution_count": 116,
   "metadata": {},
   "outputs": [
    {
     "name": "stdout",
     "output_type": "stream",
     "text": [
      "\n",
      "     TRMT FOR ALC, DRUG OR BOTH PAST 12 |\n",
      "                                 MONTHS |      Freq.     Percent        Cum.\n",
      "----------------------------------------+-----------------------------------\n",
      "                       Alcohol use only |        663        0.81        0.81\n",
      "                          Drug use only |        682        0.84        1.65\n",
      "              Both alcohol and drug use |        666        0.82        2.47\n",
      "                                      4 |          1        0.00        2.47\n",
      "Drugs (alcohol trmt unknown) LOGICALLY  |          6        0.01        2.48\n",
      "                                      6 |          1        0.00        2.48\n",
      "Alcohol only (but last tmt for drugs re |         72        0.09        2.57\n",
      "Drugs only (but last tmt for alc report |         71        0.09        2.65\n",
      "NEVER USED ALCOHOL OR DRUGS Logically a |         13        0.02        2.67\n",
      "            BAD DATA Logically assigned |          3        0.00        2.67\n",
      "            NEVER USED ALCOHOL OR DRUGS |      6,318        7.76       10.43\n",
      "                             DON'T KNOW |          3        0.00       10.43\n",
      "                                REFUSED |         81        0.10       10.53\n",
      "                      BLANK (NO ANSWER) |        301        0.37       10.90\n",
      "                        LEGITIMATE SKIP |     72,580       89.10      100.00\n",
      "----------------------------------------+-----------------------------------\n",
      "                                  Total |     81,461      100.00\n"
     ]
    }
   ],
   "source": [
    "tab  TXYRADG"
   ]
  },
  {
   "cell_type": "code",
   "execution_count": 117,
   "metadata": {},
   "outputs": [
    {
     "name": "stdout",
     "output_type": "stream",
     "text": [
      "\n",
      "RCVD TXFILL1 TRMT IN HOSP/OVERNIGHT PST |\n",
      "                                 12 MOS |      Freq.     Percent        Cum.\n",
      "----------------------------------------+-----------------------------------\n",
      "                                    Yes |        376        0.46        0.46\n",
      "                                     No |      1,768        2.17        2.63\n",
      " Yes LOGICALLY ASSIGNED (from TXLTYMN2) |         16        0.02        2.65\n",
      "NEVER USED ALCOHOL OR DRUGS Logically a |         13        0.02        2.67\n",
      "            BAD DATA Logically assigned |          3        0.00        2.67\n",
      "            NEVER USED ALCOHOL OR DRUGS |      6,318        7.76       10.43\n",
      "                             DON'T KNOW |          1        0.00       10.43\n",
      "                                REFUSED |         82        0.10       10.53\n",
      "                      BLANK (NO ANSWER) |        304        0.37       10.90\n",
      "                        LEGITIMATE SKIP |     72,580       89.10      100.00\n",
      "----------------------------------------+-----------------------------------\n",
      "                                  Total |     81,461      100.00\n"
     ]
    }
   ],
   "source": [
    "tab TXYRHOSP, miss"
   ]
  },
  {
   "cell_type": "code",
   "execution_count": 118,
   "metadata": {},
   "outputs": [
    {
     "name": "stdout",
     "output_type": "stream",
     "text": [
      "\n",
      " HOSP/OVERNIGHT TRMT FOR ALC, DRUGS, OR |\n",
      "                                   BOTH |      Freq.     Percent        Cum.\n",
      "----------------------------------------+-----------------------------------\n",
      "                            Alcohol use |         13        0.02        0.02\n",
      "                               Drug use |         11        0.01        0.03\n",
      "              Both alcohol and drug use |         99        0.12        0.15\n",
      "NEVER USED ALCOHOL OR DRUGS Logically a |         13        0.02        0.17\n",
      "            NEVER USED ALCOHOL OR DRUGS |      6,318        7.76        7.92\n",
      "                                REFUSED |         77        0.09        8.02\n",
      "                      BLANK (NO ANSWER) |        368        0.45        8.47\n",
      "                        LEGITIMATE SKIP |     74,562       91.53      100.00\n",
      "----------------------------------------+-----------------------------------\n",
      "                                  Total |     81,461      100.00\n"
     ]
    }
   ],
   "source": [
    "tab TXYRHPAD, miss"
   ]
  },
  {
   "cell_type": "code",
   "execution_count": 119,
   "metadata": {},
   "outputs": [
    {
     "name": "stdout",
     "output_type": "stream",
     "text": [
      "(79,299 real changes made, 79,299 to missing)\n"
     ]
    }
   ],
   "source": [
    "replace TXYRADG = . if TXYRADG >= 81 "
   ]
  },
  {
   "cell_type": "code",
   "execution_count": 120,
   "metadata": {},
   "outputs": [
    {
     "name": "stdout",
     "output_type": "stream",
     "text": [
      "(79,301 real changes made, 79,301 to missing)\n"
     ]
    }
   ],
   "source": [
    "replace TXYRHOSP = .  if TXYRHOSP >= 81"
   ]
  },
  {
   "cell_type": "code",
   "execution_count": 121,
   "metadata": {},
   "outputs": [
    {
     "name": "stdout",
     "output_type": "stream",
     "text": [
      "(81,338 real changes made, 81,338 to missing)\n"
     ]
    }
   ],
   "source": [
    "replace TXYRHPAD = . if TXYRHPAD >= 81 "
   ]
  },
  {
   "cell_type": "code",
   "execution_count": 122,
   "metadata": {},
   "outputs": [
    {
     "name": "stdout",
     "output_type": "stream",
     "text": [
      "(79,301 real changes made, 79,301 to missing)\n"
     ]
    }
   ],
   "source": [
    "replace TXYRRFIN = . if TXYRRFIN >= 81 "
   ]
  },
  {
   "cell_type": "code",
   "execution_count": 123,
   "metadata": {},
   "outputs": [
    {
     "name": "stdout",
     "output_type": "stream",
     "text": [
      "(81,263 real changes made, 81,263 to missing)\n"
     ]
    }
   ],
   "source": [
    "replace TXYRINAD = . if TXYRINAD >= 81 "
   ]
  },
  {
   "cell_type": "code",
   "execution_count": 124,
   "metadata": {},
   "outputs": [
    {
     "name": "stdout",
     "output_type": "stream",
     "text": [
      "(79,293 real changes made, 79,293 to missing)\n"
     ]
    }
   ],
   "source": [
    "replace DRGHOSP = . if (TXYRADG == . & TXYRHPAD == . & TXYRHOSP ==.)"
   ]
  },
  {
   "cell_type": "code",
   "execution_count": 125,
   "metadata": {},
   "outputs": [
    {
     "name": "stdout",
     "output_type": "stream",
     "text": [
      "(79,292 real changes made, 79,292 to missing)\n"
     ]
    }
   ],
   "source": [
    "replace DRGRFIN = . if (TXYRADG == . & TXYRRFIN == . & TXYRINAD==.)"
   ]
  },
  {
   "cell_type": "code",
   "execution_count": 126,
   "metadata": {},
   "outputs": [],
   "source": [
    "gen inpatient_drug_treat = 0 "
   ]
  },
  {
   "cell_type": "code",
   "execution_count": 127,
   "metadata": {},
   "outputs": [
    {
     "name": "stdout",
     "output_type": "stream",
     "text": [
      "(497 real changes made)\n"
     ]
    }
   ],
   "source": [
    "replace inpatient_drug_treat = 1 if (DRGHOSP == 1 | DRGRFIN == 1)"
   ]
  },
  {
   "cell_type": "code",
   "execution_count": 128,
   "metadata": {},
   "outputs": [
    {
     "name": "stdout",
     "output_type": "stream",
     "text": [
      "(79,293 real changes made, 79,293 to missing)\n"
     ]
    }
   ],
   "source": [
    "replace inpatient_drug_treat = . if (DRGHOSP ==. | DRGRFIN ==.)"
   ]
  },
  {
   "cell_type": "code",
   "execution_count": 129,
   "metadata": {},
   "outputs": [],
   "source": [
    " // Outpatient Drug Treatment: rehab facility, mental health center, private doctor's office "
   ]
  },
  {
   "cell_type": "code",
   "execution_count": 130,
   "metadata": {},
   "outputs": [
    {
     "name": "stdout",
     "output_type": "stream",
     "text": [
      "(0 real changes made)\n"
     ]
    }
   ],
   "source": [
    "replace TXYRADG = . if TXYRADG >=81"
   ]
  },
  {
   "cell_type": "code",
   "execution_count": 131,
   "metadata": {},
   "outputs": [
    {
     "name": "stdout",
     "output_type": "stream",
     "text": [
      "(79,305 real changes made, 79,305 to missing)\n"
     ]
    }
   ],
   "source": [
    "replace TXYRRFOP = .  if TXYRRFOP >=81 "
   ]
  },
  {
   "cell_type": "code",
   "execution_count": 132,
   "metadata": {},
   "outputs": [
    {
     "name": "stdout",
     "output_type": "stream",
     "text": [
      "(81,120 real changes made, 81,120 to missing)\n"
     ]
    }
   ],
   "source": [
    "replace TXYRPOAD = . if TXYRPOAD >= 81 "
   ]
  },
  {
   "cell_type": "code",
   "execution_count": 133,
   "metadata": {},
   "outputs": [
    {
     "name": "stdout",
     "output_type": "stream",
     "text": [
      "(79,292 real changes made, 79,292 to missing)\n"
     ]
    }
   ],
   "source": [
    "replace DRGRFOP = . if ( TXYRADG ==. & TXYRRFOP ==. & TXYRPOAD == .)"
   ]
  },
  {
   "cell_type": "code",
   "execution_count": 134,
   "metadata": {},
   "outputs": [
    {
     "name": "stdout",
     "output_type": "stream",
     "text": [
      "(79,306 real changes made, 79,306 to missing)\n"
     ]
    }
   ],
   "source": [
    "replace TXYRMHC = . if TXYRMHC >= 81 "
   ]
  },
  {
   "cell_type": "code",
   "execution_count": 135,
   "metadata": {},
   "outputs": [
    {
     "name": "stdout",
     "output_type": "stream",
     "text": [
      "(81,285 real changes made, 81,285 to missing)\n"
     ]
    }
   ],
   "source": [
    "replace TXYRMHAD = . if TXYRMHAD >= 81"
   ]
  },
  {
   "cell_type": "code",
   "execution_count": 136,
   "metadata": {},
   "outputs": [
    {
     "name": "stdout",
     "output_type": "stream",
     "text": [
      "(79,292 real changes made, 79,292 to missing)\n"
     ]
    }
   ],
   "source": [
    "replace DRGMHC = . if (TXYRMHC == . & TXYRMHA ==. & TXYRADG ==.)"
   ]
  },
  {
   "cell_type": "code",
   "execution_count": 137,
   "metadata": {},
   "outputs": [
    {
     "name": "stdout",
     "output_type": "stream",
     "text": [
      "(79,304 real changes made, 79,304 to missing)\n"
     ]
    }
   ],
   "source": [
    "replace TXYRDOC = . if TXYRDOC >= 81 "
   ]
  },
  {
   "cell_type": "code",
   "execution_count": 138,
   "metadata": {},
   "outputs": [
    {
     "name": "stdout",
     "output_type": "stream",
     "text": [
      "(81,375 real changes made, 81,375 to missing)\n"
     ]
    }
   ],
   "source": [
    "replace TXYRDCAD =. if TXYRDCAD >= 81 "
   ]
  },
  {
   "cell_type": "code",
   "execution_count": 139,
   "metadata": {},
   "outputs": [
    {
     "name": "stdout",
     "output_type": "stream",
     "text": [
      "(79,292 real changes made, 79,292 to missing)\n"
     ]
    }
   ],
   "source": [
    "replace DRGDOC = . if (TXYRADG == . & TXYRDOC ==. & TXYRDCAD ==.)"
   ]
  },
  {
   "cell_type": "code",
   "execution_count": 140,
   "metadata": {},
   "outputs": [],
   "source": [
    "gen outpatient_drug_treat = 0 "
   ]
  },
  {
   "cell_type": "code",
   "execution_count": 141,
   "metadata": {},
   "outputs": [
    {
     "name": "stdout",
     "output_type": "stream",
     "text": [
      "(977 real changes made)\n"
     ]
    }
   ],
   "source": [
    "replace outpatient_drug_treat = 1 if (DRGRFOP == 1 | DRGMHC == 1| DRGDOC == 1)"
   ]
  },
  {
   "cell_type": "code",
   "execution_count": 142,
   "metadata": {},
   "outputs": [
    {
     "name": "stdout",
     "output_type": "stream",
     "text": [
      "(79,292 real changes made, 79,292 to missing)\n"
     ]
    }
   ],
   "source": [
    "replace outpatient_drug_treat = . if (DRGRFOP == . | DRGMHC == .| DRGDOC == .)"
   ]
  },
  {
   "cell_type": "code",
   "execution_count": 143,
   "metadata": {},
   "outputs": [],
   "source": [
    "// Emergency room visits "
   ]
  },
  {
   "cell_type": "code",
   "execution_count": 144,
   "metadata": {},
   "outputs": [
    {
     "name": "stdout",
     "output_type": "stream",
     "text": [
      "(75,253 real changes made, 75,253 to missing)\n"
     ]
    }
   ],
   "source": [
    "replace TXYREVER =. if TXYREVER >= 81 "
   ]
  },
  {
   "cell_type": "code",
   "execution_count": 145,
   "metadata": {},
   "outputs": [
    {
     "name": "stdout",
     "output_type": "stream",
     "text": [
      "(81,394 real changes made, 81,394 to missing)\n"
     ]
    }
   ],
   "source": [
    "replace TXYRERAD = . if TXYRERAD >= 81 "
   ]
  },
  {
   "cell_type": "code",
   "execution_count": 146,
   "metadata": {},
   "outputs": [],
   "source": [
    "gen emergency_room = 0 "
   ]
  },
  {
   "cell_type": "code",
   "execution_count": 147,
   "metadata": {},
   "outputs": [
    {
     "name": "stdout",
     "output_type": "stream",
     "text": [
      "(152 real changes made)\n"
     ]
    }
   ],
   "source": [
    "replace emergency_room = 1 if DRGTXE == 1 "
   ]
  },
  {
   "cell_type": "code",
   "execution_count": 148,
   "metadata": {},
   "outputs": [
    {
     "name": "stdout",
     "output_type": "stream",
     "text": [
      "(75,253 real changes made, 75,253 to missing)\n"
     ]
    }
   ],
   "source": [
    "replace emergency_room = . if (TXYRADG == . & TXYREVER ==. & TXYRERAD ==.)"
   ]
  },
  {
   "cell_type": "code",
   "execution_count": 149,
   "metadata": {},
   "outputs": [],
   "source": [
    "// Treatment for pain relievers "
   ]
  },
  {
   "cell_type": "code",
   "execution_count": 150,
   "metadata": {},
   "outputs": [
    {
     "name": "stdout",
     "output_type": "stream",
     "text": [
      "\n",
      " RECEIVED LAST/CURRENT |\n",
      "    TREATMENT FOR PAIN |\n",
      "             RELIEVERS |      Freq.     Percent        Cum.\n",
      "-----------------------+-----------------------------------\n",
      "No/Unknown (Otherwise) |     80,793       99.18       99.18\n",
      "    Yes (TXLTYANL=1,3) |        668        0.82      100.00\n",
      "-----------------------+-----------------------------------\n",
      "                 Total |     81,461      100.00\n"
     ]
    }
   ],
   "source": [
    "tab TXLTANL2, miss"
   ]
  },
  {
   "cell_type": "code",
   "execution_count": 151,
   "metadata": {},
   "outputs": [],
   "source": [
    "gen opioid_treatment = 0 "
   ]
  },
  {
   "cell_type": "code",
   "execution_count": 152,
   "metadata": {},
   "outputs": [
    {
     "name": "stdout",
     "output_type": "stream",
     "text": [
      "(668 real changes made)\n"
     ]
    }
   ],
   "source": [
    "replace opioid_treatment = 1 if TXLTANL2 == 1 "
   ]
  },
  {
   "cell_type": "code",
   "execution_count": 153,
   "metadata": {},
   "outputs": [
    {
     "name": "stdout",
     "output_type": "stream",
     "text": [
      "(79,299 real changes made, 79,299 to missing)\n"
     ]
    }
   ],
   "source": [
    "replace opioid_treatment = . if TXYRADG == . "
   ]
  },
  {
   "cell_type": "code",
   "execution_count": 154,
   "metadata": {},
   "outputs": [
    {
     "name": "stdout",
     "output_type": "stream",
     "text": [
      "\n",
      "opioid_trea |\n",
      "      tment |      Freq.     Percent        Cum.\n",
      "------------+-----------------------------------\n",
      "          0 |      1,496        1.84        1.84\n",
      "          1 |        666        0.82        2.65\n",
      "          . |     79,299       97.35      100.00\n",
      "------------+-----------------------------------\n",
      "      Total |     81,461      100.00\n"
     ]
    }
   ],
   "source": [
    "tab opioid_treatment, miss"
   ]
  },
  {
   "cell_type": "code",
   "execution_count": 155,
   "metadata": {},
   "outputs": [
    {
     "name": "stdout",
     "output_type": "stream",
     "text": [
      "file NSDUH_CLEAN.dta saved\n"
     ]
    }
   ],
   "source": [
    "save NSDUH_CLEAN.dta, replace "
   ]
  }
 ],
 "metadata": {
  "kernelspec": {
   "display_name": "Stata",
   "language": "stata",
   "name": "stata"
  },
  "language_info": {
   "codemirror_mode": "stata",
   "file_extension": ".do",
   "mimetype": "text/x-stata",
   "name": "stata",
   "version": "15.1"
  }
 },
 "nbformat": 4,
 "nbformat_minor": 2
}
