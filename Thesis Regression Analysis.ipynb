{
 "cells": [
  {
   "cell_type": "code",
   "execution_count": 1,
   "metadata": {},
   "outputs": [],
   "source": [
    "clear"
   ]
  },
  {
   "cell_type": "code",
   "execution_count": 2,
   "metadata": {},
   "outputs": [
    {
     "name": "stdout",
     "output_type": "stream",
     "text": [
      "(National Survey on Drug Use and Health, 2014)\n"
     ]
    }
   ],
   "source": [
    "use \"C:\\Users\\Patricia P\\NSDUH_CLEAN.dta\", clear"
   ]
  },
  {
   "cell_type": "code",
   "execution_count": 3,
   "metadata": {},
   "outputs": [],
   "source": [
    "local xlist female black hispanic other_race metropolitan_area"
   ]
  },
  {
   "cell_type": "code",
   "execution_count": 4,
   "metadata": {},
   "outputs": [
    {
     "name": "stdout",
     "output_type": "stream",
     "text": [
      "\n",
      "    Variable |        Obs        Mean    Std. Dev.       Min        Max\n",
      "-------------+---------------------------------------------------------\n",
      "      female |     81,461    .5348203    .4987891          0          1\n",
      "       black |     81,461     .129829    .3361173          0          1\n",
      "    hispanic |     81,461     .180258    .3844046          0          1\n",
      "  other_race |     81,461    .0986116    .2981417          0          1\n",
      "metropolit~a |     81,461    .8006653    .3995026          0          1\n"
     ]
    }
   ],
   "source": [
    "sum `xlist'"
   ]
  },
  {
   "cell_type": "code",
   "execution_count": 5,
   "metadata": {},
   "outputs": [],
   "source": [
    "// Insurance Status "
   ]
  },
  {
   "cell_type": "code",
   "execution_count": null,
   "metadata": {},
   "outputs": [],
   "source": []
  },
  {
   "cell_type": "code",
   "execution_count": 6,
   "metadata": {},
   "outputs": [
    {
     "name": "stdout",
     "output_type": "stream",
     "text": [
      "\n",
      "Iteration 0:   log pseudolikelihood = -47093.539  \n",
      "Iteration 1:   log pseudolikelihood = -45071.333  \n",
      "Iteration 2:   log pseudolikelihood = -45037.848  \n",
      "Iteration 3:   log pseudolikelihood = -45037.839  \n",
      "Iteration 4:   log pseudolikelihood = -45037.839  \n",
      "\n",
      "Logistic regression                             Number of obs     =     81,066\n",
      "                                                Wald chi2(14)     =   13904.01\n",
      "                                                Prob > chi2       =     0.0000\n",
      "Log pseudolikelihood = -45037.839               Pseudo R2         =     0.0437\n",
      "\n",
      "                                                            (Std. Err. adjusted for 21 clusters in clustvar)\n",
      "------------------------------------------------------------------------------------------------------------\n",
      "                                           |               Robust\n",
      "                             any_insurance |      Coef.   Std. Err.      z    P>|z|     [95% Conf. Interval]\n",
      "-------------------------------------------+----------------------------------------------------------------\n",
      "                                        DD |   .3456468   .0307042    11.26   0.000     .2854677     .405826\n",
      "                                           |\n",
      "                                      AGE2 |\n",
      "         Respondent is 24 or 25 years old  |  -.0261928   .0255697    -1.02   0.306    -.0763085    .0239229\n",
      "Respondent is between 26 and 29 years old  |   .1768401   .0269802     6.55   0.000     .1239599    .2297202\n",
      "                                           |\n",
      "                                      YEAR |\n",
      "                                     2009  |  -.0774928   .0503884    -1.54   0.124    -.1762522    .0212667\n",
      "                                     2010  |  -.0482428   .0507383    -0.95   0.342    -.1476881    .0512026\n",
      "                                     2011  |  -.2182448    .048468    -4.50   0.000    -.3132403   -.1232494\n",
      "                                     2012  |   -.102194   .0406065    -2.52   0.012    -.1817813   -.0226067\n",
      "                                     2013  |  -.0396225   .0409245    -0.97   0.333    -.1198331     .040588\n",
      "                                     2014  |    .232693   .0396024     5.88   0.000     .1550737    .3103123\n",
      "                                           |\n",
      "                                    female |   .5110433   .0200265    25.52   0.000     .4717921    .5502945\n",
      "                                     black |  -.4703279   .0439191   -10.71   0.000    -.5564077   -.3842481\n",
      "                                  hispanic |  -1.040088    .024969   -41.66   0.000    -1.089026   -.9911492\n",
      "                                other_race |    .005318   .0320223     0.17   0.868    -.0574446    .0680806\n",
      "                         metropolitan_area |   .2540796   .0203808    12.47   0.000     .2141341    .2940252\n",
      "                                     _cons |   .6949487   .0591788    11.74   0.000     .5789604     .810937\n",
      "------------------------------------------------------------------------------------------------------------\n"
     ]
    }
   ],
   "source": [
    "logit any_insurance DD i.AGE i.YEAR `xlist', vce(cluster clustvar)"
   ]
  },
  {
   "cell_type": "code",
   "execution_count": 7,
   "metadata": {},
   "outputs": [
    {
     "name": "stdout",
     "output_type": "stream",
     "text": [
      "\n",
      "Average marginal effects                        Number of obs     =     81,066\n",
      "Model VCE    : Robust\n",
      "\n",
      "Expression   : Pr(any_insurance), predict()\n",
      "dy/dx w.r.t. : DD female black hispanic other_race metropolitan_area\n",
      "\n",
      "-----------------------------------------------------------------------------------\n",
      "                  |            Delta-method\n",
      "                  |      dy/dx   Std. Err.      z    P>|z|     [95% Conf. Interval]\n",
      "------------------+----------------------------------------------------------------\n",
      "               DD |   .0642157   .0057756    11.12   0.000     .0528958    .0755356\n",
      "           female |   .0949438   .0035477    26.76   0.000     .0879905    .1018971\n",
      "            black |  -.0873795   .0079463   -11.00   0.000    -.1029539   -.0718051\n",
      "         hispanic |  -.1932319   .0040354   -47.88   0.000    -.2011411   -.1853227\n",
      "       other_race |    .000988   .0059491     0.17   0.868    -.0106721    .0126481\n",
      "metropolitan_area |    .047204   .0037647    12.54   0.000     .0398253    .0545827\n",
      "-----------------------------------------------------------------------------------\n"
     ]
    }
   ],
   "source": [
    "margins, dydx(DD `xlist') post"
   ]
  },
  {
   "cell_type": "code",
   "execution_count": 8,
   "metadata": {
    "scrolled": true
   },
   "outputs": [
    {
     "name": "stdout",
     "output_type": "stream",
     "text": [
      "\n",
      "Iteration 0:   log pseudolikelihood = -56024.149  \n",
      "Iteration 1:   log pseudolikelihood = -53444.285  \n",
      "Iteration 2:   log pseudolikelihood = -53441.279  \n",
      "Iteration 3:   log pseudolikelihood = -53441.279  \n",
      "\n",
      "Logistic regression                             Number of obs     =     81,187\n",
      "                                                Wald chi2(14)     =   10262.68\n",
      "                                                Prob > chi2       =     0.0000\n",
      "Log pseudolikelihood = -53441.279               Pseudo R2         =     0.0461\n",
      "\n",
      "                                                            (Std. Err. adjusted for 21 clusters in clustvar)\n",
      "------------------------------------------------------------------------------------------------------------\n",
      "                                           |               Robust\n",
      "                         private_insurance |      Coef.   Std. Err.      z    P>|z|     [95% Conf. Interval]\n",
      "-------------------------------------------+----------------------------------------------------------------\n",
      "                                        DD |   .2879303   .0275104    10.47   0.000     .2340108    .3418498\n",
      "                                           |\n",
      "                                      AGE2 |\n",
      "         Respondent is 24 or 25 years old  |  -.0069649   .0221688    -0.31   0.753    -.0504149     .036485\n",
      "Respondent is between 26 and 29 years old  |   .2161071   .0244908     8.82   0.000      .168106    .2641083\n",
      "                                           |\n",
      "                                      YEAR |\n",
      "                                     2009  |  -.1000368   .0459081    -2.18   0.029     -.190015   -.0100586\n",
      "                                     2010  |  -.1344644   .0459614    -2.93   0.003    -.2245471   -.0443817\n",
      "                                     2011  |  -.2909475   .0405943    -7.17   0.000    -.3705109   -.2113842\n",
      "                                     2012  |  -.2083932   .0382225    -5.45   0.000     -.283308   -.1334784\n",
      "                                     2013  |  -.1539398   .0347932    -4.42   0.000    -.2221333   -.0857464\n",
      "                                     2014  |  -.0271494   .0347434    -0.78   0.435    -.0952453    .0409465\n",
      "                                           |\n",
      "                                    female |  -.1315116   .0162943    -8.07   0.000    -.1634478   -.0995755\n",
      "                                     black |  -1.033214    .027304   -37.84   0.000    -1.086729   -.9796993\n",
      "                                  hispanic |  -1.157085   .0204167   -56.67   0.000    -1.197101   -1.117069\n",
      "                                other_race |   -.395737   .0340761   -11.61   0.000    -.4625248   -.3289491\n",
      "                         metropolitan_area |   .4494766    .016098    27.92   0.000     .4179251    .4810281\n",
      "                                     _cons |   .2158454   .0501087     4.31   0.000     .1176342    .3140566\n",
      "------------------------------------------------------------------------------------------------------------\n"
     ]
    }
   ],
   "source": [
    "logit private_insurance DD i.AGE2 i.YEAR `xlist', vce(cluster clustvar)"
   ]
  },
  {
   "cell_type": "code",
   "execution_count": 9,
   "metadata": {},
   "outputs": [
    {
     "name": "stdout",
     "output_type": "stream",
     "text": [
      "\n",
      "Average marginal effects                        Number of obs     =     81,187\n",
      "Model VCE    : Robust\n",
      "\n",
      "Expression   : Pr(private_insurance), predict()\n",
      "dy/dx w.r.t. : DD female black hispanic other_race metropolitan_area\n",
      "\n",
      "-----------------------------------------------------------------------------------\n",
      "                  |            Delta-method\n",
      "                  |      dy/dx   Std. Err.      z    P>|z|     [95% Conf. Interval]\n",
      "------------------+----------------------------------------------------------------\n",
      "               DD |   .0670506   .0064483    10.40   0.000     .0544122     .079689\n",
      "           female |  -.0306252   .0037894    -8.08   0.000    -.0380523   -.0231982\n",
      "            black |  -.2406055     .00602   -39.97   0.000    -.2524045   -.2288065\n",
      "         hispanic |  -.2694514    .004311   -62.50   0.000    -.2779009   -.2610019\n",
      "       other_race |  -.0921556   .0078373   -11.76   0.000    -.1075165   -.0767947\n",
      "metropolitan_area |     .10467   .0036802    28.44   0.000      .097457    .1118831\n",
      "-----------------------------------------------------------------------------------\n"
     ]
    }
   ],
   "source": [
    "margins, dydx(DD `xlist') post"
   ]
  },
  {
   "cell_type": "code",
   "execution_count": 10,
   "metadata": {},
   "outputs": [
    {
     "name": "stdout",
     "output_type": "stream",
     "text": [
      "\n",
      "Iteration 0:   log pseudolikelihood = -33913.684  \n",
      "Iteration 1:   log pseudolikelihood = -31521.133  \n",
      "Iteration 2:   log pseudolikelihood = -31327.127  \n",
      "Iteration 3:   log pseudolikelihood =  -31326.51  \n",
      "Iteration 4:   log pseudolikelihood =  -31326.51  \n",
      "\n",
      "Logistic regression                             Number of obs     =     81,167\n",
      "                                                Wald chi2(14)     =    3709.20\n",
      "                                                Prob > chi2       =     0.0000\n",
      "Log pseudolikelihood =  -31326.51               Pseudo R2         =     0.0763\n",
      "\n",
      "                                                            (Std. Err. adjusted for 21 clusters in clustvar)\n",
      "------------------------------------------------------------------------------------------------------------\n",
      "                                           |               Robust\n",
      "                        medicaid_insurance |      Coef.   Std. Err.      z    P>|z|     [95% Conf. Interval]\n",
      "-------------------------------------------+----------------------------------------------------------------\n",
      "                                        DD |  -.0366132   .0327251    -1.12   0.263    -.1007533    .0275269\n",
      "                                           |\n",
      "                                      AGE2 |\n",
      "         Respondent is 24 or 25 years old  |   .0099586   .0180876     0.55   0.582    -.0254925    .0454097\n",
      "Respondent is between 26 and 29 years old  |  -.0254016   .0248972    -1.02   0.308    -.0741993     .023396\n",
      "                                           |\n",
      "                                      YEAR |\n",
      "                                     2009  |   .0629258   .0334534     1.88   0.060    -.0026417    .1284932\n",
      "                                     2010  |   .1129726   .0309532     3.65   0.000     .0523055    .1736396\n",
      "                                     2011  |   .1962366   .0381886     5.14   0.000     .1213884    .2710848\n",
      "                                     2012  |    .205512    .040685     5.05   0.000     .1257708    .2852532\n",
      "                                     2013  |   .1737233   .0340818     5.10   0.000     .1069242    .2405224\n",
      "                                     2014  |   .2873967   .0428377     6.71   0.000     .2034363     .371357\n",
      "                                           |\n",
      "                                    female |   1.169671   .0330303    35.41   0.000     1.104933     1.23441\n",
      "                                     black |   1.228478   .0411987    29.82   0.000      1.14773    1.309226\n",
      "                                  hispanic |   .6144343   .0319769    19.21   0.000     .5517607    .6771078\n",
      "                                other_race |   .4002642   .0410749     9.74   0.000     .3197588    .4807695\n",
      "                         metropolitan_area |  -.4383924   .0241638   -18.14   0.000    -.4857526   -.3910322\n",
      "                                     _cons |  -2.657077   .0425471   -62.45   0.000    -2.740468   -2.573686\n",
      "------------------------------------------------------------------------------------------------------------\n"
     ]
    }
   ],
   "source": [
    "logit medicaid_insurance DD i.AGE2 i.YEAR `xlist', vce(cluster clustvar)"
   ]
  },
  {
   "cell_type": "code",
   "execution_count": 11,
   "metadata": {
    "scrolled": true
   },
   "outputs": [
    {
     "name": "stdout",
     "output_type": "stream",
     "text": [
      "\n",
      "Average marginal effects                        Number of obs     =     81,167\n",
      "Model VCE    : Robust\n",
      "\n",
      "Expression   : Pr(medicaid_insurance), predict()\n",
      "dy/dx w.r.t. : DD female black hispanic other_race metropolitan_area\n",
      "\n",
      "-----------------------------------------------------------------------------------\n",
      "                  |            Delta-method\n",
      "                  |      dy/dx   Std. Err.      z    P>|z|     [95% Conf. Interval]\n",
      "------------------+----------------------------------------------------------------\n",
      "               DD |  -.0042871   .0038394    -1.12   0.264    -.0118121    .0032379\n",
      "           female |   .1369591    .003607    37.97   0.000     .1298896    .1440287\n",
      "            black |   .1438449   .0043645    32.96   0.000     .1352906    .1523992\n",
      "         hispanic |   .0719453   .0035735    20.13   0.000     .0649415    .0789492\n",
      "       other_race |   .0468677   .0047608     9.84   0.000     .0375366    .0561988\n",
      "metropolitan_area |  -.0513322   .0028582   -17.96   0.000    -.0569341   -.0457304\n",
      "-----------------------------------------------------------------------------------\n"
     ]
    }
   ],
   "source": [
    "margins, dydx(DD `xlist') post"
   ]
  },
  {
   "cell_type": "code",
   "execution_count": 12,
   "metadata": {},
   "outputs": [
    {
     "name": "stdout",
     "output_type": "stream",
     "text": [
      "\n",
      "Iteration 0:   log pseudolikelihood = -47093.539  \n",
      "Iteration 1:   log pseudolikelihood = -45071.333  \n",
      "Iteration 2:   log pseudolikelihood = -45037.848  \n",
      "Iteration 3:   log pseudolikelihood = -45037.839  \n",
      "Iteration 4:   log pseudolikelihood = -45037.839  \n",
      "\n",
      "Logistic regression                             Number of obs     =     81,066\n",
      "                                                Wald chi2(14)     =   13904.01\n",
      "                                                Prob > chi2       =     0.0000\n",
      "Log pseudolikelihood = -45037.839               Pseudo R2         =     0.0437\n",
      "\n",
      "                                                            (Std. Err. adjusted for 21 clusters in clustvar)\n",
      "------------------------------------------------------------------------------------------------------------\n",
      "                                           |               Robust\n",
      "                                 uninsured |      Coef.   Std. Err.      z    P>|z|     [95% Conf. Interval]\n",
      "-------------------------------------------+----------------------------------------------------------------\n",
      "                                        DD |  -.3456468   .0307042   -11.26   0.000     -.405826   -.2854677\n",
      "                                           |\n",
      "                                      AGE2 |\n",
      "         Respondent is 24 or 25 years old  |   .0261928   .0255697     1.02   0.306    -.0239229    .0763085\n",
      "Respondent is between 26 and 29 years old  |  -.1768401   .0269802    -6.55   0.000    -.2297202   -.1239599\n",
      "                                           |\n",
      "                                      YEAR |\n",
      "                                     2009  |   .0774928   .0503884     1.54   0.124    -.0212667    .1762522\n",
      "                                     2010  |   .0482428   .0507383     0.95   0.342    -.0512026    .1476881\n",
      "                                     2011  |   .2182448    .048468     4.50   0.000     .1232494    .3132403\n",
      "                                     2012  |    .102194   .0406065     2.52   0.012     .0226067    .1817813\n",
      "                                     2013  |   .0396225   .0409245     0.97   0.333     -.040588    .1198331\n",
      "                                     2014  |   -.232693   .0396024    -5.88   0.000    -.3103123   -.1550737\n",
      "                                           |\n",
      "                                    female |  -.5110433   .0200265   -25.52   0.000    -.5502945   -.4717921\n",
      "                                     black |   .4703279   .0439191    10.71   0.000     .3842481    .5564077\n",
      "                                  hispanic |   1.040088    .024969    41.66   0.000     .9911492    1.089026\n",
      "                                other_race |   -.005318   .0320223    -0.17   0.868    -.0680806    .0574446\n",
      "                         metropolitan_area |  -.2540796   .0203808   -12.47   0.000    -.2940252   -.2141341\n",
      "                                     _cons |  -.6949487   .0591788   -11.74   0.000     -.810937   -.5789604\n",
      "------------------------------------------------------------------------------------------------------------\n"
     ]
    }
   ],
   "source": [
    "logit uninsured DD i.AGE2 i.YEAR `xlist', vce(cluster clustvar)"
   ]
  },
  {
   "cell_type": "code",
   "execution_count": 13,
   "metadata": {},
   "outputs": [
    {
     "name": "stdout",
     "output_type": "stream",
     "text": [
      "\n",
      "Average marginal effects                        Number of obs     =     81,066\n",
      "Model VCE    : Robust\n",
      "\n",
      "Expression   : Pr(uninsured), predict()\n",
      "dy/dx w.r.t. : DD female black hispanic other_race metropolitan_area\n",
      "\n",
      "-----------------------------------------------------------------------------------\n",
      "                  |            Delta-method\n",
      "                  |      dy/dx   Std. Err.      z    P>|z|     [95% Conf. Interval]\n",
      "------------------+----------------------------------------------------------------\n",
      "               DD |  -.0642157   .0057756   -11.12   0.000    -.0755356   -.0528958\n",
      "           female |  -.0949438   .0035477   -26.76   0.000    -.1018971   -.0879905\n",
      "            black |   .0873795   .0079463    11.00   0.000     .0718051    .1029539\n",
      "         hispanic |   .1932319   .0040354    47.88   0.000     .1853227    .2011411\n",
      "       other_race |   -.000988   .0059491    -0.17   0.868    -.0126481    .0106721\n",
      "metropolitan_area |   -.047204   .0037647   -12.54   0.000    -.0545827   -.0398253\n",
      "-----------------------------------------------------------------------------------\n"
     ]
    }
   ],
   "source": [
    "margins, dydx(DD `xlist') post"
   ]
  },
  {
   "cell_type": "code",
   "execution_count": 14,
   "metadata": {},
   "outputs": [],
   "source": [
    "// Opioid Use Disorders "
   ]
  },
  {
   "cell_type": "code",
   "execution_count": 15,
   "metadata": {
    "scrolled": true
   },
   "outputs": [
    {
     "name": "stdout",
     "output_type": "stream",
     "text": [
      "\n",
      "    Variable |        Obs        Mean    Std. Dev.       Min        Max\n",
      "-------------+---------------------------------------------------------\n",
      "painreli~12m |     81,358    .0918779    .2888552          0          1\n"
     ]
    }
   ],
   "source": [
    "sum painreliever_misuse_12m"
   ]
  },
  {
   "cell_type": "code",
   "execution_count": 16,
   "metadata": {},
   "outputs": [
    {
     "name": "stdout",
     "output_type": "stream",
     "text": [
      "\n",
      "Iteration 0:   log pseudolikelihood = -24965.609  \n",
      "Iteration 1:   log pseudolikelihood =  -24596.03  \n",
      "Iteration 2:   log pseudolikelihood = -24588.521  \n",
      "Iteration 3:   log pseudolikelihood = -24588.517  \n",
      "Iteration 4:   log pseudolikelihood = -24588.517  \n",
      "\n",
      "Logistic regression                             Number of obs     =     81,358\n",
      "                                                Wald chi2(14)     =     841.40\n",
      "                                                Prob > chi2       =     0.0000\n",
      "Log pseudolikelihood = -24588.517               Pseudo R2         =     0.0151\n",
      "\n",
      "                                                            (Std. Err. adjusted for 21 clusters in clustvar)\n",
      "------------------------------------------------------------------------------------------------------------\n",
      "                                           |               Robust\n",
      "                   painreliever_misuse_12m |      Coef.   Std. Err.      z    P>|z|     [95% Conf. Interval]\n",
      "-------------------------------------------+----------------------------------------------------------------\n",
      "                                        DD |  -.1411538   .0469926    -3.00   0.003    -.2332576     -.04905\n",
      "                                           |\n",
      "                                      AGE2 |\n",
      "         Respondent is 24 or 25 years old  |  -.1301409   .0244982    -5.31   0.000    -.1781566   -.0821253\n",
      "Respondent is between 26 and 29 years old  |  -.3382276   .0394442    -8.57   0.000    -.4155369   -.2609183\n",
      "                                           |\n",
      "                                      YEAR |\n",
      "                                     2009  |   .0007652   .0294885     0.03   0.979    -.0570311    .0585616\n",
      "                                     2010  |  -.0903508   .0477921    -1.89   0.059    -.1840215    .0033199\n",
      "                                     2011  |   .0112127   .0489448     0.23   0.819    -.0847173    .1071428\n",
      "                                     2012  |  -.0010485   .0431549    -0.02   0.981    -.0856305    .0835336\n",
      "                                     2013  |    -.17622   .0472537    -3.73   0.000    -.2688356   -.0836044\n",
      "                                     2014  |  -.3087861   .0574353    -5.38   0.000    -.4213572    -.196215\n",
      "                                           |\n",
      "                                    female |  -.3536648   .0265522   -13.32   0.000    -.4057061   -.3016234\n",
      "                                     black |  -.4911333   .0429568   -11.43   0.000    -.5753272   -.4069395\n",
      "                                  hispanic |  -.5004167   .0415632   -12.04   0.000     -.581879   -.4189543\n",
      "                                other_race |  -.3396503   .0380287    -8.93   0.000    -.4141852   -.2651154\n",
      "                         metropolitan_area |   .1246283   .0356875     3.49   0.000     .0546821    .1945745\n",
      "                                     _cons |  -1.793269   .0409255   -43.82   0.000    -1.873482   -1.713057\n",
      "------------------------------------------------------------------------------------------------------------\n"
     ]
    }
   ],
   "source": [
    "logit painreliever_misuse_12m DD i.AGE2 i.YEAR `xlist', vce(cluster clustvar)"
   ]
  },
  {
   "cell_type": "code",
   "execution_count": 18,
   "metadata": {},
   "outputs": [
    {
     "name": "stdout",
     "output_type": "stream",
     "text": [
      "\n",
      "Average marginal effects                        Number of obs     =     81,358\n",
      "Model VCE    : Robust\n",
      "\n",
      "Expression   : Pr(painreliever_misuse_12m), predict()\n",
      "dy/dx w.r.t. : DD female black hispanic other_race metropolitan_area\n",
      "\n",
      "-----------------------------------------------------------------------------------\n",
      "                  |            Delta-method\n",
      "                  |      dy/dx   Std. Err.      z    P>|z|     [95% Conf. Interval]\n",
      "------------------+----------------------------------------------------------------\n",
      "               DD |  -.0116676   .0038825    -3.01   0.003    -.0192773    -.004058\n",
      "           female |  -.0292336   .0022875   -12.78   0.000     -.033717   -.0247502\n",
      "            black |  -.0405966   .0034711   -11.70   0.000    -.0473998   -.0337934\n",
      "         hispanic |   -.041364   .0034863   -11.86   0.000    -.0481971   -.0345309\n",
      "       other_race |  -.0280752   .0032065    -8.76   0.000    -.0343599   -.0217905\n",
      "metropolitan_area |   .0103017   .0029331     3.51   0.000     .0045528    .0160505\n",
      "-----------------------------------------------------------------------------------\n"
     ]
    }
   ],
   "source": [
    "margins, dydx(DD `xlist') post"
   ]
  },
  {
   "cell_type": "code",
   "execution_count": 19,
   "metadata": {},
   "outputs": [
    {
     "name": "stdout",
     "output_type": "stream",
     "text": [
      "\n",
      "Iteration 0:   log pseudolikelihood = -12933.351  \n",
      "Iteration 1:   log pseudolikelihood = -12785.814  \n",
      "Iteration 2:   log pseudolikelihood =  -12782.07  \n",
      "Iteration 3:   log pseudolikelihood = -12782.067  \n",
      "Iteration 4:   log pseudolikelihood = -12782.067  \n",
      "\n",
      "Logistic regression                             Number of obs     =     81,461\n",
      "                                                Wald chi2(14)     =    1425.96\n",
      "                                                Prob > chi2       =     0.0000\n",
      "Log pseudolikelihood = -12782.067               Pseudo R2         =     0.0117\n",
      "\n",
      "                                                            (Std. Err. adjusted for 21 clusters in clustvar)\n",
      "------------------------------------------------------------------------------------------------------------\n",
      "                                           |               Robust\n",
      "                          painreliever_30d |      Coef.   Std. Err.      z    P>|z|     [95% Conf. Interval]\n",
      "-------------------------------------------+----------------------------------------------------------------\n",
      "                                        DD |  -.3076415   .0382097    -8.05   0.000    -.3825311   -.2327519\n",
      "                                           |\n",
      "                                      AGE2 |\n",
      "         Respondent is 24 or 25 years old  |  -.1174093   .0304924    -3.85   0.000    -.1771733   -.0576453\n",
      "Respondent is between 26 and 29 years old  |  -.3953198   .0337237   -11.72   0.000     -.461417   -.3292226\n",
      "                                           |\n",
      "                                      YEAR |\n",
      "                                     2009  |   .1207362   .0363885     3.32   0.001      .049416    .1920564\n",
      "                                     2010  |   .0141696    .052899     0.27   0.789    -.0895106    .1178497\n",
      "                                     2011  |   .1775135   .0480159     3.70   0.000     .0834039     .271623\n",
      "                                     2012  |   .1607825   .0383786     4.19   0.000     .0855618    .2360031\n",
      "                                     2013  |    .055524   .0432062     1.29   0.199    -.0291586    .1402066\n",
      "                                     2014  |  -.1545167   .0484382    -3.19   0.001    -.2494538   -.0595796\n",
      "                                           |\n",
      "                                    female |  -.3650781   .0398438    -9.16   0.000    -.4431704   -.2869858\n",
      "                                     black |  -.4033348   .0664887    -6.07   0.000    -.5336502   -.2730194\n",
      "                                  hispanic |  -.4529765   .0514628    -8.80   0.000    -.5538417   -.3521112\n",
      "                                other_race |  -.2712932   .0623523    -4.35   0.000    -.3935014    -.149085\n",
      "                         metropolitan_area |   .0667947   .0642504     1.04   0.299    -.0591338    .1927232\n",
      "                                     _cons |  -2.788441   .0579015   -48.16   0.000    -2.901926   -2.674956\n",
      "------------------------------------------------------------------------------------------------------------\n"
     ]
    }
   ],
   "source": [
    "logit painreliever_30d DD i.AGE2 i.YEAR `xlist', vce(cluster clustvar)"
   ]
  },
  {
   "cell_type": "code",
   "execution_count": 20,
   "metadata": {},
   "outputs": [
    {
     "name": "stdout",
     "output_type": "stream",
     "text": [
      "\n",
      "Average marginal effects                        Number of obs     =     81,461\n",
      "Model VCE    : Robust\n",
      "\n",
      "Expression   : Pr(painreliever_30d), predict()\n",
      "dy/dx w.r.t. : DD female black hispanic other_race metropolitan_area\n",
      "\n",
      "-----------------------------------------------------------------------------------\n",
      "                  |            Delta-method\n",
      "                  |      dy/dx   Std. Err.      z    P>|z|     [95% Conf. Interval]\n",
      "------------------+----------------------------------------------------------------\n",
      "               DD |  -.0109618   .0013765    -7.96   0.000    -.0136597   -.0082639\n",
      "           female |  -.0130084   .0014466    -8.99   0.000    -.0158436   -.0101731\n",
      "            black |  -.0143715   .0023861    -6.02   0.000    -.0190482   -.0096949\n",
      "         hispanic |  -.0161403   .0018535    -8.71   0.000    -.0197731   -.0125075\n",
      "       other_race |  -.0096667   .0022283    -4.34   0.000    -.0140341   -.0052992\n",
      "metropolitan_area |     .00238    .002287     1.04   0.298    -.0021024    .0068624\n",
      "-----------------------------------------------------------------------------------\n"
     ]
    }
   ],
   "source": [
    "margins, dydx(DD `xlist') post "
   ]
  },
  {
   "cell_type": "code",
   "execution_count": 23,
   "metadata": {},
   "outputs": [
    {
     "name": "stdout",
     "output_type": "stream",
     "text": [
      "\n",
      "Iteration 0:   log pseudolikelihood = -6049.7515  \n",
      "Iteration 1:   log pseudolikelihood = -5939.7791  \n",
      "Iteration 2:   log pseudolikelihood = -5931.9472  \n",
      "Iteration 3:   log pseudolikelihood = -5931.9097  \n",
      "Iteration 4:   log pseudolikelihood = -5931.9096  \n",
      "\n",
      "Logistic regression                             Number of obs     =     81,461\n",
      "                                                Wald chi2(14)     =     425.71\n",
      "                                                Prob > chi2       =     0.0000\n",
      "Log pseudolikelihood = -5931.9096               Pseudo R2         =     0.0195\n",
      "\n",
      "                                                            (Std. Err. adjusted for 21 clusters in clustvar)\n",
      "------------------------------------------------------------------------------------------------------------\n",
      "                                           |               Robust\n",
      "                   painreliever_dependence |      Coef.   Std. Err.      z    P>|z|     [95% Conf. Interval]\n",
      "-------------------------------------------+----------------------------------------------------------------\n",
      "                                        DD |  -.1892439   .1111865    -1.70   0.089    -.4071655    .0286777\n",
      "                                           |\n",
      "                                      AGE2 |\n",
      "         Respondent is 24 or 25 years old  |  -.0938782   .0497166    -1.89   0.059     -.191321    .0035646\n",
      "Respondent is between 26 and 29 years old  |  -.3550386   .0899644    -3.95   0.000    -.5313657   -.1787116\n",
      "                                           |\n",
      "                                      YEAR |\n",
      "                                     2009  |     .03634   .0819946     0.44   0.658    -.1243664    .1970464\n",
      "                                     2010  |   .0312535   .1073287     0.29   0.771    -.1791069    .2416138\n",
      "                                     2011  |   .3323248   .1116825     2.98   0.003      .113431    .5512186\n",
      "                                     2012  |   .4049115   .1124388     3.60   0.000     .1845355    .6252875\n",
      "                                     2013  |   .3133346   .1107849     2.83   0.005     .0962002    .5304689\n",
      "                                     2014  |   .1560223   .1368666     1.14   0.254    -.1122314     .424276\n",
      "                                           |\n",
      "                                    female |  -.2919615   .0707901    -4.12   0.000    -.4307076   -.1532154\n",
      "                                     black |  -1.286003   .1654528    -7.77   0.000    -1.610284   -.9617215\n",
      "                                  hispanic |  -.8151099   .1339588    -6.08   0.000    -1.077664   -.5525556\n",
      "                                other_race |  -.5011186   .1012541    -4.95   0.000     -.699573   -.3026641\n",
      "                         metropolitan_area |  -.0245624   .0942377    -0.26   0.794    -.2092648      .16014\n",
      "                                     _cons |  -3.803983   .0971103   -39.17   0.000    -3.994316    -3.61365\n",
      "------------------------------------------------------------------------------------------------------------\n"
     ]
    }
   ],
   "source": [
    "logit painreliever_dependence DD i.AGE2 i.YEAR `xlist', vce(cluster clustvar)"
   ]
  },
  {
   "cell_type": "code",
   "execution_count": 24,
   "metadata": {},
   "outputs": [
    {
     "name": "stdout",
     "output_type": "stream",
     "text": [
      "\n",
      "Average marginal effects                        Number of obs     =     81,461\n",
      "Model VCE    : Robust\n",
      "\n",
      "Expression   : Pr(painreliever_dependence), predict()\n",
      "dy/dx w.r.t. : DD female black hispanic other_race metropolitan_area\n",
      "\n",
      "-----------------------------------------------------------------------------------\n",
      "                  |            Delta-method\n",
      "                  |      dy/dx   Std. Err.      z    P>|z|     [95% Conf. Interval]\n",
      "------------------+----------------------------------------------------------------\n",
      "               DD |  -.0026313   .0015612    -1.69   0.092    -.0056911    .0004286\n",
      "           female |  -.0040594   .0010217    -3.97   0.000     -.006062   -.0020569\n",
      "            black |  -.0178806   .0021777    -8.21   0.000    -.0221488   -.0136125\n",
      "         hispanic |  -.0113333   .0018427    -6.15   0.000    -.0149449   -.0077218\n",
      "       other_race |  -.0069676   .0014279    -4.88   0.000    -.0097662   -.0041689\n",
      "metropolitan_area |  -.0003415   .0013103    -0.26   0.794    -.0029096    .0022266\n",
      "-----------------------------------------------------------------------------------\n"
     ]
    }
   ],
   "source": [
    "margins, dydx(DD `xlist') post"
   ]
  },
  {
   "cell_type": "code",
   "execution_count": 25,
   "metadata": {},
   "outputs": [
    {
     "name": "stdout",
     "output_type": "stream",
     "text": [
      "\n",
      "Iteration 0:   log pseudolikelihood = -1544.4481  \n",
      "Iteration 1:   log pseudolikelihood = -1527.2404  \n",
      "Iteration 2:   log pseudolikelihood = -1526.1417  \n",
      "Iteration 3:   log pseudolikelihood = -1526.1379  \n",
      "Iteration 4:   log pseudolikelihood = -1526.1379  \n",
      "\n",
      "Logistic regression                             Number of obs     =     81,461\n",
      "                                                Wald chi2(14)     =     236.83\n",
      "                                                Prob > chi2       =     0.0000\n",
      "Log pseudolikelihood = -1526.1379               Pseudo R2         =     0.0119\n",
      "\n",
      "                                                            (Std. Err. adjusted for 21 clusters in clustvar)\n",
      "------------------------------------------------------------------------------------------------------------\n",
      "                                           |               Robust\n",
      "                        painreliever_abuse |      Coef.   Std. Err.      z    P>|z|     [95% Conf. Interval]\n",
      "-------------------------------------------+----------------------------------------------------------------\n",
      "                                        DD |  -.2907598   .1713429    -1.70   0.090    -.6265858    .0450661\n",
      "                                           |\n",
      "                                      AGE2 |\n",
      "         Respondent is 24 or 25 years old  |  -.2944895   .1071218    -2.75   0.006    -.5044443   -.0845346\n",
      "Respondent is between 26 and 29 years old  |  -.5113995   .0915256    -5.59   0.000    -.6907863   -.3320127\n",
      "                                           |\n",
      "                                      YEAR |\n",
      "                                     2009  |  -.2480283   .1078463    -2.30   0.021    -.4594033   -.0366534\n",
      "                                     2010  |  -.5194742   .1438771    -3.61   0.000    -.8014682   -.2374803\n",
      "                                     2011  |  -.1911883   .1533929    -1.25   0.213    -.4918329    .1094562\n",
      "                                     2012  |  -.5016479   .2266541    -2.21   0.027    -.9458818   -.0574139\n",
      "                                     2013  |   -.284006   .1924055    -1.48   0.140    -.6611139    .0931019\n",
      "                                     2014  |  -.4742283   .2449765    -1.94   0.053    -.9543734    .0059168\n",
      "                                           |\n",
      "                                    female |  -.3810917   .1431076    -2.66   0.008    -.6615775    -.100606\n",
      "                                     black |  -.4177071   .2234826    -1.87   0.062     -.855725    .0203108\n",
      "                                  hispanic |  -.4184924   .1814768    -2.31   0.021    -.7741803   -.0628044\n",
      "                                other_race |  -.2828372   .1968268    -1.44   0.151    -.6686106    .1029361\n",
      "                         metropolitan_area |   .1283221   .1890995     0.68   0.497    -.2423061    .4989503\n",
      "                                     _cons |  -5.041639   .1844123   -27.34   0.000    -5.403081   -4.680198\n",
      "------------------------------------------------------------------------------------------------------------\n"
     ]
    }
   ],
   "source": [
    "logit painreliever_abuse DD i.AGE2 i.YEAR `xlist', vce(cluster clustvar) "
   ]
  },
  {
   "cell_type": "code",
   "execution_count": 27,
   "metadata": {},
   "outputs": [
    {
     "name": "stdout",
     "output_type": "stream",
     "text": [
      "\n",
      "Average marginal effects                        Number of obs     =     81,461\n",
      "Model VCE    : Robust\n",
      "\n",
      "Expression   : Pr(painreliever_abuse), predict()\n",
      "dy/dx w.r.t. : DD female black hispanic other_race metropolitan_area\n",
      "\n",
      "-----------------------------------------------------------------------------------\n",
      "                  |            Delta-method\n",
      "                  |      dy/dx   Std. Err.      z    P>|z|     [95% Conf. Interval]\n",
      "------------------+----------------------------------------------------------------\n",
      "               DD |  -.0007969   .0004708    -1.69   0.091    -.0017198    .0001259\n",
      "           female |  -.0010445   .0004054    -2.58   0.010    -.0018391     -.00025\n",
      "            black |  -.0011449   .0005981    -1.91   0.056    -.0023172    .0000274\n",
      "         hispanic |   -.001147   .0004913    -2.33   0.020      -.00211   -.0001841\n",
      "       other_race |  -.0007752   .0005467    -1.42   0.156    -.0018467    .0002962\n",
      "metropolitan_area |   .0003517   .0005206     0.68   0.499    -.0006686     .001372\n",
      "-----------------------------------------------------------------------------------\n"
     ]
    }
   ],
   "source": [
    "margins, dydx(DD `xlist') post"
   ]
  },
  {
   "cell_type": "code",
   "execution_count": 28,
   "metadata": {},
   "outputs": [
    {
     "name": "stdout",
     "output_type": "stream",
     "text": [
      "\n",
      "Iteration 0:   log pseudolikelihood = -6979.6911  \n",
      "Iteration 1:   log pseudolikelihood = -6865.6077  \n",
      "Iteration 2:   log pseudolikelihood = -6859.1284  \n",
      "Iteration 3:   log pseudolikelihood = -6859.1083  \n",
      "Iteration 4:   log pseudolikelihood = -6859.1083  \n",
      "\n",
      "Logistic regression                             Number of obs     =     81,461\n",
      "                                                Wald chi2(14)     =     594.84\n",
      "                                                Prob > chi2       =     0.0000\n",
      "Log pseudolikelihood = -6859.1083               Pseudo R2         =     0.0173\n",
      "\n",
      "                                                            (Std. Err. adjusted for 21 clusters in clustvar)\n",
      "------------------------------------------------------------------------------------------------------------\n",
      "                                           |               Robust\n",
      "                      anl_abuse_dependence |      Coef.   Std. Err.      z    P>|z|     [95% Conf. Interval]\n",
      "-------------------------------------------+----------------------------------------------------------------\n",
      "                                        DD |  -.2083644   .1060062    -1.97   0.049    -.4161328    -.000596\n",
      "                                           |\n",
      "                                      AGE2 |\n",
      "         Respondent is 24 or 25 years old  |  -.1275781   .0427036    -2.99   0.003    -.2112756   -.0438807\n",
      "Respondent is between 26 and 29 years old  |  -.3855943   .0790732    -4.88   0.000     -.540575   -.2306137\n",
      "                                           |\n",
      "                                      YEAR |\n",
      "                                     2009  |   -.026911    .053459    -0.50   0.615    -.1316887    .0778667\n",
      "                                     2010  |  -.0799138   .0950887    -0.84   0.401    -.2662841    .1064566\n",
      "                                     2011  |   .2286754   .1003154     2.28   0.023     .0320608    .4252901\n",
      "                                     2012  |   .2512678   .1046991     2.40   0.016     .0460613    .4564743\n",
      "                                     2013  |    .198452   .0913769     2.17   0.030     .0193567    .3775474\n",
      "                                     2014  |    .035748   .1361166     0.26   0.793    -.2310356    .3025315\n",
      "                                           |\n",
      "                                    female |   -.308002   .0531377    -5.80   0.000      -.41215    -.203854\n",
      "                                     black |   -1.10524   .1277952    -8.65   0.000    -1.355714   -.8547662\n",
      "                                  hispanic |  -.7483737    .119373    -6.27   0.000    -.9823406   -.5144069\n",
      "                                other_race |  -.4681295    .086337    -5.42   0.000    -.6373468   -.2989122\n",
      "                         metropolitan_area |  -.0011468   .0837155    -0.01   0.989    -.1652262    .1629326\n",
      "                                     _cons |  -3.528725   .0854799   -41.28   0.000    -3.696263   -3.361188\n",
      "------------------------------------------------------------------------------------------------------------\n"
     ]
    }
   ],
   "source": [
    "logit anl_abuse_dependence DD i.AGE2 i.YEAR `xlist', vce(cluster clustvar)"
   ]
  },
  {
   "cell_type": "code",
   "execution_count": 29,
   "metadata": {},
   "outputs": [
    {
     "name": "stdout",
     "output_type": "stream",
     "text": [
      "\n",
      "Average marginal effects                        Number of obs     =     81,461\n",
      "Model VCE    : Robust\n",
      "\n",
      "Expression   : Pr(anl_abuse_dependence), predict()\n",
      "dy/dx w.r.t. : DD female black hispanic other_race metropolitan_area\n",
      "\n",
      "-----------------------------------------------------------------------------------\n",
      "                  |            Delta-method\n",
      "                  |      dy/dx   Std. Err.      z    P>|z|     [95% Conf. Interval]\n",
      "------------------+----------------------------------------------------------------\n",
      "               DD |  -.0034504   .0017781    -1.94   0.052    -.0069355    .0000347\n",
      "           female |  -.0051003   .0009251    -5.51   0.000    -.0069135   -.0032871\n",
      "            black |  -.0183021   .0019825    -9.23   0.000    -.0221877   -.0144165\n",
      "         hispanic |  -.0123926   .0019874    -6.24   0.000    -.0162879   -.0084974\n",
      "       other_race |  -.0077519   .0014442    -5.37   0.000    -.0105825   -.0049214\n",
      "metropolitan_area |   -.000019   .0013863    -0.01   0.989    -.0027362    .0026982\n",
      "-----------------------------------------------------------------------------------\n"
     ]
    }
   ],
   "source": [
    "margins, dydx(DD `xlist') post"
   ]
  },
  {
   "cell_type": "code",
   "execution_count": 30,
   "metadata": {},
   "outputs": [],
   "source": [
    "// Treatment for Substance Abuse "
   ]
  },
  {
   "cell_type": "code",
   "execution_count": 31,
   "metadata": {},
   "outputs": [
    {
     "name": "stdout",
     "output_type": "stream",
     "text": [
      "\n",
      "Iteration 0:   log pseudolikelihood =  -1167.166  \n",
      "Iteration 1:   log pseudolikelihood = -1152.7786  \n",
      "Iteration 2:   log pseudolikelihood = -1152.6806  \n",
      "Iteration 3:   log pseudolikelihood = -1152.6806  \n",
      "\n",
      "Logistic regression                             Number of obs     =      2,168\n",
      "                                                Wald chi2(14)     =     197.33\n",
      "                                                Prob > chi2       =     0.0000\n",
      "Log pseudolikelihood = -1152.6806               Pseudo R2         =     0.0124\n",
      "\n",
      "                                                            (Std. Err. adjusted for 21 clusters in clustvar)\n",
      "------------------------------------------------------------------------------------------------------------\n",
      "                                           |               Robust\n",
      "                      inpatient_drug_treat |      Coef.   Std. Err.      z    P>|z|     [95% Conf. Interval]\n",
      "-------------------------------------------+----------------------------------------------------------------\n",
      "                                        DD |  -.2262961   .1487977    -1.52   0.128    -.5179341    .0653419\n",
      "                                           |\n",
      "                                      AGE2 |\n",
      "         Respondent is 24 or 25 years old  |  -.0937806     .05893    -1.59   0.112    -.2092813      .02172\n",
      "Respondent is between 26 and 29 years old  |   -.136737   .1259395    -1.09   0.278    -.3835739    .1100999\n",
      "                                           |\n",
      "                                      YEAR |\n",
      "                                     2009  |    .042023   .0873244     0.48   0.630    -.1291296    .2131756\n",
      "                                     2010  |   -.004145   .1475747    -0.03   0.978     -.293386     .285096\n",
      "                                     2011  |   .4167473   .1257214     3.31   0.001     .1703379    .6631567\n",
      "                                     2012  |   .5288203   .1683738     3.14   0.002     .1988138    .8588268\n",
      "                                     2013  |   .6254586   .1274909     4.91   0.000     .3755811    .8753361\n",
      "                                     2014  |   .5877735   .1383665     4.25   0.000     .3165802    .8589668\n",
      "                                           |\n",
      "                                    female |   .0470798   .1041052     0.45   0.651    -.1569627    .2511222\n",
      "                                     black |  -.3227525   .1668762    -1.93   0.053    -.6498239    .0043189\n",
      "                                  hispanic |  -.3366026   .1890918    -1.78   0.075    -.7072156    .0340105\n",
      "                                other_race |  -.3180499   .1132474    -2.81   0.005    -.5400107   -.0960892\n",
      "                         metropolitan_area |   .2829232   .1468941     1.93   0.054     -.004984    .5708303\n",
      "                                     _cons |  -1.489547   .1339085   -11.12   0.000    -1.752003   -1.227092\n",
      "------------------------------------------------------------------------------------------------------------\n"
     ]
    }
   ],
   "source": [
    "logit inpatient_drug_treat DD i.AGE2 i.YEAR `xlist', vce(cluster clustvar)"
   ]
  },
  {
   "cell_type": "code",
   "execution_count": 32,
   "metadata": {},
   "outputs": [
    {
     "name": "stdout",
     "output_type": "stream",
     "text": [
      "\n",
      "Average marginal effects                        Number of obs     =      2,168\n",
      "Model VCE    : Robust\n",
      "\n",
      "Expression   : Pr(inpatient_drug_treat), predict()\n",
      "dy/dx w.r.t. : DD female black hispanic other_race metropolitan_area\n",
      "\n",
      "-----------------------------------------------------------------------------------\n",
      "                  |            Delta-method\n",
      "                  |      dy/dx   Std. Err.      z    P>|z|     [95% Conf. Interval]\n",
      "------------------+----------------------------------------------------------------\n",
      "               DD |  -.0394524   .0260528    -1.51   0.130    -.0905149    .0116101\n",
      "           female |   .0082079   .0182151     0.45   0.652    -.0274931    .0439089\n",
      "            black |  -.0562686   .0286904    -1.96   0.050    -.1125008   -.0000364\n",
      "         hispanic |  -.0586832   .0328383    -1.79   0.074     -.123045    .0056786\n",
      "       other_race |  -.0554487   .0194702    -2.85   0.004    -.0936096   -.0172879\n",
      "metropolitan_area |   .0493248   .0254004     1.94   0.052    -.0004591    .0991086\n",
      "-----------------------------------------------------------------------------------\n"
     ]
    }
   ],
   "source": [
    "margins, dydx(DD `xlist') post "
   ]
  },
  {
   "cell_type": "code",
   "execution_count": 33,
   "metadata": {},
   "outputs": [
    {
     "name": "stdout",
     "output_type": "stream",
     "text": [
      "\n",
      "Iteration 0:   log pseudolikelihood = -1492.7629  \n",
      "Iteration 1:   log pseudolikelihood = -1460.2798  \n",
      "Iteration 2:   log pseudolikelihood = -1460.2394  \n",
      "Iteration 3:   log pseudolikelihood = -1460.2394  \n",
      "\n",
      "Logistic regression                             Number of obs     =      2,169\n",
      "                                                Wald chi2(14)     =     105.40\n",
      "                                                Prob > chi2       =     0.0000\n",
      "Log pseudolikelihood = -1460.2394               Pseudo R2         =     0.0218\n",
      "\n",
      "                                                            (Std. Err. adjusted for 21 clusters in clustvar)\n",
      "------------------------------------------------------------------------------------------------------------\n",
      "                                           |               Robust\n",
      "                     outpatient_drug_treat |      Coef.   Std. Err.      z    P>|z|     [95% Conf. Interval]\n",
      "-------------------------------------------+----------------------------------------------------------------\n",
      "                                        DD |   .3146557   .1317082     2.39   0.017     .0565124    .5727989\n",
      "                                           |\n",
      "                                      AGE2 |\n",
      "         Respondent is 24 or 25 years old  |   .1633728   .0706906     2.31   0.021     .0248218    .3019239\n",
      "Respondent is between 26 and 29 years old  |   .4799566   .1022711     4.69   0.000      .279509    .6804042\n",
      "                                           |\n",
      "                                      YEAR |\n",
      "                                     2009  |   .1042371   .1245757     0.84   0.403    -.1399268     .348401\n",
      "                                     2010  |   .1998972   .0753823     2.65   0.008     .0521507    .3476437\n",
      "                                     2011  |   .0657383   .1181028     0.56   0.578    -.1657389    .2972155\n",
      "                                     2012  |    .146999   .1333012     1.10   0.270    -.1142665    .4082646\n",
      "                                     2013  |   .0637177    .119674     0.53   0.594     -.170839    .2982743\n",
      "                                     2014  |    .063587   .1488197     0.43   0.669    -.2280943    .3552683\n",
      "                                           |\n",
      "                                    female |    .341191   .0731042     4.67   0.000     .1979093    .4844726\n",
      "                                     black |  -.5864958   .1205763    -4.86   0.000    -.8228211   -.3501705\n",
      "                                  hispanic |  -.5018894   .1618837    -3.10   0.002    -.8191756   -.1846032\n",
      "                                other_race |  -.3389132   .1702273    -1.99   0.046    -.6725526   -.0052738\n",
      "                         metropolitan_area |  -.0438232   .1096509    -0.40   0.689    -.2587351    .1710887\n",
      "                                     _cons |  -.5246224   .0983544    -5.33   0.000    -.7173935   -.3318513\n",
      "------------------------------------------------------------------------------------------------------------\n"
     ]
    }
   ],
   "source": [
    "logit outpatient_drug_treat DD i.AGE2 i.YEAR `xlist', vce(cluster clustvar)"
   ]
  },
  {
   "cell_type": "code",
   "execution_count": 34,
   "metadata": {},
   "outputs": [
    {
     "name": "stdout",
     "output_type": "stream",
     "text": [
      "\n",
      "Average marginal effects                        Number of obs     =      2,169\n",
      "Model VCE    : Robust\n",
      "\n",
      "Expression   : Pr(outpatient_drug_treat), predict()\n",
      "dy/dx w.r.t. : DD female black hispanic other_race metropolitan_area\n",
      "\n",
      "-----------------------------------------------------------------------------------\n",
      "                  |            Delta-method\n",
      "                  |      dy/dx   Std. Err.      z    P>|z|     [95% Conf. Interval]\n",
      "------------------+----------------------------------------------------------------\n",
      "               DD |   .0755891   .0315274     2.40   0.017     .0137967    .1373816\n",
      "           female |   .0819637   .0172176     4.76   0.000     .0482177    .1157096\n",
      "            black |  -.1408928      .0283    -4.98   0.000    -.1963598   -.0854257\n",
      "         hispanic |  -.1205679   .0383205    -3.15   0.002    -.1956748   -.0454611\n",
      "       other_race |  -.0814165    .040881    -1.99   0.046    -.1615417   -.0012912\n",
      "metropolitan_area |  -.0105276   .0263071    -0.40   0.689    -.0620886    .0410335\n",
      "-----------------------------------------------------------------------------------\n"
     ]
    }
   ],
   "source": [
    "margins, dydx(DD `xlist') post"
   ]
  },
  {
   "cell_type": "code",
   "execution_count": 35,
   "metadata": {},
   "outputs": [
    {
     "name": "stdout",
     "output_type": "stream",
     "text": [
      "\n",
      "Iteration 0:   log pseudolikelihood = -714.00026  \n",
      "Iteration 1:   log pseudolikelihood = -696.36215  \n",
      "Iteration 2:   log pseudolikelihood = -694.88924  \n",
      "Iteration 3:   log pseudolikelihood =  -694.8866  \n",
      "Iteration 4:   log pseudolikelihood =  -694.8866  \n",
      "\n",
      "Logistic regression                             Number of obs     =      6,208\n",
      "                                                Wald chi2(14)     =      92.29\n",
      "                                                Prob > chi2       =     0.0000\n",
      "Log pseudolikelihood =  -694.8866               Pseudo R2         =     0.0268\n",
      "\n",
      "                                                            (Std. Err. adjusted for 21 clusters in clustvar)\n",
      "------------------------------------------------------------------------------------------------------------\n",
      "                                           |               Robust\n",
      "                            emergency_room |      Coef.   Std. Err.      z    P>|z|     [95% Conf. Interval]\n",
      "-------------------------------------------+----------------------------------------------------------------\n",
      "                                        DD |  -.2701815   .3527923    -0.77   0.444    -.9616416    .4212787\n",
      "                                           |\n",
      "                                      AGE2 |\n",
      "         Respondent is 24 or 25 years old  |   .3562102   .1625156     2.19   0.028     .0376854     .674735\n",
      "Respondent is between 26 and 29 years old  |    -.17802   .3299207    -0.54   0.589    -.8246526    .4686127\n",
      "                                           |\n",
      "                                      YEAR |\n",
      "                                     2009  |   .0130281   .3221323     0.04   0.968    -.6183395    .6443958\n",
      "                                     2010  |  -.4737664   .3860138    -1.23   0.220     -1.23034    .2828068\n",
      "                                     2011  |    .449378   .3249829     1.38   0.167    -.1875767    1.086333\n",
      "                                     2012  |   .2395761   .3358166     0.71   0.476    -.4186124    .8977646\n",
      "                                     2013  |   .3523341   .3430363     1.03   0.304    -.3200047    1.024673\n",
      "                                     2014  |   .7586699   .3093221     2.45   0.014     .1524098     1.36493\n",
      "                                           |\n",
      "                                    female |   .5105945   .1725091     2.96   0.003     .1724829    .8487061\n",
      "                                     black |  -.9062081   .3714942    -2.44   0.015    -1.634323   -.1780928\n",
      "                                  hispanic |  -.1995616   .2068649    -0.96   0.335    -.6050093    .2058861\n",
      "                                other_race |  -.2841744   .3175885    -0.89   0.371    -.9066364    .3382875\n",
      "                         metropolitan_area |   .5643436   .2235522     2.52   0.012     .1261894    1.002498\n",
      "                                     _cons |   -4.45559   .3781502   -11.78   0.000    -5.196751   -3.714429\n",
      "------------------------------------------------------------------------------------------------------------\n"
     ]
    }
   ],
   "source": [
    "logit emergency_room DD i.AGE2 i.YEAR `xlist', vce(cluster clustvar)"
   ]
  },
  {
   "cell_type": "code",
   "execution_count": 36,
   "metadata": {},
   "outputs": [
    {
     "name": "stdout",
     "output_type": "stream",
     "text": [
      "\n",
      "Average marginal effects                        Number of obs     =      6,208\n",
      "Model VCE    : Robust\n",
      "\n",
      "Expression   : Pr(emergency_room), predict()\n",
      "dy/dx w.r.t. : DD female black hispanic other_race metropolitan_area\n",
      "\n",
      "-----------------------------------------------------------------------------------\n",
      "                  |            Delta-method\n",
      "                  |      dy/dx   Std. Err.      z    P>|z|     [95% Conf. Interval]\n",
      "------------------+----------------------------------------------------------------\n",
      "               DD |  -.0064111   .0084033    -0.76   0.446    -.0228812     .010059\n",
      "           female |   .0121158   .0042683     2.84   0.005     .0037501    .0204815\n",
      "            black |  -.0215033   .0090259    -2.38   0.017    -.0391938   -.0038128\n",
      "         hispanic |  -.0047354   .0048199    -0.98   0.326    -.0141821    .0047114\n",
      "       other_race |  -.0067431   .0076844    -0.88   0.380    -.0218042     .008318\n",
      "metropolitan_area |   .0133912     .00531     2.52   0.012     .0029839    .0237986\n",
      "-----------------------------------------------------------------------------------\n"
     ]
    }
   ],
   "source": [
    "margins, dydx(DD `xlist') post "
   ]
  },
  {
   "cell_type": "code",
   "execution_count": 37,
   "metadata": {},
   "outputs": [
    {
     "name": "stdout",
     "output_type": "stream",
     "text": [
      "\n",
      "Iteration 0:   log pseudolikelihood = -1335.0999  \n",
      "Iteration 1:   log pseudolikelihood = -1254.4111  \n",
      "Iteration 2:   log pseudolikelihood = -1252.2844  \n",
      "Iteration 3:   log pseudolikelihood = -1252.2759  \n",
      "Iteration 4:   log pseudolikelihood = -1252.2759  \n",
      "\n",
      "Logistic regression                             Number of obs     =      2,162\n",
      "                                                Wald chi2(14)     =    4559.85\n",
      "                                                Prob > chi2       =     0.0000\n",
      "Log pseudolikelihood = -1252.2759               Pseudo R2         =     0.0620\n",
      "\n",
      "                                                            (Std. Err. adjusted for 21 clusters in clustvar)\n",
      "------------------------------------------------------------------------------------------------------------\n",
      "                                           |               Robust\n",
      "                          opioid_treatment |      Coef.   Std. Err.      z    P>|z|     [95% Conf. Interval]\n",
      "-------------------------------------------+----------------------------------------------------------------\n",
      "                                        DD |   .0559561   .1844536     0.30   0.762    -.3055663    .4174785\n",
      "                                           |\n",
      "                                      AGE2 |\n",
      "         Respondent is 24 or 25 years old  |  -.1353006   .0704479    -1.92   0.055    -.2733759    .0027748\n",
      "Respondent is between 26 and 29 years old  |   .0085245   .1656854     0.05   0.959    -.3162128    .3332619\n",
      "                                           |\n",
      "                                      YEAR |\n",
      "                                     2009  |   .2961621   .1113532     2.66   0.008     .0779138    .5144105\n",
      "                                     2010  |   .4651864   .1294103     3.59   0.000     .2115469    .7188259\n",
      "                                     2011  |   .7060261   .1498082     4.71   0.000     .4124074    .9996447\n",
      "                                     2012  |   .8161301   .1771922     4.61   0.000     .4688398     1.16342\n",
      "                                     2013  |   .6349678   .1499031     4.24   0.000     .3411632    .9287725\n",
      "                                     2014  |   .7147835   .1684122     4.24   0.000     .3847017    1.044865\n",
      "                                           |\n",
      "                                    female |   .4385989   .0860921     5.09   0.000     .2698615    .6073362\n",
      "                                     black |  -1.556197   .2103095    -7.40   0.000    -1.968396   -1.143998\n",
      "                                  hispanic |  -1.019979   .1381996    -7.38   0.000    -1.290846   -.7491132\n",
      "                                other_race |  -.5992407   .1848901    -3.24   0.001    -.9616187   -.2368627\n",
      "                         metropolitan_area |  -.0131734   .1069562    -0.12   0.902    -.2228036    .1964568\n",
      "                                     _cons |  -1.164196   .1180484    -9.86   0.000    -1.395567   -.9328255\n",
      "------------------------------------------------------------------------------------------------------------\n"
     ]
    }
   ],
   "source": [
    "logit opioid_treatment DD i.AGE2 i.YEAR `xlist', vce(cluster clustvar)"
   ]
  },
  {
   "cell_type": "code",
   "execution_count": 38,
   "metadata": {},
   "outputs": [
    {
     "name": "stdout",
     "output_type": "stream",
     "text": [
      "\n",
      "Average marginal effects                        Number of obs     =      2,162\n",
      "Model VCE    : Robust\n",
      "\n",
      "Expression   : Pr(opioid_treatment), predict()\n",
      "dy/dx w.r.t. : DD female black hispanic other_race metropolitan_area\n",
      "\n",
      "-----------------------------------------------------------------------------------\n",
      "                  |            Delta-method\n",
      "                  |      dy/dx   Std. Err.      z    P>|z|     [95% Conf. Interval]\n",
      "------------------+----------------------------------------------------------------\n",
      "               DD |   .0110706    .036488     0.30   0.762    -.0604446    .0825859\n",
      "           female |   .0867747   .0168438     5.15   0.000     .0537615    .1197879\n",
      "            black |  -.3078862    .041638    -7.39   0.000    -.3894953   -.2262771\n",
      "         hispanic |   -.201798   .0271662    -7.43   0.000    -.2550428   -.1485533\n",
      "       other_race |  -.1185569   .0362967    -3.27   0.001    -.1896972   -.0474166\n",
      "metropolitan_area |  -.0026063   .0211763    -0.12   0.902    -.0441111    .0388985\n",
      "-----------------------------------------------------------------------------------\n"
     ]
    }
   ],
   "source": [
    "margins, dydx(DD `xlist') post "
   ]
  },
  {
   "cell_type": "code",
   "execution_count": null,
   "metadata": {},
   "outputs": [],
   "source": []
  }
 ],
 "metadata": {
  "kernelspec": {
   "display_name": "Stata",
   "language": "stata",
   "name": "stata"
  },
  "language_info": {
   "codemirror_mode": "stata",
   "file_extension": ".do",
   "mimetype": "text/x-stata",
   "name": "stata",
   "version": "15.1"
  }
 },
 "nbformat": 4,
 "nbformat_minor": 2
}
